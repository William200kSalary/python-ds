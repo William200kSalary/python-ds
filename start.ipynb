{
 "cells": [
  {
   "cell_type": "raw",
   "id": "27b7466a-1dd7-4ac3-97be-773f3188b359",
   "metadata": {},
   "source": [
    "# Python Notes\n"
   ]
  },
  {
   "cell_type": "markdown",
   "id": "02e11bca-6b54-44d1-bb63-d58b3724879e",
   "metadata": {},
   "source": [
    "## CHAPTER 2: Variables and simple data types"
   ]
  },
  {
   "cell_type": "code",
   "execution_count": 89,
   "id": "4a203382-1a70-4f2c-9f6e-8cf6a12311fd",
   "metadata": {},
   "outputs": [
    {
     "ename": "NameError",
     "evalue": "name 'mesage' is not defined",
     "output_type": "error",
     "traceback": [
      "\u001b[1;31m---------------------------------------------------------------------------\u001b[0m",
      "\u001b[1;31mNameError\u001b[0m                                 Traceback (most recent call last)",
      "Cell \u001b[1;32mIn[89], line 2\u001b[0m\n\u001b[0;32m      1\u001b[0m message \u001b[38;5;241m=\u001b[39m \u001b[38;5;124m\"\u001b[39m\u001b[38;5;124mHi!\u001b[39m\u001b[38;5;124m\"\u001b[39m\n\u001b[1;32m----> 2\u001b[0m \u001b[38;5;28mprint\u001b[39m(mesage)\n",
      "\u001b[1;31mNameError\u001b[0m: name 'mesage' is not defined"
     ]
    }
   ],
   "source": [
    "message = \"Hi!\"\n",
    "print(mesage)"
   ]
  },
  {
   "cell_type": "markdown",
   "id": "f1512df8-cc38-4ab9-b143-55b2afda2d6c",
   "metadata": {},
   "source": [
    "### Its best to think of variables as  lables that you can assign to values, or that a variable references a certin value"
   ]
  },
  {
   "cell_type": "code",
   "execution_count": 92,
   "id": "ebe8b4ba-5dfe-4e01-b6a3-dc9da15a9f38",
   "metadata": {},
   "outputs": [
    {
     "name": "stdout",
     "output_type": "stream",
     "text": [
      "Hello william!\n",
      "Hello King\n"
     ]
    }
   ],
   "source": [
    "message = \"Hello william!\"\n",
    "print(message)\n",
    "message = \"Hello King\"\n",
    "print(message)"
   ]
  },
  {
   "cell_type": "markdown",
   "id": "886eb3ea-c367-429d-8f6b-8e495fb7b38a",
   "metadata": {},
   "source": [
    "In python, you can reassign variables by just re setting them, and the code runs line by line"
   ]
  },
  {
   "cell_type": "markdown",
   "id": "c51bcdcc-8384-4262-ab1b-98862c6d05fe",
   "metadata": {},
   "source": [
    "------------------------------------------------------------------------------------------------------------------------------------------------------------------------------------------------------------"
   ]
  },
  {
   "cell_type": "markdown",
   "id": "df288171-a81d-4fdf-ab02-4bf3907b1a04",
   "metadata": {},
   "source": [
    "## Strings are a serise of characters, anytinh inside double or single qoutes are considerd strings"
   ]
  },
  {
   "cell_type": "markdown",
   "id": "8d4fad25-baee-41b4-9471-a453cea12917",
   "metadata": {},
   "source": [
    "\"This is a string\"\n",
    "'This is also a string'"
   ]
  },
  {
   "cell_type": "markdown",
   "id": "a7c8c8f2-85d7-425f-86f7-5e5f36814c40",
   "metadata": {},
   "source": [
    "This flexiliby allows u to use qoutes and apostrophes within ur strings: 'I told my hb, \"Python is a good language!\"'"
   ]
  },
  {
   "cell_type": "markdown",
   "id": "bff6bf33-9d50-42e7-afe4-ad3cd501b017",
   "metadata": {},
   "source": [
    "## Changing  case in a string with methods"
   ]
  },
  {
   "cell_type": "code",
   "execution_count": 100,
   "id": "74fca0ad-977e-42c9-ab3b-443385a39750",
   "metadata": {},
   "outputs": [
    {
     "name": "stdout",
     "output_type": "stream",
     "text": [
      "William Nguyen\n"
     ]
    }
   ],
   "source": [
    "name = \"william nguyen\"\n",
    "print(name.title())"
   ]
  },
  {
   "cell_type": "markdown",
   "id": "1300997a-e31f-457c-b7ce-35c6ade27ff8",
   "metadata": {},
   "source": [
    "A method is  an action that python can prform on a peice of data (This title method changes each word to title case)"
   ]
  },
  {
   "cell_type": "markdown",
   "id": "02af081b-04ed-4d6a-9002-5f244e5eaf76",
   "metadata": {},
   "source": [
    "### Other methods dealing with case are : "
   ]
  },
  {
   "cell_type": "code",
   "execution_count": 104,
   "id": "7b3f635a-b56d-4c70-bb82-4024b7a0970b",
   "metadata": {},
   "outputs": [
    {
     "name": "stdout",
     "output_type": "stream",
     "text": [
      "WILLIAM NGUYEN\n",
      "william nguyen\n"
     ]
    }
   ],
   "source": [
    "name = \"William Nguyen\"\n",
    "print(name.upper())\n",
    "print(name.lower())"
   ]
  },
  {
   "cell_type": "markdown",
   "id": "a5333922-324f-414a-8563-9c03897db391",
   "metadata": {},
   "source": [
    "------------------------------------------------------------------------------------------------------------------------------------------------------------------------------------------------------------"
   ]
  },
  {
   "cell_type": "markdown",
   "id": "85273cf7-c331-4ef5-a059-00b8fabfd1f9",
   "metadata": {},
   "source": [
    "## Using varibles in strings"
   ]
  },
  {
   "cell_type": "raw",
   "id": "b1dbbc45-76a3-469f-a31b-ef18340ced2d",
   "metadata": {},
   "source": [
    "Somtimes, youll want to use a var's value inside a string. Ex: u might want to use 2 vars to represent a frist and last name, then combine those 2 valyes to display a full name:"
   ]
  },
  {
   "cell_type": "code",
   "execution_count": 108,
   "id": "c34fdfb6-23ed-4d83-be2e-1728fba2bf22",
   "metadata": {},
   "outputs": [
    {
     "name": "stdout",
     "output_type": "stream",
     "text": [
      "Carl Bob\n"
     ]
    }
   ],
   "source": [
    "f_name = \"Carl\"\n",
    "l_name = \"Bob\"\n",
    "fullname = f\"{f_name} {l_name}\"\n",
    "print(fullname)"
   ]
  },
  {
   "cell_type": "markdown",
   "id": "e31a0ad5-71d9-48a3-9647-8fe2c0f29efe",
   "metadata": {},
   "source": [
    "To add a var's name into a strring place \"f\" before the opening qoutation mark, then add braces around the name of any varible u want to use inside a string. (These strings are called F srtings and f is for format)"
   ]
  },
  {
   "cell_type": "code",
   "execution_count": 111,
   "id": "a7859cfc-2b16-42e5-9865-da18eb9fbf88",
   "metadata": {},
   "outputs": [
    {
     "name": "stdout",
     "output_type": "stream",
     "text": [
      "Hello, CARL BOB\n"
     ]
    }
   ],
   "source": [
    "f_name = \"Carl\"\n",
    "l_name = \"Bob\"\n",
    "fullname = f\"{f_name} {l_name}\"\n",
    "print(f\"Hello, {fullname.upper()}\")"
   ]
  },
  {
   "cell_type": "markdown",
   "id": "e233da8d-9da2-48e0-a5d9-70248cd5dcdd",
   "metadata": {},
   "source": [
    "### The code above uses f-strings to  compose a compelte message  using infomation assccoated with vars, adding the upper method to the full name var being inserted into the string"
   ]
  },
  {
   "cell_type": "markdown",
   "id": "3c087d26-163d-4b52-8e1c-566de7a36809",
   "metadata": {},
   "source": [
    "---------------------------------------------------------------------------------------------------------------------------------------------------------"
   ]
  },
  {
   "cell_type": "markdown",
   "id": "993dae12-dc9c-4d0a-899f-800590b7eeac",
   "metadata": {},
   "source": [
    "## In programming, whitespace refers to any non printing chars like spaces or tabs. It can be used to organzie ur output so it is easier for users to read"
   ]
  },
  {
   "cell_type": "markdown",
   "id": "dfd098f1-051e-4154-9612-15946799d554",
   "metadata": {},
   "source": [
    "### To add a tab to ur output, use the character combination \\t to ur text, and to add a new line add \\n"
   ]
  },
  {
   "cell_type": "code",
   "execution_count": 117,
   "id": "25ee0f02-9e72-4b93-975f-47fbb4ace898",
   "metadata": {},
   "outputs": [
    {
     "name": "stdout",
     "output_type": "stream",
     "text": [
      "Python\n",
      "\tPython\n",
      "Python\n",
      "Java\n",
      "Javascript\n"
     ]
    }
   ],
   "source": [
    "print(\"Python\")\n",
    "print(\"\\tPython\")\n",
    "print(\"Python\\nJava\\nJavascript\")"
   ]
  },
  {
   "cell_type": "raw",
   "id": "d995fae0-a6e1-4dc4-a016-ae5aac0b664a",
   "metadata": {},
   "source": [
    "You can also combine \\t and \\n together to tell python to move to a new line, then tab (\\n\\t)"
   ]
  },
  {
   "cell_type": "markdown",
   "id": "5609cf2c-799e-4efe-8582-abfb7d0af803",
   "metadata": {},
   "source": [
    "### To strip white space such as a \" \" in a string, use the .strip() method at the end of a varible:"
   ]
  },
  {
   "cell_type": "code",
   "execution_count": 120,
   "id": "00248b87-eb90-4fa8-80f5-4076559f4097",
   "metadata": {},
   "outputs": [
    {
     "name": "stdout",
     "output_type": "stream",
     "text": [
      "python \n",
      "python\n"
     ]
    }
   ],
   "source": [
    "fav_lang = \"python \"\n",
    "print(fav_lang)\n",
    "fav_lang2 = fav_lang.strip()\n",
    "print(fav_lang2)"
   ]
  },
  {
   "cell_type": "raw",
   "id": "9be35c10-0cad-4c68-b4a4-2e4d4b7bd241",
   "metadata": {},
   "source": [
    "Addding the method without setting the output equal to a var only temporaly removes white space"
   ]
  },
  {
   "cell_type": "markdown",
   "id": "63757035-fe29-436b-8a3f-ef113c5dca1f",
   "metadata": {},
   "source": [
    "---------------------------------------------------------------------------------------------------------------------------------------------------------------------------------------------------------------------------------------------------------------"
   ]
  },
  {
   "cell_type": "markdown",
   "id": "4442be48-967a-4263-affd-017230cfd482",
   "metadata": {},
   "source": [
    "##  when working with strigns a common task is to remove prefixes. You can do this with the .removeprefix(\"\") method, where the desired prefix goes in the ()"
   ]
  },
  {
   "cell_type": "code",
   "execution_count": 124,
   "id": "6bf05a9e-3260-40f4-8d62-22e7f6dcca18",
   "metadata": {},
   "outputs": [
    {
     "name": "stdout",
     "output_type": "stream",
     "text": [
      "google.com\n"
     ]
    }
   ],
   "source": [
    "url = \"https://google.com\"\n",
    "cutUrl = url.removeprefix('https://')\n",
    "print(cutUrl)"
   ]
  },
  {
   "cell_type": "markdown",
   "id": "64d72817-90f2-46b9-b5c0-77a3ef7abb70",
   "metadata": {},
   "source": [
    "### Syntax errors are the most board errors in python, it occurs when python dosent reconize a sewction of ur program as valid code"
   ]
  },
  {
   "cell_type": "markdown",
   "id": "683a95b0-dc18-4031-9029-63c21cab15ad",
   "metadata": {},
   "source": [
    "________________________________________________________________________________________________________________________________________________________"
   ]
  },
  {
   "cell_type": "markdown",
   "id": "fc8838ed-31e9-4e3f-8f87-39bd93612135",
   "metadata": {},
   "source": [
    "# NUMBERS: They are used often in many ways such as data in visulations. Lets fiurst look at how python manges integers since they are ther simpliest"
   ]
  },
  {
   "cell_type": "markdown",
   "id": "2874e3fe-bc1a-488b-b7a3-9c2816025fa7",
   "metadata": {
    "scrolled": true
   },
   "source": [
    "You can + - * ** / integers in python and u are agble to use () to change the order of operations"
   ]
  },
  {
   "cell_type": "markdown",
   "id": "df6954cd-ab07-42d2-ac6a-aaa6ae8f21bf",
   "metadata": {},
   "source": [
    "### Floats are any number with a decimal point, which refers to the fact that a decimal point can appear at any postiino in a number. For the most part u can use floats withput worring about how they behave."
   ]
  },
  {
   "cell_type": "code",
   "execution_count": 131,
   "id": "2ca7a9e2-0de7-4d14-a792-f916f69da050",
   "metadata": {},
   "outputs": [
    {
     "data": {
      "text/plain": [
       "0.30000000000000004"
      ]
     },
     "execution_count": 131,
     "metadata": {},
     "output_type": "execute_result"
    }
   ],
   "source": [
    "0.1 + 0.2"
   ]
  },
  {
   "cell_type": "code",
   "execution_count": 133,
   "id": "60193ca3-2f29-4be2-896e-5b8b64e3c7b5",
   "metadata": {},
   "outputs": [
    {
     "data": {
      "text/plain": [
       "0.2"
      ]
     },
     "execution_count": 133,
     "metadata": {},
     "output_type": "execute_result"
    }
   ],
   "source": [
    "0.1 + 0.1"
   ]
  },
  {
   "cell_type": "markdown",
   "id": "d5db1bcd-67e7-4809-95dd-24fb8f0664d4",
   "metadata": {},
   "source": [
    "### Be aware that u can get an arbitrary number of decial places in ur answers."
   ]
  },
  {
   "cell_type": "raw",
   "id": "156d4c36-5f5e-47a8-938a-89a0f958370d",
   "metadata": {},
   "source": [
    "If u mix an int and float in any other operation, you'll alwatys get a float as the output and divindg with 2 int also gives u a float even if ur ans is a whole number"
   ]
  },
  {
   "cell_type": "markdown",
   "id": "14ab1aca-c649-4bb8-8191-3cde622b0cd0",
   "metadata": {},
   "source": [
    "### You can use underscores when repreents #'s to make them more read able. When u print a # that was defined with _'s, python ignores them, this feature works on ints and floats"
   ]
  },
  {
   "cell_type": "code",
   "execution_count": 137,
   "id": "b0690c99-6cee-47ab-9cc7-b009eb255e69",
   "metadata": {},
   "outputs": [
    {
     "name": "stdout",
     "output_type": "stream",
     "text": [
      "10000000\n",
      "10000000\n"
     ]
    }
   ],
   "source": [
    "myNymber = 10_000_000\n",
    "urNumber = 100000_00\n",
    "print(myNymber)\n",
    "print(urNumber)"
   ]
  },
  {
   "cell_type": "markdown",
   "id": "675da6ab-e3e6-4d3b-847c-281470bd70ed",
   "metadata": {},
   "source": [
    "------------------------------------------------------------------------------------------------------------------------------------------------------------"
   ]
  },
  {
   "cell_type": "markdown",
   "id": "862487d2-acee-416a-abcd-aabfbb5c1b65",
   "metadata": {},
   "source": [
    "## Multiple assignment"
   ]
  },
  {
   "cell_type": "markdown",
   "id": "5229c09d-325b-43f0-ba57-da74d554af40",
   "metadata": {},
   "source": [
    "yOU CAN AGGIN VALUES to > 1 values using one line of code. Ex:"
   ]
  },
  {
   "cell_type": "code",
   "execution_count": 142,
   "id": "e7af341d-c876-4978-9c6e-88f53471cc82",
   "metadata": {},
   "outputs": [
    {
     "name": "stdout",
     "output_type": "stream",
     "text": [
      "100\n",
      "1\n"
     ]
    }
   ],
   "source": [
    "x, y ,x = 12, 1, 100\n",
    "print(x)\n",
    "print(y)"
   ]
  },
  {
   "cell_type": "markdown",
   "id": "16e56c1b-8dd8-4987-8334-dde91e270f6f",
   "metadata": {},
   "source": [
    "## Constants are a var whos value should never chnage in a program and programmer  use all capital letters to indicate a var should be treated as a constant"
   ]
  },
  {
   "cell_type": "markdown",
   "id": "822324dc-a805-4a47-a0c1-cc0520970205",
   "metadata": {},
   "source": [
    "## Comments are used to explain your work, or what a peice of code does, in python, to comment a line you type \"#\" anythign after it is treated as a comment"
   ]
  },
  {
   "cell_type": "markdown",
   "id": "76f661ed-a2b5-4616-8e6b-7f3366463d58",
   "metadata": {},
   "source": [
    "----------------------------------------------------------------------------------------------------------------------------------------------------------------"
   ]
  },
  {
   "cell_type": "markdown",
   "id": "0c8e7195-427c-4aea-88bd-0b6308a1a02e",
   "metadata": {},
   "source": [
    "# CHAPTER 3: Introducing lists"
   ]
  },
  {
   "cell_type": "markdown",
   "id": "1d6e5102-c6f0-4de0-9b2e-04be14af1cb7",
   "metadata": {},
   "source": [
    "## Lists are a collection of items in a particaular order, and allow u to store sets of info in one place.In python, [] indicate a list and indivdual elemnts in a list a sepeated by commas"
   ]
  },
  {
   "cell_type": "code",
   "execution_count": 149,
   "id": "7227eaa0-47ad-4fa5-a006-fbe314a8ca78",
   "metadata": {},
   "outputs": [
    {
     "name": "stdout",
     "output_type": "stream",
     "text": [
      "['toyota', 'lambo', 'porchse']\n"
     ]
    }
   ],
   "source": [
    "cars = [\"toyota\", \"lambo\", \"porchse\"]\n",
    "print(cars)"
   ]
  },
  {
   "cell_type": "markdown",
   "id": "494fcab9-435d-48ad-8407-341859cc2b18",
   "metadata": {},
   "source": [
    "Since this output isnt what u want ur users to seem lets learn to access individual items in a list"
   ]
  },
  {
   "cell_type": "raw",
   "id": "21b9da27-0682-4086-ad24-c8503be36625",
   "metadata": {},
   "source": [
    "To accesa specfic item in a list, you get its index # which starts at 0"
   ]
  },
  {
   "cell_type": "code",
   "execution_count": 152,
   "id": "3ff728bc-4705-445f-afa6-941f2ec904e2",
   "metadata": {},
   "outputs": [
    {
     "name": "stdout",
     "output_type": "stream",
     "text": [
      "Lambo\n"
     ]
    }
   ],
   "source": [
    "print(cars[1].title())"
   ]
  },
  {
   "cell_type": "markdown",
   "id": "12bba0d4-33c1-4168-b62a-3839bd1bf49f",
   "metadata": {},
   "source": [
    "Python also has special syntax for fetching the last item in a list with the item at index [-1], and [-2] gets the 2nd to last item and so on"
   ]
  },
  {
   "cell_type": "markdown",
   "id": "b7cbaedc-0692-4e5e-a5b3-78b203bde978",
   "metadata": {},
   "source": [
    "### modifying, adding, and removing elements"
   ]
  },
  {
   "cell_type": "markdown",
   "id": "1869979f-74e9-4dc9-a55a-08e2f9e1d7b6",
   "metadata": {},
   "source": [
    "most lists u make will be dynamic which means that elements will change from the original list"
   ]
  },
  {
   "cell_type": "code",
   "execution_count": 157,
   "id": "a5b1d2b0-828e-4ca0-9a98-3038484e49ed",
   "metadata": {},
   "outputs": [
    {
     "name": "stdout",
     "output_type": "stream",
     "text": [
      "['train', 'lambo', 'porchse']\n"
     ]
    }
   ],
   "source": [
    "cars = [\"toyota\", \"lambo\", \"porchse\"]\n",
    "cars[0] = \"train\"\n",
    "print(cars)"
   ]
  },
  {
   "cell_type": "markdown",
   "id": "1343d01a-2f7a-42dc-848a-6e8ecf7b2557",
   "metadata": {},
   "source": [
    "chANGE the value of 1st element"
   ]
  },
  {
   "cell_type": "markdown",
   "id": "595c050f-8fcf-4f3a-8c30-82fa6f5149f8",
   "metadata": {},
   "source": [
    "#### Too add an elemnt to the end of a list, use the .append(\"\") andput the new elemnt in the ()"
   ]
  },
  {
   "cell_type": "raw",
   "id": "a6257745-cb6e-4e70-af41-d25c367703d5",
   "metadata": {},
   "source": [
    "this method makes it easy to build lists dynamically:"
   ]
  },
  {
   "cell_type": "code",
   "execution_count": 161,
   "id": "f800a540-bd71-42eb-b15b-d0ec278a1bb2",
   "metadata": {},
   "outputs": [
    {
     "name": "stdout",
     "output_type": "stream",
     "text": [
      "['1', '2', '3']\n"
     ]
    }
   ],
   "source": [
    "numbers_append = []\n",
    "numbers_append.append(\"1\")\n",
    "numbers_append.append(\"2\")\n",
    "numbers_append.append(\"3\")\n",
    "print(numbers_append)"
   ]
  },
  {
   "cell_type": "markdown",
   "id": "522c4326-cf38-470e-9736-3f76f144c214",
   "metadata": {},
   "source": [
    "#### To insert an elemnt anywhere in a list, use the .insert(#, \"\") where the first paramter is the index # and the \"\" is what tyou will be adding to the list"
   ]
  },
  {
   "cell_type": "code",
   "execution_count": 164,
   "id": "62cc1b62-bce8-453d-bdaf-88f7359c08d5",
   "metadata": {},
   "outputs": [
    {
     "name": "stdout",
     "output_type": "stream",
     "text": [
      "['1', 1.5, '2', '3']\n"
     ]
    }
   ],
   "source": [
    "numbers_append.insert(1, 1.5)\n",
    "print(numbers_append)"
   ]
  },
  {
   "cell_type": "markdown",
   "id": "ccdcc473-a5b7-4cf8-80f7-0d5b75f086a3",
   "metadata": {},
   "source": [
    "#### Too remove elements when u remove data from a table, or when a user decides to cancle their account on a web app, use the del STATEMNT"
   ]
  },
  {
   "cell_type": "code",
   "execution_count": 167,
   "id": "041cd22b-f5c9-417e-b309-2fe97c4a718f",
   "metadata": {},
   "outputs": [
    {
     "name": "stdout",
     "output_type": "stream",
     "text": [
      "['1', 1.5, '2']\n"
     ]
    }
   ],
   "source": [
    "del numbers_append[3]\n",
    "print(numbers_append)"
   ]
  },
  {
   "cell_type": "markdown",
   "id": "8cc644ab-2216-4e1f-8a26-8d9973c39305",
   "metadata": {},
   "source": [
    " ## The .pop() method is very imporatant in python, as sometimes youll want to use the value of an item after u rmeove it from a list. Ex: getting the x,y position of a daleted  alien in a game, so u can draw an explosion at that point. The pop method rmeoves lasrt item in a list, but lets u work with it"
   ]
  },
  {
   "cell_type": "code",
   "execution_count": 169,
   "id": "d3d1c1e5-09c1-4ac0-8958-a8958d95f353",
   "metadata": {},
   "outputs": [
    {
     "name": "stdout",
     "output_type": "stream",
     "text": [
      "['yamaha', 'honda']\n",
      "suziki\n"
     ]
    }
   ],
   "source": [
    "motorcycles = [\"yamaha\", \"honda\", \"suziki\"]\n",
    "popped_motor = motorcycles.pop()\n",
    "print(motorcycles)\n",
    "print(popped_motor)"
   ]
  },
  {
   "cell_type": "markdown",
   "id": "24d010de-4d33-4d70-a00b-cd763df0519a",
   "metadata": {},
   "source": [
    "#### U can also add an index number in () for .pop() to pop items from any postion in a list:"
   ]
  },
  {
   "cell_type": "code",
   "execution_count": 173,
   "id": "540997d1-c94c-4084-a4c2-421034fbc265",
   "metadata": {},
   "outputs": [
    {
     "name": "stdout",
     "output_type": "stream",
     "text": [
      "The last motorcycle i owned was a Yamaha\n",
      "['honda', 'suziki']\n"
     ]
    }
   ],
   "source": [
    "motorcycles = [\"yamaha\", \"honda\", \"suziki\"]\n",
    "popped_motor = motorcycles.pop(0)\n",
    "print(f\"The last motorcycle i owned was a {popped_motor.title()}\")\n",
    "print(motorcycles)"
   ]
  },
  {
   "cell_type": "markdown",
   "id": "701c23c5-d47b-4d16-af90-0d481108717b",
   "metadata": {},
   "source": [
    "### The remove method is used when you know wehat value should be popped, but dont know its index. (If there are duplicates iof a value it only deletes the frist instance of it. You can use a loop to dlete all instances though)"
   ]
  },
  {
   "cell_type": "code",
   "execution_count": 175,
   "id": "8271cfcc-0249-47f3-919f-374ef879a17c",
   "metadata": {},
   "outputs": [
    {
     "name": "stdout",
     "output_type": "stream",
     "text": [
      "Honda was a broken model\n"
     ]
    }
   ],
   "source": [
    "motorcycles = [\"yamaha\", \"honda\", \"suziki\"]\n",
    "messed_up = motorcycles[1]\n",
    "motorcycles.remove(messed_up)\n",
    "print(f\"{messed_up.title()} was a broken model\")"
   ]
  },
  {
   "cell_type": "markdown",
   "id": "113d40c4-612d-4e2d-be9a-35217655f641",
   "metadata": {},
   "source": [
    "_____________________________________________________________________________________________________________________________________________________________________________________________"
   ]
  },
  {
   "cell_type": "markdown",
   "id": "15e28433-0501-44ea-a4a7-cd1dda72f99b",
   "metadata": {},
   "source": [
    "## Organzing lists"
   ]
  },
  {
   "cell_type": "markdown",
   "id": "6f947beb-f158-435b-bfb0-83c96eade17d",
   "metadata": {},
   "source": [
    "#### sOMETIMES given user input or data, we will want to strong that data and mody its order withing change and items and their properties. Python provides a number of ways to organize lists edepening on the sitaution"
   ]
  },
  {
   "cell_type": "code",
   "execution_count": 181,
   "id": "4e71d1a8-0b9d-4f97-beae-8e0c9170d515",
   "metadata": {},
   "outputs": [
    {
     "name": "stdout",
     "output_type": "stream",
     "text": [
      "['audi', 'bmw', 'hynuda', 'toyota']\n",
      "['toyota', 'hynuda', 'bmw', 'audi']\n"
     ]
    }
   ],
   "source": [
    "cars = [\"bmw\", \"audi\", \"toyota\", \"hynuda\"]\n",
    "cars.sort()\n",
    "print(cars)\n",
    "cars.sort(reverse =True)\n",
    "print(cars)"
   ]
  },
  {
   "cell_type": "raw",
   "id": "bb23add9-ff62-4474-b7ad-fed6949acd92",
   "metadata": {},
   "source": [
    "The sort method permanetly sorts a list in alphabetcal order (You can also srot in revser order py putting reverse =  True in the ()"
   ]
  },
  {
   "cell_type": "markdown",
   "id": "1d965f00-db7c-476a-ac72-6f4400f7ca0e",
   "metadata": {},
   "source": [
    "### to maintain the orginal order of a list, but present it in a sorted order, u can use the sorted() function."
   ]
  },
  {
   "cell_type": "code",
   "execution_count": 184,
   "id": "25b85f26-9ecb-4c79-a23f-15d00b5dd847",
   "metadata": {},
   "outputs": [
    {
     "name": "stdout",
     "output_type": "stream",
     "text": [
      "['audi', 'bmw', 'hynuda', 'toyota']\n",
      "['toyota', 'hynuda', 'bmw', 'audi']\n"
     ]
    }
   ],
   "source": [
    "print(sorted(cars))\n",
    "print(cars)"
   ]
  },
  {
   "cell_type": "markdown",
   "id": "3bbecb2c-b336-4468-8138-0da04cfcb97f",
   "metadata": {},
   "source": [
    "### The reverse method simiply REVERSES the order in which the items are sorted. (However, u sort the list then revser it, it ill be in reverse sorted order)"
   ]
  },
  {
   "cell_type": "code",
   "execution_count": 187,
   "id": "34ff1856-ca62-4abd-b656-85948be79b2b",
   "metadata": {},
   "outputs": [
    {
     "name": "stdout",
     "output_type": "stream",
     "text": [
      "['hynuda', 'toyota', 'audi', 'bmw']\n"
     ]
    }
   ],
   "source": [
    "cars = [\"bmw\", \"audi\", \"toyota\", \"hynuda\"]\n",
    "cars.reverse()\n",
    "print(cars)"
   ]
  },
  {
   "cell_type": "markdown",
   "id": "823da036-ce47-4720-a3ea-f76fda63a126",
   "metadata": {},
   "source": [
    "____________________________________________________________________________________________________________________________________________________________"
   ]
  },
  {
   "cell_type": "markdown",
   "id": "57361d40-1445-4239-ba44-a28a96786bc1",
   "metadata": {},
   "source": [
    "#### To find the length of a list, use the len() function, which retunrs the #of items in a list"
   ]
  },
  {
   "cell_type": "code",
   "execution_count": 190,
   "id": "338f7956-9a14-4772-87b9-5e237319520b",
   "metadata": {},
   "outputs": [
    {
     "data": {
      "text/plain": [
       "4"
      ]
     },
     "execution_count": 190,
     "metadata": {},
     "output_type": "execute_result"
    }
   ],
   "source": [
    "len(cars)"
   ]
  },
  {
   "cell_type": "raw",
   "id": "a83e5556-1d02-40e4-a2f5-d5c62fe8a031",
   "metadata": {},
   "source": [
    "len can be used to find the # of aliens left in a game, determine the amount of data u have to manage in a vizualtion, and to figure out the # if registerd users on a website"
   ]
  },
  {
   "cell_type": "markdown",
   "id": "c6c010a4-b172-42a7-b25d-7e4c2e82889d",
   "metadata": {},
   "source": [
    "# CHAPTER 4: Working with lists "
   ]
  },
  {
   "cell_type": "markdown",
   "id": "5f614358-91dc-4ecd-b11b-d88564974285",
   "metadata": {},
   "source": [
    "## Looping through an entire list"
   ]
  },
  {
   "cell_type": "raw",
   "id": "e86b1634-f821-4da7-9758-ad19db9677b8",
   "metadata": {},
   "source": [
    "Youll often want to do this for examples such as moving every element on screen once for the same amount in a game, doing the same statistical operator in a list of #'s"
   ]
  },
  {
   "cell_type": "markdown",
   "id": "d63f9f9c-c5c3-4907-bb82-9a020f300ca2",
   "metadata": {},
   "source": [
    "#### When u want to do the same action with every item in a list u use a |for loop|"
   ]
  },
  {
   "cell_type": "code",
   "execution_count": 196,
   "id": "4836f38f-8df1-4cbf-abef-e5a336e82a3d",
   "metadata": {},
   "outputs": [
    {
     "name": "stdout",
     "output_type": "stream",
     "text": [
      "q\n",
      "w\n",
      "e\n",
      "r\n",
      "t\n",
      "y\n"
     ]
    }
   ],
   "source": [
    "qwerty = [\"q\", \"w\", \"e\", \"r\", \"t\", \"y\"]\n",
    "for x in qwerty:\n",
    "    print(x)"
   ]
  },
  {
   "cell_type": "markdown",
   "id": "213bc6bb-4ce3-4927-bd09-7501876f5caa",
   "metadata": {},
   "source": [
    "in this case x can be writeen with anything but its best convention to use somthing that makes sence in contex. Python sees the line for x in qwerty, and accocaites the frit item of qwerty to x, then it reads print x so it prints the value accocaited witgh x. Then it goes back to the for x line as there are more items left in the list and it repeats this process, reassigning x every time"
   ]
  },
  {
   "cell_type": "markdown",
   "id": "bf3a832f-ecfc-4e32-871e-047e36b85104",
   "metadata": {},
   "source": [
    "Every line after the for x in qwerty call that is indented is then repeated once for any for loop (also remeber to add a colin after the for statement)"
   ]
  },
  {
   "cell_type": "markdown",
   "id": "8cd8ec0c-e0b6-4384-b08e-e9950bec5af6",
   "metadata": {},
   "source": [
    "#### Its also good to do smthing after a for loop is done, either to summarize an operation, or to simply add readilibty. Ex: u might use a for loop to displauy aall characters onto a screen, then after the loop is complte u cna add additional code that displays a play button"
   ]
  },
  {
   "cell_type": "code",
   "execution_count": 201,
   "id": "26a749c9-8325-4e47-8621-38efc6653a1a",
   "metadata": {},
   "outputs": [
    {
     "name": "stdout",
     "output_type": "stream",
     "text": [
      "q\n",
      "w\n",
      "e\n",
      "r\n",
      "t\n",
      "y\n",
      "\n",
      "QWERTY done!\n"
     ]
    }
   ],
   "source": [
    "qwerty = [\"q\", \"w\", \"e\", \"r\", \"t\", \"y\"]\n",
    "for x in qwerty:\n",
    "    print(x)\n",
    "\n",
    "print(\"\\nQWERTY done!\")"
   ]
  },
  {
   "cell_type": "markdown",
   "id": "cb235ee1-72b0-4bd0-8cbf-cf028d2e9665",
   "metadata": {},
   "source": [
    "#### a logical error is where python syntax is correct, but the code donst do what u orignally intended it to do Ex: acidetnally indenting the final message after a for loop"
   ]
  },
  {
   "cell_type": "markdown",
   "id": "8103701e-c21f-4c26-b845-1975526fa7f0",
   "metadata": {},
   "source": [
    "## Making and modifying numerical lists"
   ]
  },
  {
   "cell_type": "raw",
   "id": "1f73fc61-00f3-4cbf-b7e3-4d3069c91714",
   "metadata": {},
   "source": [
    "These numerical lsits can be used for keeping track of positions of each character in a game, or keeping track of highscores. In data vis, youll always work with numerical sets. Here are some tools to help u work effictnally w/ numbers:"
   ]
  },
  {
   "cell_type": "markdown",
   "id": "95d10041-41df-493e-80a9-ce9c53ddb97e",
   "metadata": {},
   "source": [
    "#### The range(function)"
   ]
  },
  {
   "cell_type": "code",
   "execution_count": 206,
   "id": "ec16d24f-cf37-46e2-a431-c69876323c6c",
   "metadata": {},
   "outputs": [
    {
     "name": "stdout",
     "output_type": "stream",
     "text": [
      "1\n",
      "2\n",
      "3\n",
      "4\n"
     ]
    }
   ],
   "source": [
    "for num in range(1,5):\n",
    "    print(num)"
   ]
  },
  {
   "cell_type": "raw",
   "id": "0e39ad34-f52e-4cd3-becc-264d2cc38b86",
   "metadata": {},
   "source": [
    "The frist paramter is ur stating # and ur 2nd paramter is what to end before (so 5 gives u 1-4) code says for all numbers in 1-4, assin to num and pint num untill the loop finishes"
   ]
  },
  {
   "cell_type": "markdown",
   "id": "e5b918c3-199c-49fe-8a9e-2e2861d63e2c",
   "metadata": {},
   "source": [
    "#### using the list function with range"
   ]
  },
  {
   "cell_type": "code",
   "execution_count": 209,
   "id": "989028e1-29fc-4648-a93a-3bea63558a0e",
   "metadata": {},
   "outputs": [
    {
     "name": "stdout",
     "output_type": "stream",
     "text": [
      "[0, 2, 4, 6, 8, 10]\n"
     ]
    }
   ],
   "source": [
    "numbers_ = list(range(0, 11, 2))\n",
    "print(numbers_)"
   ]
  },
  {
   "cell_type": "raw",
   "id": "997f3ae9-54dd-420a-9cb2-b1636ed463e3",
   "metadata": {},
   "source": [
    "3rd paramter is how much u want to incriment by, also pairng with the list function makes a list where u append new values and the output is a list"
   ]
  },
  {
   "cell_type": "code",
   "execution_count": 211,
   "id": "14e1418a-b964-4093-8383-2dea1e1585ba",
   "metadata": {},
   "outputs": [
    {
     "name": "stdout",
     "output_type": "stream",
     "text": [
      "[1, 4, 9, 16, 25, 36, 49, 64, 81, 100]\n"
     ]
    }
   ],
   "source": [
    "squares = []\n",
    "for num in range(1, 11):\n",
    "    squares.append(num ** 2)\n",
    "print(squares)"
   ]
  },
  {
   "cell_type": "markdown",
   "id": "870979f7-bb9a-44dd-a2e4-fbdab6b5855c",
   "metadata": {},
   "source": [
    "### Simple statistics with list of #'s"
   ]
  },
  {
   "cell_type": "code",
   "execution_count": 213,
   "id": "28204300-6dcc-49ad-9297-b94cf1aa12fc",
   "metadata": {},
   "outputs": [
    {
     "data": {
      "text/plain": [
       "55"
      ]
     },
     "execution_count": 213,
     "metadata": {},
     "output_type": "execute_result"
    }
   ],
   "source": [
    "digits = [1,2,3,4,5,6,7,8,9,10]\n",
    "min(digits) # outputs 1\n",
    "max(digits)# outputs 10\n",
    "sum(digits)"
   ]
  },
  {
   "cell_type": "markdown",
   "id": "e67c23f6-85cc-479a-a967-3453eaeb1321",
   "metadata": {},
   "source": [
    "## List comprehensions"
   ]
  },
  {
   "cell_type": "markdown",
   "id": "59ec224e-6e6c-4e1a-b9d7-5f8119eac9ea",
   "metadata": {},
   "source": [
    "A List comprehension allows u make that came list of squares in just one line of code. It combines the for loop and creation of new list edlemnts into one line. Ex:"
   ]
  },
  {
   "cell_type": "code",
   "execution_count": 217,
   "id": "25e91496-2375-425c-9573-6bfa336c93b0",
   "metadata": {},
   "outputs": [
    {
     "name": "stdout",
     "output_type": "stream",
     "text": [
      "[1, 4, 9, 16, 25, 36, 49, 64, 81, 100]\n"
     ]
    }
   ],
   "source": [
    "squares = [value**2 for value in range(1,11)]\n",
    "print(squares)"
   ]
  },
  {
   "cell_type": "raw",
   "id": "fbf38c38-5d0f-45d4-895a-ae637af5ebac",
   "metadata": {},
   "source": [
    "For this syntax make a name for list, then in bracket drfine thevalues u want to sore in list (value**2) Then make a for loop to make #'s u wnat to feed into the expression, then close the bracket. (this for loop feeds values 1-10 in the expression value**2)"
   ]
  },
  {
   "cell_type": "markdown",
   "id": "212f58b6-56b5-44b6-a369-79541ca5607b",
   "metadata": {},
   "source": [
    "__________________________________________________________________________________________________________________________________________________________________"
   ]
  },
  {
   "cell_type": "markdown",
   "id": "6c4da08c-1859-4278-800b-04e13215ae47",
   "metadata": {},
   "source": [
    "## Working with part of a list"
   ]
  },
  {
   "cell_type": "raw",
   "id": "da37743a-93ad-4e9c-b984-5ff31487adc9",
   "metadata": {},
   "source": [
    "using slicing a list, we can work with a specefic group iof elemts in a list, which is called a slice "
   ]
  },
  {
   "cell_type": "raw",
   "id": "8647b4d8-1442-416b-8238-c2c0d0cdda1b",
   "metadata": {},
   "source": [
    "To make a slice, specaily index of first and last element u wnat to work with, just like the range(), the 2nd paramter is not included"
   ]
  },
  {
   "cell_type": "code",
   "execution_count": 222,
   "id": "dbdfde6c-2cca-4a32-a97a-3df09de30acd",
   "metadata": {},
   "outputs": [
    {
     "name": "stdout",
     "output_type": "stream",
     "text": [
      "['willy', 'vinny', 'billy']\n",
      "['willy', 'vinny']\n",
      "['billy', 'silly']\n",
      "['vinny', 'billy', 'silly']\n",
      "['vinny', 'billy']\n"
     ]
    }
   ],
   "source": [
    "players = [\"willy\", \"vinny\", \"billy\", \"silly\"]\n",
    "print(players[0:3])\n",
    "print(players[:2])\n",
    "print(players[2:])\n",
    "print(players[-3:])\n",
    "print(players[-3:3])"
   ]
  },
  {
   "cell_type": "markdown",
   "id": "f6117a94-769d-4e5f-97ae-463712235a80",
   "metadata": {},
   "source": [
    "the syntax is simple and you can use - numbers to repcent the nth to last item, then if no paramter is prent for the 1st or 2nd paramter, then it starts at index 0 or ends at the last item"
   ]
  },
  {
   "cell_type": "markdown",
   "id": "102a2921-947a-4754-84de-f3df201f558a",
   "metadata": {},
   "source": [
    "### Looping though a slice"
   ]
  },
  {
   "cell_type": "code",
   "execution_count": 226,
   "id": "b00158d4-4109-4b3c-be8d-17f8b706ca07",
   "metadata": {},
   "outputs": [
    {
     "name": "stdout",
     "output_type": "stream",
     "text": [
      "willy has joined!\n",
      "vinny has joined!\n"
     ]
    }
   ],
   "source": [
    "players = [\"willy\", \"vinny\", \"billy\", \"silly\"]\n",
    "for player in players[:2]:\n",
    "    print(f\"{player} has joined!\")"
   ]
  },
  {
   "cell_type": "raw",
   "id": "cb73deab-927d-4a12-a6d9-8848f88a1abd",
   "metadata": {},
   "source": [
    "looping throigh slices can be used to get a players top 3 scores by sorting the list of #'s in >ing order tyhen slcing 0:3 to get the top 3 scores, it can also be used for taking slices of data to process them individually "
   ]
  },
  {
   "cell_type": "markdown",
   "id": "f25b607a-493b-4e13-9227-beb6c6cf5eb8",
   "metadata": {},
   "source": [
    "### Copying lists"
   ]
  },
  {
   "cell_type": "markdown",
   "id": "ffef31f4-d625-4e4f-b352-457e3487b599",
   "metadata": {},
   "source": [
    "to copy a an exising list nad makimng a new list based on the one old, make a splice that includes everything by ommintg the 1st and 2nd index [:]"
   ]
  },
  {
   "cell_type": "code",
   "execution_count": 229,
   "id": "aa8fc3fa-4643-4a52-82cc-7653150345ab",
   "metadata": {},
   "outputs": [
    {
     "name": "stdout",
     "output_type": "stream",
     "text": [
      "['pizza', 'juice', 'taco', 'chia']\n",
      "['pizza', 'juice', 'taco', 'noodles']\n"
     ]
    }
   ],
   "source": [
    "my_foods = [\"pizza\", \"juice\", \"taco\"]\n",
    "friend_food = my_foods[:]\n",
    "my_foods.append(\"chia\")\n",
    "friend_food.append(\"noodles\")\n",
    "print(my_foods)\n",
    "print(friend_food)"
   ]
  },
  {
   "cell_type": "markdown",
   "id": "e5df07f1-7daf-41c2-802e-3c170b9d39fa",
   "metadata": {},
   "source": [
    "You cant just set the 2 lists ewual to each other such as friend_food = my_foods, it then accocaites the phrase my food with every time u use an instance of freind food and vice versa:"
   ]
  },
  {
   "cell_type": "code",
   "execution_count": 231,
   "id": "329f2c21-38a2-4f1b-80a0-b59ad83409c6",
   "metadata": {},
   "outputs": [
    {
     "name": "stdout",
     "output_type": "stream",
     "text": [
      "['pizza', 'juice', 'taco', 'chia', 'noodles']\n",
      "['pizza', 'juice', 'taco', 'chia', 'noodles']\n"
     ]
    }
   ],
   "source": [
    "my_foods = [\"pizza\", \"juice\", \"taco\"]\n",
    "friend_food = my_foods\n",
    "my_foods.append(\"chia\")\n",
    "friend_food.append(\"noodles\")\n",
    "print(my_foods)\n",
    "print(friend_food)"
   ]
  },
  {
   "cell_type": "markdown",
   "id": "5fc47918-bd05-4045-9f84-425b980ccbcf",
   "metadata": {},
   "source": [
    "________________________________________________________________________________________________________________________________________________________________________________"
   ]
  },
  {
   "cell_type": "markdown",
   "id": "05d41af5-cb3d-4d5c-b65c-2c10daf0ad17",
   "metadata": {},
   "source": [
    "## TUPLE"
   ]
  },
  {
   "cell_type": "markdown",
   "id": "b64b1fda-6841-4a06-9efc-f0e04cb6620b",
   "metadata": {},
   "source": [
    "tuples are like a list but are immutable which means their values cannon change, they are used when u dont want vlaues in a list to change. Instead of square brackets you define them with regualr parathesies () and you can access each item with their index, and loop through their items using a for loop like a list.    (tuples are actually defined with a comma so if u want to maker a one item tuple you have to do this : (item,) with the comma at the end)"
   ]
  },
  {
   "cell_type": "markdown",
   "id": "d41fc3f5-b9b5-4e98-a94d-acc1c6755a85",
   "metadata": {},
   "source": [
    "##### However you are able to write over a tuple by assigning a new value to their var instead of changing an item in the list itself:"
   ]
  },
  {
   "cell_type": "code",
   "execution_count": 239,
   "id": "7f8ec645-c5f2-4752-89e5-ce9d6d762a01",
   "metadata": {},
   "outputs": [
    {
     "name": "stdout",
     "output_type": "stream",
     "text": [
      "(200, 50)\n",
      "(400, 100)\n"
     ]
    }
   ],
   "source": [
    "diemensions = (200, 50)\n",
    "print(diemensions)\n",
    "diemensions = (400, 100)\n",
    "print(diemensions)"
   ]
  },
  {
   "cell_type": "markdown",
   "id": "9efce781-93fb-46b3-bdea-41e643ed5f96",
   "metadata": {},
   "source": [
    "# CHAPTER 5: If statements"
   ]
  },
  {
   "cell_type": "markdown",
   "id": "2b7215e8-595a-4873-bd66-3d5efc7bc9f4",
   "metadata": {},
   "source": [
    "simple example:"
   ]
  },
  {
   "cell_type": "code",
   "execution_count": 242,
   "id": "7da7ac59-0b06-44ea-9ccd-d647ba07ec46",
   "metadata": {},
   "outputs": [
    {
     "name": "stdout",
     "output_type": "stream",
     "text": [
      "BMW\n",
      "Toyota\n",
      "Lambo\n",
      "Tesla\n"
     ]
    }
   ],
   "source": [
    "cars = [\"bmw\", \"toyota\", \"lambo\", \"tesla\"]\n",
    "for car in cars:\n",
    "    if car == \"bmw\":\n",
    "        print(car.upper())\n",
    "    else:\n",
    "        print(car.title())"
   ]
  },
  {
   "cell_type": "markdown",
   "id": "a67c5f1c-8fed-4baf-87ef-4de758f53615",
   "metadata": {},
   "source": [
    "its easy to see the loop goes over each item in the list then check it see if hte value is strickly equal to bmw, if so poit it in all caps, else print it with title format"
   ]
  },
  {
   "cell_type": "markdown",
   "id": "8d110e1f-b730-44da-a90e-0602e83cdb21",
   "metadata": {},
   "source": [
    "### Checking for inequality (!=)"
   ]
  },
  {
   "cell_type": "code",
   "execution_count": 246,
   "id": "c1c87135-08d8-4ef6-89a0-1f6c243717f7",
   "metadata": {},
   "outputs": [
    {
     "name": "stdout",
     "output_type": "stream",
     "text": [
      "hold the olives!\n",
      "peppernis pls\n"
     ]
    }
   ],
   "source": [
    "topping_request = \"pepperoni\"\n",
    "if topping_request != \"olives\":\n",
    "    print(\"hold the olives!\")\n",
    "\n",
    "if 'pepperoni' in topping_request:\n",
    "    print(\"peppernis pls\")\n",
    "else:\n",
    "    print(\"wow\")"
   ]
  },
  {
   "cell_type": "markdown",
   "id": "4b1a43b3-6ae2-4904-b31a-64b0a5d5b000",
   "metadata": {},
   "source": [
    "### checking mutple condititons"
   ]
  },
  {
   "cell_type": "markdown",
   "id": "4cee8711-3435-40c2-93b6-5e64766936d6",
   "metadata": {},
   "source": [
    "to check if 2 conditonos arew both true , use the key word AND to combine 2 conditional tests. Ex: ch3cking if 2 ppl are over 21"
   ]
  },
  {
   "cell_type": "code",
   "execution_count": 250,
   "id": "b47b3410-385f-4abf-b4ae-76344439a757",
   "metadata": {},
   "outputs": [
    {
     "data": {
      "text/plain": [
       "False"
      ]
     },
     "execution_count": 250,
     "metadata": {},
     "output_type": "execute_result"
    }
   ],
   "source": [
    "age_1 = 20\n",
    "age_2 = 22\n",
    "(age_1 > 21) and (age_2 > 21)"
   ]
  },
  {
   "cell_type": "raw",
   "id": "d393e7f5-8199-47b3-8ce9-65d00a40ef28",
   "metadata": {},
   "source": [
    "like and, the OR keywrd is used when only 1 condition is needed to be true for the statemnt to return true"
   ]
  },
  {
   "cell_type": "markdown",
   "id": "6234eca6-53c2-40cc-a9eb-eb87898f13ff",
   "metadata": {},
   "source": [
    "### Sometimes you have to check weather or not somthinh is in a list or not. Ex: in a mapping prioect you have to check to see if a locarion id alreasy saved in a list of destinations"
   ]
  },
  {
   "cell_type": "raw",
   "id": "bf6ce108-2ed9-4bb6-8632-b0a016a91fd5",
   "metadata": {},
   "source": [
    "To do this use the keyword in:"
   ]
  },
  {
   "cell_type": "code",
   "execution_count": 254,
   "id": "6a0caa23-2101-4c06-9bb5-2becc30939fd",
   "metadata": {},
   "outputs": [
    {
     "data": {
      "text/plain": [
       "False"
      ]
     },
     "execution_count": 254,
     "metadata": {},
     "output_type": "execute_result"
    }
   ],
   "source": [
    "toppings = [\"mushrooms\", \"pepperoni\", \"cheese\" ]\n",
    "\"olives\" in toppings"
   ]
  },
  {
   "cell_type": "markdown",
   "id": "8d0912c4-36d7-4eb3-ac9a-95ca3515b677",
   "metadata": {},
   "source": [
    "#### to check wather a value is NOT in a list, you use the not keyword. Ex: when a user tries to submit a comment, first check to see if they aren't in the list of bannded users. If so, allow them to comment, else, fail"
   ]
  },
  {
   "cell_type": "code",
   "execution_count": 256,
   "id": "3ec27853-45ab-4487-97ed-135dd32dbfea",
   "metadata": {},
   "outputs": [
    {
     "name": "stdout",
     "output_type": "stream",
     "text": [
      "no\n"
     ]
    }
   ],
   "source": [
    "banned_users = [\"bob\", \"j\", \"s\"]\n",
    "if \"j\" not in banned_users:\n",
    "    print(\"yay\")\n",
    "else:\n",
    "    print(\"no\")"
   ]
  },
  {
   "cell_type": "markdown",
   "id": "f011b614-0b29-4a1e-a392-d57c04eddfeb",
   "metadata": {},
   "source": [
    "## Boolean expressions are another name for a conditional test. The boolean value is either true or false (These are often used to keep track of certin conditions liek if a game is running or if a user can edit content on a site)"
   ]
  },
  {
   "cell_type": "code",
   "execution_count": 258,
   "id": "b983313e-3ed3-456f-a948-b814daf2b897",
   "metadata": {},
   "outputs": [
    {
     "name": "stdout",
     "output_type": "stream",
     "text": [
      "True\n"
     ]
    }
   ],
   "source": [
    "game_active = False\n",
    "can_edit = True\n",
    "car = \"subaru\"\n",
    "print(car == 'subaru')"
   ]
  },
  {
   "cell_type": "raw",
   "id": "74eac810-aeff-47e1-bcde-5d7860879fce",
   "metadata": {},
   "source": [
    "btw always captialize false and true"
   ]
  },
  {
   "cell_type": "markdown",
   "id": "5f1c0f99-dc17-4ec8-84dd-524a6dd51824",
   "metadata": {},
   "source": [
    "## types of if statements"
   ]
  },
  {
   "cell_type": "markdown",
   "id": "9b239259-b877-49fe-b429-bc73fca3e24a",
   "metadata": {},
   "source": [
    "### simple if statemnts hace one test and one action: if conditional_test: do somthing"
   ]
  },
  {
   "cell_type": "code",
   "execution_count": 261,
   "id": "90b2b977-657b-4cdd-8eb0-93918fcdaf9e",
   "metadata": {},
   "outputs": [
    {
     "name": "stdout",
     "output_type": "stream",
     "text": [
      "young one\n"
     ]
    }
   ],
   "source": [
    "age = 19\n",
    "if age <= 19:\n",
    "    print(\"young one\")"
   ]
  },
  {
   "cell_type": "markdown",
   "id": "9d6299dc-151d-454c-807c-4fd045a8d51b",
   "metadata": {},
   "source": [
    "The if else and if elif else is the same as u leanred in javascript its ez to udnerstand. However for elif chains, its best to ebnd with antoehr elif rather rthen an else block so that u are more confindent that ur code will run only under the correct conditions with no wrong input."
   ]
  },
  {
   "cell_type": "markdown",
   "id": "77e0b77e-cd02-4d8a-a69b-47b87eaf1b66",
   "metadata": {},
   "source": [
    "##### sometimess when checkign for mutple conditons instead of jsut one, its better to use many if statmet blocks as, you can act on every condtion that is true, instead of jut stopping after oen condtion is met like how an elif block behaves."
   ]
  },
  {
   "cell_type": "code",
   "execution_count": 264,
   "id": "e7161830-0b43-4be4-bebf-bcb4c58be3c5",
   "metadata": {},
   "outputs": [
    {
     "name": "stdout",
     "output_type": "stream",
     "text": [
      "adding mushrooms\n",
      "adding pepperoni\n"
     ]
    }
   ],
   "source": [
    "toppings = [\"mushrooms\", \"pepperoni\", \"cheese\" ]\n",
    "if 'mushrooms' in toppings:\n",
    "    print(\"adding mushrooms\")\n",
    "if 'pepperoni' in toppings:\n",
    "    print(\"adding pepperoni\")\n",
    "if 'olives' in toppings:\n",
    "    print(\"adding olives\")"
   ]
  },
  {
   "cell_type": "raw",
   "id": "f6037a50-caec-494c-ae7f-5ab942a2195c",
   "metadata": {},
   "source": [
    "this way u can sti;l check for pepperroina even if mushrooms in toppings comes out as true"
   ]
  },
  {
   "cell_type": "markdown",
   "id": "a8c39066-73a0-4644-8286-30812b8939dd",
   "metadata": {},
   "source": [
    "### Using if statements in lists. U can watch for special vbalues that need to be treated differently thrn other vlaues in the list. U can beign to prove thqat ur code works as u expect in all situations."
   ]
  },
  {
   "cell_type": "code",
   "execution_count": 270,
   "id": "fdd08ff3-1945-46b8-a856-2ccfed6b412f",
   "metadata": {},
   "outputs": [
    {
     "name": "stdout",
     "output_type": "stream",
     "text": [
      "mushrooms added to pizza!\n",
      "sorry we r out of pepperoni\n",
      "cheese added to pizza!\n",
      "\n",
      "pizza done\n"
     ]
    }
   ],
   "source": [
    "toppings_requested = [\"mushrooms\", \"pepperoni\", \"cheese\" ]\n",
    "for toppings in toppings_requested:\n",
    "    if toppings == \"pepperoni\":\n",
    "        print(f\"sorry we r out of {toppings}\")\n",
    "    else:\n",
    "        print(f\"{toppings} added to pizza!\")\n",
    "print(\"\\npizza done\")"
   ]
  },
  {
   "cell_type": "markdown",
   "id": "dfb2796c-44ff-4952-a6e3-d36610e38561",
   "metadata": {},
   "source": [
    "#### checking that a list inst empty:"
   ]
  },
  {
   "cell_type": "code",
   "execution_count": 272,
   "id": "ec6e7fb1-bd17-4bf3-9ecf-7655e67609d3",
   "metadata": {},
   "outputs": [
    {
     "name": "stdout",
     "output_type": "stream",
     "text": [
      "r u sure u want an emptuy pizza?|\n"
     ]
    }
   ],
   "source": [
    "toppings_requested = []\n",
    "if toppings_requested:\n",
    "    for topping in toppings_requested:\n",
    "        print(\"adding topping\")\n",
    "    print(\"pizza doen\")\n",
    "else:\n",
    "    print(\"r u sure u want an emptuy pizza?|\")"
   ]
  },
  {
   "cell_type": "raw",
   "id": "f40acba5-de0a-410d-96f2-077164c6cbaa",
   "metadata": {},
   "source": [
    "whebn the name of a luist is ysed in an if statment, python retuns tue if it has atlest one item, else if reutns false"
   ]
  },
  {
   "cell_type": "markdown",
   "id": "d122efd8-d7c8-4e84-a53d-bb85a3d91909",
   "metadata": {},
   "source": [
    "### using mutple lists to make sure inputs make sence being being excusted in code:"
   ]
  },
  {
   "cell_type": "code",
   "execution_count": 275,
   "id": "b4c06126-4d6f-4c59-a8cd-aa0dec8e98d7",
   "metadata": {},
   "outputs": [
    {
     "name": "stdout",
     "output_type": "stream",
     "text": [
      "a added to pizza\n",
      "d added to pizza\n",
      "not avliable as a topping sorry\n",
      "b added to pizza\n"
     ]
    }
   ],
   "source": [
    "avliable_toppings = [\"a\", \"b\",\"c\", \"d\",\"e\", \"f\",]\n",
    "requested_toppings = [\"a\", \"d\", \"turd\", \"b\"]\n",
    "for topping in requested_toppings:\n",
    "    if topping in avliable_toppings:\n",
    "        print(f\"{topping} added to pizza\")\n",
    "    else:\n",
    "        print(\"not avliable as a topping sorry\")"
   ]
  },
  {
   "cell_type": "markdown",
   "id": "6709a82a-eb6c-499f-993e-06b1a99b9098",
   "metadata": {},
   "source": [
    "## CHAPTER 6: Dictionaries"
   ]
  },
  {
   "cell_type": "raw",
   "id": "4a02e4d0-afd7-480a-bb73-90e560dc65f1",
   "metadata": {},
   "source": [
    "Python's dictionaries allow u con connect pies of realted info with a key and value (like in js).each key is connected to a value and u cna use akey to access tghe value assccoicaeed with said key. Understandiong these allow u to model real world objects more accurately. U can create a dictioary represnting a persob, then store as much daba about it as possile such as an age street or name."
   ]
  },
  {
   "cell_type": "code",
   "execution_count": 279,
   "id": "51d2b8fb-f82a-4f35-8fdd-dad3c6019a5f",
   "metadata": {},
   "outputs": [
    {
     "name": "stdout",
     "output_type": "stream",
     "text": [
      "green\n",
      "U just got 5 points for killing alien 0!\n"
     ]
    }
   ],
   "source": [
    "alien_0 = {'color' : 'green', 'value' : 5}\n",
    "print(alien_0['color'])\n",
    "new_points = alien_0[\"value\"]\n",
    "print(f\"U just got {new_points} points for killing alien 0!\")"
   ]
  },
  {
   "cell_type": "raw",
   "id": "6870307d-1979-4b84-a8d6-b558aa733330",
   "metadata": {},
   "source": [
    "to asccess values in a dict give name of the dict and place hte key in square brackets"
   ]
  },
  {
   "cell_type": "markdown",
   "id": "7237e253-f1c9-40d4-aaba-3e5688448d97",
   "metadata": {},
   "source": [
    "### Modifying values in a dictionary"
   ]
  },
  {
   "cell_type": "raw",
   "id": "48563cf5-6504-407a-81b4-5c43e7441cab",
   "metadata": {},
   "source": [
    "Dicts are dynamic strctuctes so u can add new key-value pairs at any time. To do so u give bane iof dict followed by the new key in [] along w/ the new value"
   ]
  },
  {
   "cell_type": "code",
   "execution_count": 282,
   "id": "f1bde813-4020-4cc0-8eb7-aed1592e8d8d",
   "metadata": {},
   "outputs": [
    {
     "data": {
      "text/plain": [
       "{'color': 'green', 'value': 5, 'x-position': 0, 'y-position': 25}"
      ]
     },
     "execution_count": 282,
     "metadata": {},
     "output_type": "execute_result"
    }
   ],
   "source": [
    "alien_0 = {'color' : 'green', 'value' : 5}\n",
    "alien_0['x-position'] = 0\n",
    "alien_0['y-position'] = 25\n",
    "alien_0"
   ]
  },
  {
   "cell_type": "raw",
   "id": "ac62bc48-f56a-4905-bd1f-0c57a71faddf",
   "metadata": {},
   "source": [
    "Dicts retain the order in which they were defiend in. wheb  u print or loop thru its elements, the elements will be in same order as when they were added to the dcit"
   ]
  },
  {
   "cell_type": "markdown",
   "id": "a87d3e2a-5a4c-494e-a5c2-64278749d780",
   "metadata": {},
   "source": [
    "#### it's sometimes convenient or even necessary to start with an empty dict. To fill it up, start with empty {} then added on value pairs like u would in previous example. (you'll usually use empty dicts when storing user supplied data or when writing code that makes a large # of key-value pairs automatically)"
   ]
  },
  {
   "cell_type": "markdown",
   "id": "9dfc7abd-c7ec-41ab-afc3-ce5d7a7c3bff",
   "metadata": {},
   "source": [
    "### to directly modify a value pair in a dict, give name of dict and key in [] thne the new vlaeu u want accocciated w/ that key:"
   ]
  },
  {
   "cell_type": "code",
   "execution_count": 287,
   "id": "c1c1e5b1-4de0-4c77-8d96-2316e8a55b57",
   "metadata": {},
   "outputs": [
    {
     "data": {
      "text/plain": [
       "{'color': 'brown', 'value': 5}"
      ]
     },
     "execution_count": 287,
     "metadata": {},
     "output_type": "execute_result"
    }
   ],
   "source": [
    "alien_0 = {'color' : 'green', 'value' : 5}\n",
    "alien_0['color'] = \"brown\"\n",
    "alien_0"
   ]
  },
  {
   "cell_type": "code",
   "execution_count": 288,
   "id": "22794ed0-9ae1-4704-a1a3-8e2a0490dc9f",
   "metadata": {},
   "outputs": [
    {
     "name": "stdout",
     "output_type": "stream",
     "text": [
      "Original position: 0\n",
      "New position: 2\n"
     ]
    }
   ],
   "source": [
    "alien_O = {'x_position': 0, 'y_position': 25, 'speed': 'medium'}\n",
    "print(f'Original position: {alien_O['x_position']}')\n",
    "if alien_O['speed'] == 'slow':\n",
    "    x_increment = 1 \n",
    "elif alien_O['speed'] == 'medium':\n",
    "    x_increment = 2\n",
    "else:\n",
    "    x_increment = 3\n",
    "alien_O['x_position'] = alien_O['x_position'] + x_increment\n",
    "print(f\"New position: {alien_O['x_position']}\")"
   ]
  },
  {
   "cell_type": "markdown",
   "id": "caa5a151-c040-4966-83b6-e3f990c29abd",
   "metadata": {},
   "source": [
    "code trackign postion of an alien moving depning of its speed value (which we cna change directily to fast or slow)"
   ]
  },
  {
   "cell_type": "markdown",
   "id": "670d08d3-89f9-4972-96fc-da9739719201",
   "metadata": {},
   "source": [
    "### IN order to remove key value pairs, you have to use the del keyword which just needs the bane if the duct and the key  u want to remove"
   ]
  },
  {
   "cell_type": "code",
   "execution_count": 291,
   "id": "8d220c98-6e30-47b1-9bf0-bda95f826d8b",
   "metadata": {},
   "outputs": [
    {
     "data": {
      "text/plain": [
       "{'color': 'green'}"
      ]
     },
     "execution_count": 291,
     "metadata": {},
     "output_type": "execute_result"
    }
   ],
   "source": [
    "alien_0 = {'color' : 'green', 'value' : 5}\n",
    "del alien_0['value']\n",
    "alien_0"
   ]
  },
  {
   "cell_type": "markdown",
   "id": "25acee43-d218-4da2-8188-cdd2c8e54f9c",
   "metadata": {},
   "source": [
    "### A dictionary of similar objects is a dict that not only stoes info about one obhect lioek the previous alien example, but stores info abt many kinds of objects. Ex: polling many ppl abnt fav letter, a dict is usful for storng results of a poll."
   ]
  },
  {
   "cell_type": "code",
   "execution_count": 293,
   "id": "55281199-e507-4567-b76b-56f157f0f154",
   "metadata": {},
   "outputs": [],
   "source": [
    "fav_letter = {\n",
    "    'joe': \"a\",\n",
    "    'bob': \"d\",\n",
    "    'clair': \"c\",\n",
    "    \"diddy\" : \"d\"\n",
    "}"
   ]
  },
  {
   "cell_type": "markdown",
   "id": "53e94f6e-2f1d-46b8-bde8-37b49d552556",
   "metadata": {},
   "source": [
    "### u can access values from a dcit using get(), a main diffrence form using get and just using dictionary[key] is that when there is no value or the key doesnt exist in a dic, instead of trowing an error, get() says none, or u can cutomzie the defalut value if there isnt a key with the 2nd parameter:"
   ]
  },
  {
   "cell_type": "code",
   "execution_count": 295,
   "id": "a1240757-6c8b-481d-8f13-e49ef302663d",
   "metadata": {},
   "outputs": [
    {
     "ename": "KeyError",
     "evalue": "'pet'",
     "output_type": "error",
     "traceback": [
      "\u001b[1;31m---------------------------------------------------------------------------\u001b[0m",
      "\u001b[1;31mKeyError\u001b[0m                                  Traceback (most recent call last)",
      "Cell \u001b[1;32mIn[295], line 2\u001b[0m\n\u001b[0;32m      1\u001b[0m alien_0 \u001b[38;5;241m=\u001b[39m {\u001b[38;5;124m'\u001b[39m\u001b[38;5;124mcolor\u001b[39m\u001b[38;5;124m'\u001b[39m : \u001b[38;5;124m'\u001b[39m\u001b[38;5;124mgreen\u001b[39m\u001b[38;5;124m'\u001b[39m, \u001b[38;5;124m'\u001b[39m\u001b[38;5;124mvalue\u001b[39m\u001b[38;5;124m'\u001b[39m : \u001b[38;5;241m5\u001b[39m}\n\u001b[1;32m----> 2\u001b[0m \u001b[38;5;28mprint\u001b[39m(alien_0[\u001b[38;5;124m\"\u001b[39m\u001b[38;5;124mpet\u001b[39m\u001b[38;5;124m\"\u001b[39m])\n",
      "\u001b[1;31mKeyError\u001b[0m: 'pet'"
     ]
    }
   ],
   "source": [
    "alien_0 = {'color' : 'green', 'value' : 5}\n",
    "print(alien_0[\"pet\"])"
   ]
  },
  {
   "cell_type": "code",
   "execution_count": 298,
   "id": "3288664e-f005-4fa6-a8db-c00f2260a498",
   "metadata": {},
   "outputs": [
    {
     "data": {
      "text/plain": [
       "'none found'"
      ]
     },
     "execution_count": 298,
     "metadata": {},
     "output_type": "execute_result"
    }
   ],
   "source": [
    "alien_0 = {'color' : 'green', 'value' : 5}\n",
    "alien_0.get(\"pet\", \"none found\")"
   ]
  },
  {
   "cell_type": "markdown",
   "id": "1f8451ac-301f-4e2a-a18d-2122a3658908",
   "metadata": {},
   "source": [
    "## using loops while workign with dicts"
   ]
  },
  {
   "cell_type": "markdown",
   "id": "351cb881-4ecc-4cd9-818f-47e81b30ec62",
   "metadata": {},
   "source": [
    "Since a python dict can contim 1 to many key-value pairs, you can loop through dicts; therefor there are many different ways to loop them. You can loop through key-value pairs, keys, or just its values"
   ]
  },
  {
   "cell_type": "markdown",
   "id": "787699cd-738b-4e75-ad7d-fbd9f70ac3f1",
   "metadata": {},
   "source": [
    "### Looping thru all key-valuer pairs:"
   ]
  },
  {
   "cell_type": "markdown",
   "id": "3bcf03e3-a999-407d-8a06-ee305cf4d2c0",
   "metadata": {},
   "source": [
    "givem this dict, lets make a for loop to see everything stored in the dict"
   ]
  },
  {
   "cell_type": "code",
   "execution_count": 304,
   "id": "d6cb8c41-07a8-46da-829d-e6a639071172",
   "metadata": {},
   "outputs": [],
   "source": [
    "user_0 = {\n",
    "    'username': \"skeptic\",\n",
    "    \"first\": \"william\",\n",
    "    \"last\" : 'nguyen'\n",
    "}"
   ]
  },
  {
   "cell_type": "markdown",
   "id": "47b0e968-6dbe-48f8-8268-e00f2a0d80cd",
   "metadata": {},
   "source": [
    "to make a for loop for a dict, u make names for the 2 vairables that will hold the key and value in each key-value pair (you also need the .items() method which returns a view object that displays a list of a dictionary's key-value tuple pairs.). U can choose any nameu want ex:"
   ]
  },
  {
   "cell_type": "code",
   "execution_count": 307,
   "id": "fa30b366-f28e-43de-9138-527f17753976",
   "metadata": {},
   "outputs": [
    {
     "name": "stdout",
     "output_type": "stream",
     "text": [
      "Key: username\n",
      "value: skeptic\n",
      "Key: first\n",
      "value: william\n",
      "Key: last\n",
      "value: nguyen\n"
     ]
    }
   ],
   "source": [
    "user_0 = {\n",
    "    'username': \"skeptic\",\n",
    "    \"first\": \"william\",\n",
    "    \"last\" : 'nguyen'\n",
    "}\n",
    "\n",
    "for key, value in user_0.items():\n",
    "    print(f\"Key: {key}\")\n",
    "    print(f\"value: {value}\")"
   ]
  },
  {
   "cell_type": "markdown",
   "id": "5e783775-e883-44d8-af07-6b3f83acefc2",
   "metadata": {},
   "source": [
    "### Looping thru all the keys in a dict"
   ]
  },
  {
   "cell_type": "raw",
   "id": "3550b993-c8ac-4f52-993a-1bf5d9271843",
   "metadata": {},
   "source": [
    "the keys() methid is useful when u dont need to work with all of the values in a dict. Lets loop through the hold fav letter dict and print he names of who was polled."
   ]
  },
  {
   "cell_type": "code",
   "execution_count": 312,
   "id": "0fcdb202-da2d-4f9b-958c-f626e5e1f61e",
   "metadata": {},
   "outputs": [
    {
     "name": "stdout",
     "output_type": "stream",
     "text": [
      "name: Joe\n",
      "name: Bob\n",
      "name: Clair\n",
      "name: Diddy\n"
     ]
    }
   ],
   "source": [
    "fav_letter = {\n",
    "    'joe': \"a\",\n",
    "    'bob': \"d\",\n",
    "    'clair': \"c\",\n",
    "    \"diddy\" : \"d\"\n",
    "}\n",
    "for name in fav_letter.keys():\n",
    "    print(f\"name: {name.title()}\")"
   ]
  },
  {
   "cell_type": "markdown",
   "id": "14fdc643-afaa-455d-8463-04f4479bc914",
   "metadata": {},
   "source": [
    "but looping thru keys is actually the default behavior when looping thru a dict, so this code outputs the same as the previous one: "
   ]
  },
  {
   "cell_type": "code",
   "execution_count": 315,
   "id": "23e10d5d-3db8-4166-8591-3f25dadf9bfb",
   "metadata": {},
   "outputs": [
    {
     "name": "stdout",
     "output_type": "stream",
     "text": [
      "name: Joe\n",
      "name: Bob\n",
      "name: Clair\n",
      "name: Diddy\n"
     ]
    }
   ],
   "source": [
    "fav_letter = {\n",
    "    'joe': \"a\",\n",
    "    'bob': \"d\",\n",
    "    'clair': \"c\",\n",
    "    \"diddy\" : \"d\"\n",
    "}\n",
    "for name in fav_letter:\n",
    "    print(f\"name: {name.title()}\")"
   ]
  },
  {
   "cell_type": "raw",
   "id": "5baab34a-ec37-4437-972f-b1e1f54ca816",
   "metadata": {},
   "source": [
    "The keys method isn't just for looping, it actually returns a sequence of all the keys. And an if statement can simply check if something inst in this sequence"
   ]
  },
  {
   "cell_type": "markdown",
   "id": "57f39338-bb26-44df-8790-68f58b9d2854",
   "metadata": {},
   "source": [
    "### looping thru a dict's keys in a particular order "
   ]
  },
  {
   "cell_type": "markdown",
   "id": "3d4ffdf7-7403-4a61-b9a3-9a32f667fadf",
   "metadata": {},
   "source": [
    "When u want to loop thorugh a dict's keys in a order thats not the one they were inserted in, one way is to srot the keys as they're returned in the FOR loop using the sorted() function to get a copy of the keys in order"
   ]
  },
  {
   "cell_type": "code",
   "execution_count": 319,
   "id": "c5b526fc-9b73-4adf-b7a0-881c6aed7618",
   "metadata": {},
   "outputs": [
    {
     "name": "stdout",
     "output_type": "stream",
     "text": [
      "bob taken\n",
      "clair taken\n",
      "diddy taken\n",
      "joe taken\n"
     ]
    }
   ],
   "source": [
    "fav_letter = {\n",
    "    'joe': \"a\",\n",
    "    'bob': \"d\",\n",
    "    'clair': \"c\",\n",
    "    \"diddy\" : \"d\"\n",
    "}\n",
    "for name in sorted(fav_letter.keys()):\n",
    "    print(f\"{name} taken\")"
   ]
  },
  {
   "cell_type": "markdown",
   "id": "65b2a38d-aacb-42fd-a8d5-598d6625f237",
   "metadata": {},
   "source": [
    "### Looping through all values instead in a dictionary"
   ]
  },
  {
   "cell_type": "raw",
   "id": "7015df1c-4621-4434-846a-eb5d6e17ba66",
   "metadata": {},
   "source": [
    "if u only want the values that a dict contains, u can use values() at the end of your for loop to return a sequence of values without any keys:"
   ]
  },
  {
   "cell_type": "code",
   "execution_count": 322,
   "id": "4cb17962-d018-464d-a3b9-9a2ddd521e25",
   "metadata": {},
   "outputs": [
    {
     "name": "stdout",
     "output_type": "stream",
     "text": [
      "a\n",
      "c\n",
      "d\n",
      "d\n"
     ]
    }
   ],
   "source": [
    "fav_letter = {\n",
    "    'joe': \"a\",\n",
    "    'bob': \"d\",\n",
    "    'clair': \"c\",\n",
    "    \"diddy\" : \"d\"\n",
    "}\n",
    "for letter in sorted(fav_letter.values()):\n",
    "    print(letter)"
   ]
  },
  {
   "cell_type": "markdown",
   "id": "75f66f19-85e8-47b3-ab39-11ce63730d59",
   "metadata": {},
   "source": [
    "however this approach pull all values from the dict without checking for any repeated values. This works for smaller lists, but for bigger ones this would result in a very repetitive list. To see values without repetition, we can use the set function (a set is a collection in which each item must be unique)"
   ]
  },
  {
   "cell_type": "code",
   "execution_count": 325,
   "id": "3b4f23c7-995e-4862-ba24-4a8d5fece47a",
   "metadata": {},
   "outputs": [
    {
     "name": "stdout",
     "output_type": "stream",
     "text": [
      "a\n",
      "d\n",
      "c\n"
     ]
    }
   ],
   "source": [
    "fav_letter = {\n",
    "    'joe': \"a\",\n",
    "    'bob': \"d\",\n",
    "    'clair': \"c\",\n",
    "    \"diddy\" : \"d\"\n",
    "}\n",
    "for letter in set(fav_letter.values()):\n",
    "    print(letter)"
   ]
  },
  {
   "cell_type": "markdown",
   "id": "f2ac1ce4-df63-4eb8-be9d-f4f090b46afd",
   "metadata": {},
   "source": [
    "you can directtly build a set using braces and separating the elemtns with commas:"
   ]
  },
  {
   "cell_type": "code",
   "execution_count": 328,
   "id": "4ec9179a-9541-4fde-8ffb-5e3d349c2cd4",
   "metadata": {},
   "outputs": [
    {
     "data": {
      "text/plain": [
       "{'a', 'c', 'python', 'rust'}"
      ]
     },
     "execution_count": 328,
     "metadata": {},
     "output_type": "execute_result"
    }
   ],
   "source": [
    "lang = {'python', 'c', 'rust', 'python', 'c', 'a'}\n",
    "lang"
   ]
  },
  {
   "cell_type": "markdown",
   "id": "3f03fda4-8701-4ef5-9cf8-90315f99c04e",
   "metadata": {},
   "source": [
    "## Nesting"
   ]
  },
  {
   "cell_type": "markdown",
   "id": "d745aa2a-b975-48fa-8f54-72f5861553ac",
   "metadata": {},
   "source": [
    "sometimes youll wat to sure many dicts in a listm or a list of items as a value in a dict, or even a dict of dicts. This is called nesting and it is very powerful"
   ]
  },
  {
   "cell_type": "markdown",
   "id": "d29b8fdf-2161-4c8f-8139-3737e4436bd0",
   "metadata": {},
   "source": [
    "#### a list of dicts"
   ]
  },
  {
   "cell_type": "markdown",
   "id": "f2617549-9e8a-4b9c-994f-3d2c8a9e2104",
   "metadata": {},
   "source": [
    "going bacjk to the alien example, the alien_0 dict has info on one alien, but wehat if u want to store and manage a fleet of aliens? One way is to make a list of them in whixch each alien is a dict of info about that alien:"
   ]
  },
  {
   "cell_type": "code",
   "execution_count": 335,
   "id": "229287ad-84d7-49f1-baff-bb4a6e3e4d77",
   "metadata": {},
   "outputs": [
    {
     "name": "stdout",
     "output_type": "stream",
     "text": [
      "green\n",
      "black\n",
      "grey\n"
     ]
    }
   ],
   "source": [
    "alien_0 = {'color' : 'green', 'value' : 5}\n",
    "alien_1 = {'color' : 'black', 'value' : 20}\n",
    "alien_2 = {'color' : 'grey', 'value' : 10}\n",
    "aliens = [alien_0, alien_1, alien_2]\n",
    "for alien in aliens:\n",
    "    print(alien['color'])"
   ]
  },
  {
   "cell_type": "markdown",
   "id": "cd66587b-e10b-41b6-a0e9-cfcb102616f1",
   "metadata": {},
   "source": [
    "a better example is to make coe that automatically makes each alien:"
   ]
  },
  {
   "cell_type": "code",
   "execution_count": 337,
   "id": "b9741e8e-97ce-45ff-b02f-a473d58aa43b",
   "metadata": {},
   "outputs": [
    {
     "name": "stdout",
     "output_type": "stream",
     "text": [
      "{'color': 'green', 'point': 20, 'speed': 'fast'}\n",
      "{'color': 'green', 'point': 20, 'speed': 'fast'}\n",
      "{'color': 'green', 'point': 20, 'speed': 'fast'}\n",
      "{'color': 'green', 'point': 20, 'speed': 'fast'}\n",
      "{'color': 'green', 'point': 20, 'speed': 'fast'}\n",
      "{'color': 'green', 'point': 20, 'speed': 'fast'}\n",
      "{'color': 'green', 'point': 20, 'speed': 'fast'}\n",
      "{'color': 'green', 'point': 20, 'speed': 'fast'}\n",
      "{'color': 'green', 'point': 20, 'speed': 'fast'}\n",
      "{'color': 'green', 'point': 20, 'speed': 'fast'}\n",
      "30\n"
     ]
    }
   ],
   "source": [
    "aliens = []\n",
    "for alien_num in range(30):\n",
    "    new_alien = {'color': 'green', \"point\": 20, 'speed': \"fast\" }\n",
    "    aliens.append(new_alien)\n",
    "for alien in aliens[:10]:\n",
    "    print(alien)\n",
    "print(len(aliens))"
   ]
  },
  {
   "cell_type": "markdown",
   "id": "f1c500cb-5c5a-4f1c-80f0-1327820e632a",
   "metadata": {},
   "source": [
    "to refine this code u can add if and elif statements to even change the colors and attributes for a group of aliens. Ex: chang frist 3 alies after level 1 to red and have more points"
   ]
  },
  {
   "cell_type": "code",
   "execution_count": 339,
   "id": "ee276826-8b37-4a9a-bd0f-1b3f29cd109f",
   "metadata": {},
   "outputs": [
    {
     "name": "stdout",
     "output_type": "stream",
     "text": [
      "{'color': 'red', 'point': 5, 'speed': 'fast'}\n",
      "{'color': 'red', 'point': 5, 'speed': 'fast'}\n",
      "{'color': 'red', 'point': 5, 'speed': 'fast'}\n",
      "{'color': 'green', 'point': 20, 'speed': 'fast'}\n",
      "{'color': 'green', 'point': 20, 'speed': 'fast'}\n",
      "30\n"
     ]
    }
   ],
   "source": [
    "level_1 = True\n",
    "aliens = []\n",
    "for alien_num in range(30):\n",
    "    new_alien = {'color': 'green', \"point\": 20, 'speed': \"fast\" }\n",
    "    aliens.append(new_alien)\n",
    "for alien in aliens[:3]:\n",
    "    if level_1 and alien['color'] == \"green\":\n",
    "        alien['color'] = \"red\"\n",
    "        alien[\"point\"] = 5\n",
    "for alien in aliens[:5]:\n",
    "    print(alien)\n",
    "print(len(aliens))"
   ]
  },
  {
   "cell_type": "markdown",
   "id": "fe36af1f-9bf2-4769-b673-880553d51728",
   "metadata": {},
   "source": [
    "its common to sore a number of dicts in a list when each dict contains a=many kids of info about one object. like making a dict for each user on a site, and storing them in a users list"
   ]
  },
  {
   "cell_type": "markdown",
   "id": "f6ba981a-a355-4449-86e0-3849c45d50e2",
   "metadata": {},
   "source": [
    "### A list in a dict"
   ]
  },
  {
   "cell_type": "markdown",
   "id": "7eb5609d-ca5b-495a-a84d-e9e69fa7f6b4",
   "metadata": {},
   "source": [
    "Its sometimes useful to pit a list in a dict. Ex consider how you might define a pizza that someone orders, if u were to only use a list, then all u could really store are the toppings.With a dict, toppings can be just one aspect of the pizza object u are describing."
   ]
  },
  {
   "cell_type": "code",
   "execution_count": 346,
   "id": "89776c0c-ae63-4380-aefc-71a445569506",
   "metadata": {},
   "outputs": [
    {
     "name": "stdout",
     "output_type": "stream",
     "text": [
      "joe's fav letters are:\n",
      "a\n",
      "g\n",
      "bob's fav letter is d\n",
      "\n",
      "clair's fav letter is c\n",
      "\n",
      "diddy's fav letters are:\n",
      "d\n",
      "l\n",
      "h\n",
      "k\n"
     ]
    }
   ],
   "source": [
    "fav_letter = {\n",
    "    'joe': ['a', 'g'],\n",
    "    'bob': \"d\",\n",
    "    'clair': \"c\",\n",
    "    \"diddy\" : [\"d\", 'l', 'h', 'k']\n",
    "}\n",
    "for name, letters in fav_letter.items():\n",
    "    if len(letters) == 1:\n",
    "        print(f\"{name}'s fav letter is {letters}\\n\")\n",
    "    else:\n",
    "        print(f\"{name}'s fav letters are:\")\n",
    "        for letter in letters:\n",
    "            print(f\"{letter}\")"
   ]
  },
  {
   "cell_type": "markdown",
   "id": "98693d5a-f149-47a4-9799-99ca2016d044",
   "metadata": {},
   "source": [
    "### A dict in a dict"
   ]
  },
  {
   "cell_type": "code",
   "execution_count": 348,
   "id": "4167ae38-9a82-4a59-92e1-4da7f3aa94ca",
   "metadata": {},
   "outputs": [],
   "source": [
    "users = {\n",
    "    'albert' : {\n",
    "        'name': \"alb\",\n",
    "        'location' : 'paris'\n",
    "    },\n",
    "     'bob' : {\n",
    "        'name': \"bo\",\n",
    "        'location' : 'london'\n",
    "    }\n",
    "}"
   ]
  },
  {
   "cell_type": "markdown",
   "id": "4eb9aba5-9e21-480a-8045-b61a318a8ff8",
   "metadata": {},
   "source": [
    "# Chapter 7 : User Input and While Loops"
   ]
  },
  {
   "cell_type": "markdown",
   "id": "58257b0f-6159-43a2-bd16-996bd60afd60",
   "metadata": {},
   "source": [
    "To recive input from a user wather that be heiot age, a list of numbers, or just aobut anytinh, youll use the input(\"\") function. Also u can keep programs runnign as long as a user wants using pythons while loops to keep them running as long as certin conditions are met or remin true."
   ]
  },
  {
   "cell_type": "raw",
   "id": "24940a4a-f81e-4e96-9f5a-bc8e2fe12a9c",
   "metadata": {},
   "source": [
    "the inpuit() puses ur program and waits for the uder to enter some text. One python recivers the input, it assigns that input to a var to make it eaier for u to work with. Ex:"
   ]
  },
  {
   "cell_type": "code",
   "execution_count": 353,
   "id": "c07c2329-f851-4e80-995d-2b73ba3f4f86",
   "metadata": {},
   "outputs": [
    {
     "name": "stdin",
     "output_type": "stream",
     "text": [
      "Do you want pain? no\n"
     ]
    },
    {
     "name": "stdout",
     "output_type": "stream",
     "text": [
      "no\n"
     ]
    }
   ],
   "source": [
    "message = input(\"Do you want pain?\")\n",
    "print(message)"
   ]
  },
  {
   "cell_type": "markdown",
   "id": "5614d719-58f3-4cbd-ae94-dca2797efb32",
   "metadata": {},
   "source": [
    "Sometimes youll want to make a prompt thats longer then one line. So u can assign ur prompt to a var and pass that var into input() allowing for cleaner statemnts:"
   ]
  },
  {
   "cell_type": "code",
   "execution_count": 356,
   "id": "36f10579-718a-414b-96a7-129fec5593ca",
   "metadata": {},
   "outputs": [
    {
     "name": "stdin",
     "output_type": "stream",
     "text": [
      "If u share name we can personalize message\n",
      "What is ur name q\n"
     ]
    },
    {
     "name": "stdout",
     "output_type": "stream",
     "text": [
      "hello q\n"
     ]
    }
   ],
   "source": [
    "prompt = \"If u share name we can personalize message\"\n",
    "prompt += \"\\nWhat is ur name\"\n",
    "name = input(prompt)\n",
    "print(f\"hello {name}\")"
   ]
  },
  {
   "cell_type": "raw",
   "id": "eb7c4e37-b415-4da8-8c18-8248f682addb",
   "metadata": {},
   "source": [
    "(the += operator takes first string and adds new string onto the end)"
   ]
  },
  {
   "cell_type": "markdown",
   "id": "173acb50-18b8-4fb4-beaa-5b58f7ce480d",
   "metadata": {
    "jp-MarkdownHeadingCollapsed": true
   },
   "source": [
    "### Using int() to accept numerical input"
   ]
  },
  {
   "cell_type": "markdown",
   "id": "fd95156b-dd57-4d52-bd95-e81bf4546121",
   "metadata": {},
   "source": [
    "when u use input() pyton takes everything the user puts in as a string. WHEN using an input that ask for an gae,  it will return 'num' where num is the num they enterd. We know its a strign as there is qoute marks around the number. we can resule this by just putting the input with int()"
   ]
  },
  {
   "cell_type": "code",
   "execution_count": null,
   "id": "013c9e3c-8605-4b4f-b22a-9160ee4b36e6",
   "metadata": {},
   "outputs": [],
   "source": [
    "height = input(\"how tall r u: \")\n",
    "height = int(height)\n",
    "if height > 41:\n",
    "    print(\"u can ride\")\n",
    "else:\n",
    "    print(\"no\")"
   ]
  },
  {
   "cell_type": "markdown",
   "id": "801bb21b-7d00-4867-94d3-0fee981fc7a7",
   "metadata": {},
   "source": [
    "## Using while loops"
   ]
  },
  {
   "cell_type": "markdown",
   "id": "c5714afa-540d-41f9-8c5d-6c4f4868c8bc",
   "metadata": {},
   "source": [
    "the for loop takes a collection of items and executes a block of code for each item in the collection. However, the while loop runs as long as, or while a certain condition is true. Quick example of using a while loop to count:"
   ]
  },
  {
   "cell_type": "code",
   "execution_count": null,
   "id": "858939a8-f405-4c3e-8638-6113cf23723d",
   "metadata": {},
   "outputs": [],
   "source": [
    "current = 1\n",
    "while current  <=5:\n",
    "    print(current)\n",
    "    current += 1"
   ]
  },
  {
   "cell_type": "markdown",
   "id": "6c70c416-27cd-45eb-9947-dc82adaf064d",
   "metadata": {},
   "source": [
    "You can use while loops to check if a user input matches a value so an action, like quitting a program can be done:"
   ]
  },
  {
   "cell_type": "code",
   "execution_count": null,
   "id": "d272ef6d-edc6-49c8-bd03-399be8f894e4",
   "metadata": {},
   "outputs": [],
   "source": [
    "prompt = \"say words and i will repat it back to u\"\n",
    "prompt += \"if u say 'quit' this program will end\"\n",
    "message = \"\"\n",
    "while message != \"quit\":\n",
    "    message = input(prompt)\n",
    "    if message != \"quit\":\n",
    "        print(message)"
   ]
  },
  {
   "cell_type": "markdown",
   "id": "25d00191-11dc-4f77-a93f-d49b62dbaace",
   "metadata": {},
   "source": [
    "we define message first as \"\" so that python has somthing to check in the frist while line the first tiem it reaches it"
   ]
  },
  {
   "cell_type": "markdown",
   "id": "c2fe07d2-e8cd-482e-9f43-acb3a252faaf",
   "metadata": {},
   "source": [
    "### using a flag"
   ]
  },
  {
   "cell_type": "markdown",
   "id": "a6845a0a-fcae-4108-8803-49d12381aab9",
   "metadata": {},
   "source": [
    "A flag  acts as a signal to the program whether r not it should be running. This is important as there may be cases where while loops need mutipklrew conditions to be true so it can keep on running.  So, u should define one var that determines whether something should be running. We can set the programs so they run while the fklag is set to true and stop running once it is false. So our while statment need to check only one condition: whether the flag is true or not"
   ]
  },
  {
   "cell_type": "code",
   "execution_count": null,
   "id": "11e60f4c-b233-42e2-94c7-aff0263c646c",
   "metadata": {},
   "outputs": [],
   "source": [
    "prompt = \"say words and i will repeat it back to u\"\n",
    "prompt += \"if u say 'quit' this program will end\"\n",
    "active = True\n",
    "while active:\n",
    "    message = input(prompt)\n",
    "    if message != \"quit\":\n",
    "        print(message)\n",
    "    else:\n",
    "        active = False"
   ]
  },
  {
   "cell_type": "markdown",
   "id": "cc52fe78-02ec-47a3-be47-5517a40f02a9",
   "metadata": {},
   "source": [
    "in this case the falg is active. Also, it would be easier now that we haVE A flag to add more tests (such as elif statments) for events that chould cause active to become flase. This is good in cimplciated programs like hames."
   ]
  },
  {
   "cell_type": "markdown",
   "id": "ed9db342-177b-482e-ba74-0e878d875b11",
   "metadata": {},
   "source": [
    "### Using break to exit loops"
   ]
  },
  {
   "cell_type": "markdown",
   "id": "52b495d2-7945-4dca-9b19-4585a2d973da",
   "metadata": {},
   "source": [
    "prompt = \"give city names ud like to visit\"\n",
    "prompt += \"\\nif u say 'quit' this program will end\"\n",
    "while True:\n",
    "    city = input(prompt)\n",
    "    if city == \"quit\":\n",
    "        break\n",
    "    else:\n",
    "        print(f\"id love to go to {city}!\")"
   ]
  },
  {
   "cell_type": "markdown",
   "id": "d11319e1-e3fb-4346-9d2f-3e930ca61cb3",
   "metadata": {},
   "source": [
    "A loop stating with while ture will run forever unless it reachers a break statment regardless of any conditional statments. The quit isvtpyed the break statment runs cauing pytho to exit the loop. Breaks can be used in any loops, not just while loops."
   ]
  },
  {
   "cell_type": "markdown",
   "id": "ee925da5-7fe7-4ef0-b160-d1bf469d4993",
   "metadata": {},
   "source": [
    "### using continue in loops"
   ]
  },
  {
   "cell_type": "markdown",
   "id": "34050db1-6a60-4599-bfbf-c6e9d4285d6f",
   "metadata": {},
   "source": [
    "rather then breaking out of a loop completely without exciting the rest of the intended code, if u want it to run for certain values,  u can use trhe continue statement to return to the beginning of the loop and on to the next iteration. Ex: conside loop counting only odd numbers"
   ]
  },
  {
   "cell_type": "code",
   "execution_count": null,
   "id": "d93e32f3-4681-459c-9d95-bfe545558a3d",
   "metadata": {},
   "outputs": [],
   "source": [
    "num = 0\n",
    "while num < 10:\n",
    "    num += 1\n",
    "    if num % 2 == 0:\n",
    "        continue\n",
    "    print(num)"
   ]
  },
  {
   "cell_type": "markdown",
   "id": "551ff65c-929f-4379-8805-50b2e602b165",
   "metadata": {},
   "source": [
    "see that once you get an even number, you just go back to the start of the loop and ignore the rest of the code then add one  untill num < 10"
   ]
  },
  {
   "cell_type": "markdown",
   "id": "cf8951fc-bf16-4864-afd8-a6d723e4d8da",
   "metadata": {},
   "source": [
    "## Using a while loops with lits and dicts"
   ]
  },
  {
   "cell_type": "raw",
   "id": "e5881784-4ddc-4e46-80f3-7e1fb1ec3b6f",
   "metadata": {},
   "source": [
    "To keep track of many users and pieces of info well need to use lists and dicts w/ our while loops. A for loop is good for looping thru a list but u shouldn't modify a list inside one as Python will have trouble keeping track of the items in the list. Instead u should use a while loop / dicts and lists allow  u to collect store, and organize lots of input to examine and report on later. An example next is mpvign items from oen list to another"
   ]
  },
  {
   "cell_type": "code",
   "execution_count": null,
   "id": "9140c96f-9f7c-4cf5-9396-8e9e0fd9bbb1",
   "metadata": {},
   "outputs": [],
   "source": [
    "unconfirmed_users= [\"bob\", \"alice\", \"arisu\"]\n",
    "users = []\n",
    "\n",
    "while unconfirmed_users:\n",
    "    current_user = unconfirmed_users.pop()\n",
    "    print(f\"verifying {current_user}\")\n",
    "    users.append(current_user)\n",
    "\n",
    "print(\"\\n follwoing ppl r confirmed:\")\n",
    "for user in users:\n",
    "    print(user.title())"
   ]
  },
  {
   "cell_type": "markdown",
   "id": "016dfcd7-9ea8-40fe-a60a-75deb0f68dec",
   "metadata": {},
   "source": [
    "We used a while loop to pull ppl from list of unconfirmed as we verify them then add them to a separate list of normal users."
   ]
  },
  {
   "cell_type": "markdown",
   "id": "c362a033-209e-4a33-9285-a8e424190c1b",
   "metadata": {},
   "source": [
    "#### removing all instances of  specific values from a list"
   ]
  },
  {
   "cell_type": "markdown",
   "id": "0992686f-2b73-4ae9-8037-5aa03c8e7a57",
   "metadata": {},
   "source": [
    "In chapter 3 we used remove() to take out specific values from a list. This worked as the item only appeared once in a list that we wanted to remove. But if we need to remove all instances of  an item, run a while loop until that value is not in list:"
   ]
  },
  {
   "cell_type": "code",
   "execution_count": null,
   "id": "24091488-7d0f-4b7e-bcd7-abcbc6e4e20f",
   "metadata": {},
   "outputs": [],
   "source": [
    "pets = [\"cats\", \"dogs\", \"bird\", \"cats\", \"dogs\", \"bird\", \"cats\", \"dogs\", \"bird\"]\n",
    "while 'cats' in pets:\n",
    "    pets.remove(\"cats\")\n",
    "pets"
   ]
  },
  {
   "cell_type": "markdown",
   "id": "8d6451ea-90e4-41ad-99cf-19f85bbf623f",
   "metadata": {},
   "source": [
    "### filling a dict w/ user input"
   ]
  },
  {
   "cell_type": "markdown",
   "id": "6912fb76-6fa4-4d4b-be93-f466ad340fd1",
   "metadata": {},
   "source": [
    "You can prompt for as much info as u need and store it as key values pairs by putting the proms in a while loop, and lettign it run untill the user ands to qout the program:"
   ]
  },
  {
   "cell_type": "code",
   "execution_count": null,
   "id": "85d2da0e-2567-4847-a1fe-d94a1f2dbdfd",
   "metadata": {},
   "outputs": [],
   "source": [
    "responces = {}\n",
    "poll_active = True\n",
    "while poll_active:\n",
    "    name = input(\"\\n what is your name?\")\n",
    "    location = input(\"where wpuld u like to vist\")\n",
    "    responces[name] = location\n",
    "    repeat = input(\"would u like to poll antoher person (yes / no)\")\n",
    "    if repeat == \"no\":\n",
    "        poll_active = False\n",
    "        \n",
    "print(\"\\n---Poll Results---\")\n",
    "for name, location in responces.items():\n",
    "    print(f\"{name} would like to go to {location}\")"
   ]
  },
  {
   "cell_type": "markdown",
   "id": "bb8055cf-09e3-4983-a9d1-19fa5bf1bf56",
   "metadata": {},
   "source": [
    "# CHAPTER 8: FUNCTIONS"
   ]
  },
  {
   "cell_type": "markdown",
   "id": "c8ab554d-cb99-4b94-a8d1-e2bab37af103",
   "metadata": {},
   "source": [
    "Funcations are named blocks of code desgined to do one specific job when you call them."
   ]
  },
  {
   "cell_type": "markdown",
   "id": "c954498b-2348-4a1d-a1fd-306e298a0918",
   "metadata": {},
   "source": [
    "### Passing info into a function"
   ]
  },
  {
   "cell_type": "code",
   "execution_count": null,
   "id": "5aabd3bd-9c20-4865-ad8b-bec5ca5cccc7",
   "metadata": {},
   "outputs": [],
   "source": [
    "def greet_user(name):\n",
    "    print(f\"Hello {name.title()}\")\n",
    "greet_user(\"Bob\")"
   ]
  },
  {
   "cell_type": "markdown",
   "id": "a59f6000-0faf-4b1f-a23b-9c748c8d1214",
   "metadata": {},
   "source": [
    "The first line uses the keyword def to inform Python that you're defining a function. This is the function definition which tell python the name and what info the function needs to do its job. The name is an example of a parameter, which is a piece of info the function needs to do its job. Bob is an example of an argument, which is assigned to the parameter name"
   ]
  },
  {
   "cell_type": "markdown",
   "id": "ae078e6b-a90a-42f4-9967-46507bd4f253",
   "metadata": {},
   "source": [
    "### passing arguments"
   ]
  },
  {
   "cell_type": "markdown",
   "id": "de49344f-b41b-4803-8bcf-29424922c23c",
   "metadata": {},
   "source": [
    "Since a function definition can have > 1 arguments, u can pass arguments to your function in many ways. You can use positional arguments which need to be in the same over as the parameters were written; keyword arguments where each argument contains of a var name and a value; and lits and dictionary of values."
   ]
  },
  {
   "cell_type": "code",
   "execution_count": null,
   "id": "6ef66773-27fa-4022-b6de-cbcc70597b5a",
   "metadata": {},
   "outputs": [],
   "source": [
    "def pet(animal, name):\n",
    "    print(f\"i have a {animal}\")\n",
    "    print(f\"my {animal}'s name is {name}\")\n",
    "pet('cat','harry')"
   ]
  },
  {
   "cell_type": "markdown",
   "id": "c0f36921-5c33-49b4-a611-c6b44194bc8c",
   "metadata": {},
   "source": [
    "A keyword arguemet has a name value pair that u pass in a function parameters.U directly associate the name and value within the argument, so when u pass it into the function there is no confusion. Ex:"
   ]
  },
  {
   "cell_type": "code",
   "execution_count": null,
   "id": "b518cf7b-af53-4516-ae74-e8bcc9eeefae",
   "metadata": {},
   "outputs": [],
   "source": [
    "def pet(animal, name):\n",
    "    print(f\"i have a {animal}\")\n",
    "    print(f\"my {animal}'s name is {name}\")\n",
    "pet(animal = \"dog\",name ='harry') "
   ]
  },
  {
   "cell_type": "markdown",
   "id": "8e1377f4-3951-4ec1-ab95-a3e8fd2ee0e2",
   "metadata": {},
   "source": [
    "### default values"
   ]
  },
  {
   "cell_type": "markdown",
   "id": "33540a55-afb6-475e-84bf-49215b40b2b8",
   "metadata": {},
   "source": [
    "when making a f(x) u can define a default value for each parameter  if the argument is not provided within the function call it uses the default value in place of it: (however, the default parameter must come after any parameters without a default value unless u directly use a keyword argue,nt for the undefaulted parameter)"
   ]
  },
  {
   "cell_type": "code",
   "execution_count": null,
   "id": "c87610b0-8085-41ef-96c2-db280f49d964",
   "metadata": {},
   "outputs": [],
   "source": [
    "def pet(name, animal = 'dog'):\n",
    "    print(f\"i have a {animal}\")\n",
    "    print(f\"my {animal}'s name is {name}\")\n",
    "pet(name ='harry') "
   ]
  },
  {
   "cell_type": "markdown",
   "id": "7d602893-8ccc-4636-8d17-d989c5e760e4",
   "metadata": {},
   "source": [
    "## Return values"
   ]
  },
  {
   "cell_type": "raw",
   "id": "e4a33ecc-b66d-4612-a8ba-fe0ccbef2ce1",
   "metadata": {},
   "source": [
    " a function deos not have to display an output directly. Itstead it can process some data and then return a value or et of values. The value the f(x0 retunes is called the return value. The RETURN statment takes a value from inside a f(x) and  sends it back to the line that called the f(x). These return values allow u to move much of ur program's grunt work into a f(x)"
   ]
  },
  {
   "cell_type": "code",
   "execution_count": null,
   "id": "ad37e9d1-bd5a-4fe3-a4c4-3861cd8fc23e",
   "metadata": {},
   "outputs": [],
   "source": [
    "def get_name(first, last):\n",
    "    full_name = f\"{first} {last}\"\n",
    "    return full_name.title()\n",
    "dude = get_name(\"joe\", \"star\")\n",
    "print(dude)"
   ]
  },
  {
   "cell_type": "markdown",
   "id": "8e8fea0f-b360-4078-a7d7-807514d8ced5",
   "metadata": {},
   "source": [
    "in code above,  when u call a fucntio that retuens a value, u need to perovide a var that the returen value can be assignted to."
   ]
  },
  {
   "cell_type": "markdown",
   "id": "6d4a3eab-2b42-4b1e-b915-2ce5d4c43e3d",
   "metadata": {},
   "source": [
    "### making optional arguements"
   ]
  },
  {
   "cell_type": "raw",
   "id": "8aa8dd1a-b0b0-4194-8050-26ee14426029",
   "metadata": {},
   "source": [
    "sometimes it makes sence to make argue,tns optional soem ppl who want to can provide additional infoamtion. U cna use defult values to make arguemtns optional by setting their default value to = ''. Ex optional middle name:"
   ]
  },
  {
   "cell_type": "code",
   "execution_count": null,
   "id": "3b5cc9e4-5fc6-4c91-8384-cf96738eaa5e",
   "metadata": {},
   "outputs": [],
   "source": [
    "def get_name(first,last, middle=''):\n",
    "   if middle:\n",
    "       full_name = f\"{first} {middle} {last}\"\n",
    "   else:\n",
    "       full_name = f\"{first} {last}\"\n",
    "   return full_name.title()\n",
    "\n",
    "\n",
    "dude = get_name(\"joe\", \"star\", \"jojo\")\n",
    "print(dude)\n",
    "man = get_name(\"joe\", \"jojo\")\n",
    "print(man)"
   ]
  },
  {
   "cell_type": "markdown",
   "id": "8a07c4f8-5916-4e35-aadc-1932b0ab45df",
   "metadata": {},
   "source": [
    "### retuning a dict"
   ]
  },
  {
   "cell_type": "raw",
   "id": "74d6547f-09c7-4c43-b0e7-db72eddb9be7",
   "metadata": {},
   "source": [
    "a function can return any kid of value you want it to, including more complex data structures like lists and dcits. Ex: retuning a dict with frist and list name key-value pairs:"
   ]
  },
  {
   "cell_type": "code",
   "execution_count": null,
   "id": "b7295841-5819-4853-988c-798e599c2f4a",
   "metadata": {},
   "outputs": [],
   "source": [
    "def get_name(first,last):\n",
    "    person = {'first': first, 'last': last}\n",
    "    return person\n",
    "print(get_name(\"joe\", \"biden\"))"
   ]
  },
  {
   "cell_type": "markdown",
   "id": "6e553f89-3c0f-4f4a-bdcf-018cb763a57a",
   "metadata": {},
   "source": [
    "### using a fucntion within a while loop:"
   ]
  },
  {
   "cell_type": "code",
   "execution_count": null,
   "id": "fc066280-eb16-4674-9219-3c0a22797457",
   "metadata": {},
   "outputs": [],
   "source": [
    "def count(num):\n",
    "    print(num)\n",
    "i = 1\n",
    "while i in range(1,11):\n",
    "    count(i)\n",
    "    i += 1"
   ]
  },
  {
   "cell_type": "code",
   "execution_count": null,
   "id": "e2a28901-1756-4e12-8e4e-ef10147aa229",
   "metadata": {},
   "outputs": [],
   "source": [
    "def get_name(first, last):\n",
    "    full_name = f\"{first} {last}\"\n",
    "    return full_name.title()\n",
    "\n",
    "while True:\n",
    "    print(\"\\npls tell us ur name\")\n",
    "    print(\"type q to quit\")\n",
    "    f_name = input(\"what is frist name\")\n",
    "    if f_name == \"q\":\n",
    "        break\n",
    "    l_name = input(\"what is last name\")\n",
    "    if l_name == \"q\":\n",
    "        break\n",
    "    name = get_name(f_name, l_name)\n",
    "    print(f\"hello {name}!\")"
   ]
  },
  {
   "cell_type": "markdown",
   "id": "7fcaff26-da17-47ee-8317-d40880e200d9",
   "metadata": {},
   "source": [
    "### passing a list inot a fucntion and modiftyibng lists in a fucntion"
   ]
  },
  {
   "cell_type": "code",
   "execution_count": null,
   "id": "a70c0287-2ef4-4449-8ce3-734bde60d512",
   "metadata": {},
   "outputs": [],
   "source": [
    "def greet_users(names):\n",
    "    for name in names:\n",
    "        print(f\"hello {name.title()}\")\n",
    "numbers = [\"a\",\"b\",\"c\"]\n",
    "greet_users(numbers)"
   ]
  },
  {
   "cell_type": "code",
   "execution_count": null,
   "id": "768fd2e8-e661-432e-9f64-c196415d40fc",
   "metadata": {},
   "outputs": [],
   "source": [
    "unprinteds = [\"cup\", \"car\", \"boat\"]\n",
    "printeds = []\n",
    "def printer(items, new):\n",
    "    while items:\n",
    "        current = items.pop()\n",
    "        print(f\"printing {current}\")\n",
    "        new.append(current)\n",
    "        print(\"done\")\n",
    "def display_all(items):\n",
    "    print(\"\\nfollowgn hVE BEENn printed\")\n",
    "    for item in items:\n",
    "        print(item)\n",
    "printer(unprinteds, printeds)\n",
    "display_all(printeds)"
   ]
  },
  {
   "cell_type": "markdown",
   "id": "20765bc2-2b80-4ec3-890d-9e0f3e98636c",
   "metadata": {},
   "source": [
    "When wrting code in [ytophn, every fucntion should have only one spexcefic job. Ex: the frist one prints each desgin while the 2nd one displaus complted degins"
   ]
  },
  {
   "cell_type": "markdown",
   "id": "803445c4-06ca-43b8-a49b-9971e929bbde",
   "metadata": {},
   "source": [
    "In the same code as abolve, if u want to prevent the fucntuion from actuallym modifiyng the conts of unpreinted  bhut still want it to work with the list's items, u can just put unprinteds[:] to recie all the items while only using a copy of the list to do so."
   ]
  },
  {
   "cell_type": "markdown",
   "id": "33a046ef-d6f4-44a4-8040-3251fcc8aef1",
   "metadata": {},
   "source": [
    "### passing an arbitrary number of  arguments"
   ]
  },
  {
   "cell_type": "code",
   "execution_count": null,
   "id": "67fab05d-3acf-468c-a379-f8a0f662c4f9",
   "metadata": {},
   "outputs": [],
   "source": [
    "def make_pizza(*toppings):\n",
    "    print(\"we will use follwing stuff:\")\n",
    "    for topping in toppings:\n",
    "        print(f\"\\n-{topping}\")\n",
    "make_pizza('pepperoni')\n",
    "make_pizza(\"pepperoina\", \"cheese\", \"olive\")"
   ]
  },
  {
   "cell_type": "markdown",
   "id": "08ffd2e4-8725-4c9a-9a92-f3357489bc17",
   "metadata": {},
   "source": [
    "if u want a fucntion to accpet several different types ofagru,ents, the parmeter accepting an arbitary number oif arugments must be plased last in the code for syntax reasobns."
   ]
  },
  {
   "cell_type": "markdown",
   "id": "c9ec95e8-eae3-46c5-9e4b-9c580fc7f85b",
   "metadata": {},
   "source": [
    "### using aribtary keyword arguments"
   ]
  },
  {
   "cell_type": "raw",
   "id": "c8f12e31-0142-4132-8aad-dd1e01e30310",
   "metadata": {},
   "source": [
    "Sometimes youll want to accept an arbitary numer of aguments but wont know ahead of time whart info will be passed to the function. In this case u can make a fucntion that accpects as many key-value pairs as the calling statement prvoides."
   ]
  },
  {
   "cell_type": "code",
   "execution_count": null,
   "id": "0002a131-81e4-4771-b089-d33487024894",
   "metadata": {},
   "outputs": [],
   "source": [
    "def build_profile(first, last, **user_info):\n",
    "    user_info[\"first-name\"] = first\n",
    "    user_info[\"last-name\"] = last\n",
    "    return user_info\n",
    "\n",
    "user = build_profile('albert', 'einstine', feild='physcis', adress='germany')\n",
    "print(user)"
   ]
  },
  {
   "cell_type": "raw",
   "id": "e825f8ca-ca63-4393-8c80-95d9b8572295",
   "metadata": {},
   "source": [
    "the doube star before user_info tells python to make a dict called user_info containg all extra nam,e value pairs the f(x) recives."
   ]
  },
  {
   "cell_type": "markdown",
   "id": "19e5a5bf-68a8-4ca7-ac71-030b484e05d2",
   "metadata": {},
   "source": [
    "## storing fucntions in modules "
   ]
  },
  {
   "cell_type": "markdown",
   "id": "0fd8f4b1-3a96-4d44-b78b-c2d5bc7053a9",
   "metadata": {},
   "source": [
    "a module is a file that contains function u can use or import  here how to do so:"
   ]
  },
  {
   "cell_type": "raw",
   "id": "ad105ad7-eefc-4705-8cbc-75439fd8b5a3",
   "metadata": {},
   "source": [
    "say we have a file called pizza.py that has functions u need, one called make_pizza, to import it in a fiel called making_pizza.py u do this:"
   ]
  },
  {
   "cell_type": "code",
   "execution_count": null,
   "id": "dc7eeb5e-5283-4709-98e0-7884858a6080",
   "metadata": {},
   "outputs": [],
   "source": [
    "import pizza\n",
    "\n",
    "pizza.make_pizza(12, \"mushroom\")"
   ]
  },
  {
   "cell_type": "markdown",
   "id": "770a74fa-e75a-4f5a-8d84-a36b4dd0ff8c",
   "metadata": {},
   "source": [
    "to impeort spcefic fucntions do this: (thebn u dont need the . syntax wehn u call the function)"
   ]
  },
  {
   "cell_type": "code",
   "execution_count": null,
   "id": "9199c05a-2a33-4e2f-b144-97913861dd08",
   "metadata": {},
   "outputs": [],
   "source": [
    "from pizza import make_pizza\n",
    "make_pizza(12, \"mushrooms\")"
   ]
  },
  {
   "cell_type": "markdown",
   "id": "e6a71813-7737-4bbf-95c5-3532a906ef26",
   "metadata": {},
   "source": [
    "You can use the as  to give a function and a moudle an Alis if the name conflicts with the code and vars u alrweady have:"
   ]
  },
  {
   "cell_type": "code",
   "execution_count": null,
   "id": "554db0f5-b509-453e-88d9-fa873e9da895",
   "metadata": {},
   "outputs": [],
   "source": [
    "from pizza import make_pizza as mp\n",
    "mp(12, \"mushrooms\")\n",
    "\n",
    "import pizza as p\n",
    "p.make_pizza(12, 'mushrooms')\n"
   ]
  },
  {
   "cell_type": "markdown",
   "id": "ac88900b-4b58-4971-8062-b7a582e541d5",
   "metadata": {},
   "source": [
    "# CHAPTER 9: Classes"
   ]
  },
  {
   "cell_type": "markdown",
   "id": "c09c251f-685c-4c71-aa11-062180dbe746",
   "metadata": {},
   "source": [
    "Object oriented programmign is oen o the most effective approces to writing softwre. In oop u write classes that represent eal wrodl stuff and situations. U make objects based on these classes. When u make a class u define the general behaivor that a whole cateogy of objects can have."
   ]
  },
  {
   "cell_type": "markdown",
   "id": "c9e7e9bc-669c-454b-be02-c7e402280840",
   "metadata": {},
   "source": [
    "Making an object from a class is called instantiation, and u work with instances of a class."
   ]
  },
  {
   "cell_type": "markdown",
   "id": "56d540a9-d5a5-44fc-a663-b604af44ce70",
   "metadata": {},
   "source": [
    "### making and using a class"
   ]
  },
  {
   "cell_type": "markdown",
   "id": "be20d75c-6774-411e-b61d-3bbb83dce7a5",
   "metadata": {},
   "source": [
    "lets make a class that prents a dog (actually any dog). What do we know abt dogs, well they have names and ages. Aslo they sit and roll over. these 2 ifno (name and age)  and these 2 behairvors(sit, roll) will go into our class."
   ]
  },
  {
   "cell_type": "code",
   "execution_count": null,
   "id": "1144b16c-685b-4b70-b86f-2b9b99a4f692",
   "metadata": {},
   "outputs": [],
   "source": [
    "class Dog:\n",
    "    def __init__(self,name,age):\n",
    "        self.name = name\n",
    "        self.age = age\n",
    "    def sit(self):\n",
    "        print(f'{self.name} is now sitting')\n",
    "    def roll(self):\n",
    "        print(f\"{self.name} rolled over!\")"
   ]
  },
  {
   "cell_type": "raw",
   "id": "a2a8008a-2569-428a-96a3-3a2711d48035",
   "metadata": {},
   "source": [
    "The __unit__ method is a special one that Python runs automatically when vert, we make a new instance of the dog class. It always rounded by 2 underscores, a convention to help prevent Python's default method names from conflicting w/ URS. The self parameter is required and it must come first. Because then python calls this method later (to make an instance of DOG), the method call auto passes the self argu,en which is a reference to the instance itself; giving the indivual instance access to tjhe artibutes and methods from the class."
   ]
  },
  {
   "cell_type": "code",
   "execution_count": null,
   "id": "eb5b1d14-d5b4-4956-9431-3d21494210ef",
   "metadata": {},
   "outputs": [],
   "source": [
    "my_dog = Dog(\"willy\", 6)\n",
    "print(my_dog.age)\n",
    "my_dog.sit()"
   ]
  },
  {
   "cell_type": "markdown",
   "id": "05509c20-43fb-41dc-8132-95e81cf4a44e",
   "metadata": {},
   "source": [
    "### working w/ classes and instances"
   ]
  },
  {
   "cell_type": "raw",
   "id": "a4c8458b-9d56-4746-ad04-c1a1559d3dfb",
   "metadata": {},
   "source": [
    "One ask u migth want to do is  modify the atteibutes associated w/ a particualr instance. U can do this dirctly or write methods that update attributes in specefic ways."
   ]
  },
  {
   "cell_type": "code",
   "execution_count": null,
   "id": "56f1df4b-00b2-4178-b3c3-45cc4e1abbc5",
   "metadata": {},
   "outputs": [],
   "source": [
    "class Car:\n",
    "    def __init__(self, model, year, owned):\n",
    "        self.model = model\n",
    "        self.year = year\n",
    "        self.owned = owned\n",
    "    def get_description(self):\n",
    "        long_name = f\"A {self.year} {self.model}\"\n",
    "        return long_name.title()\n",
    "my_car = Car('audi', 2009, True)\n",
    "my_car.get_description()"
   ]
  },
  {
   "cell_type": "raw",
   "id": "42ebd711-b112-4c09-ae00-c7cc9f9a8226",
   "metadata": {},
   "source": [
    "we can add attribute that changes over tiem such as mileage. to add a defualt value just srt it equal to what u wnat and u odtn need ot put it in as a parameter for init"
   ]
  },
  {
   "cell_type": "code",
   "execution_count": null,
   "id": "9dae0c3b-225a-4637-9655-90255061e5b8",
   "metadata": {},
   "outputs": [],
   "source": [
    "class Car:\n",
    "    def __init__(self, model, year, owned):\n",
    "        self.model = model\n",
    "        self.year = year\n",
    "        self.owned = owned\n",
    "        self.meter_reading = 0\n",
    "    def get_description(self):\n",
    "        long_name = f\"A {self.year} {self.model}\"\n",
    "        return long_name.title()"
   ]
  },
  {
   "cell_type": "markdown",
   "id": "b90535d0-760b-4e17-922b-5cb6e7ce1dbc",
   "metadata": {},
   "source": [
    "3 ways to body attribute values: 1 change the value directly through an instance,2 set the value thru a method,3 or increment the value through a method."
   ]
  },
  {
   "cell_type": "code",
   "execution_count": null,
   "id": "448ca5b1-4e44-44aa-b678-61d712d555b0",
   "metadata": {},
   "outputs": [],
   "source": [
    "my_car = Car('audi', 2008, True)\n",
    "my_car.odometer_reading = 32"
   ]
  },
  {
   "cell_type": "code",
   "execution_count": null,
   "id": "90b44a71-7097-4231-8caa-170b5b6d5905",
   "metadata": {},
   "outputs": [],
   "source": [
    "class Car:\n",
    "    --snip--\n",
    "    def update_odometer(self, mileage):\n",
    "        if mileage >= self.meter_reading:\n",
    "            self.meter_reading = mileage\n",
    "        else:\n",
    "            print(\"u cant roll back a odometer\")\n",
    "    "
   ]
  },
  {
   "cell_type": "code",
   "execution_count": null,
   "id": "b5bc2e05-3ba2-4b40-aeb8-bd255b1b685e",
   "metadata": {},
   "outputs": [],
   "source": [
    "class Car:\n",
    "    --snip--\n",
    "    def incriment(self, miles):\n",
    "        self.meter_reading += miles"
   ]
  },
  {
   "cell_type": "markdown",
   "id": "63b33173-9692-4a0c-a52a-ac545f02fe8f",
   "metadata": {},
   "source": [
    "## Inheritance"
   ]
  },
  {
   "cell_type": "raw",
   "id": "ec787414-045b-4219-9f3a-d0766eb17c43",
   "metadata": {},
   "source": [
    "If the class ur writign is a speicizled version of another class u made, u cna use inheritance. Omne one class inherits hte other it kaes on attribues and methiods form the frist class. The orignal class is the parnet and the new class is the child. When ur making a new calssed based on old one, youll often want to call the __init__ method fom parent class this initlizes any attributes that were defined ijn the parnet class and make it avilaibe in the child"
   ]
  },
  {
   "cell_type": "code",
   "execution_count": null,
   "id": "1a39f19e-9f76-4409-9d86-55f44770618b",
   "metadata": {},
   "outputs": [],
   "source": [
    "class Car:\n",
    "    def __init__(self, model, year, owned):\n",
    "        self.model = model\n",
    "        self.year = year\n",
    "        self.owned = owned\n",
    "        self.meter_reading = 0\n",
    "    def get_description(self):\n",
    "        long_name = f\"A {self.year} {self.model}\"\n",
    "        return long_name.title()\n",
    "    def incriment(self, miles):\n",
    "        self.meter_reading += miles\n",
    "\n",
    "class EletickCar(Car):\n",
    "    def __init__(self,model,year,owned):\n",
    "        super().__init__(model,year,owned)\n"
   ]
  },
  {
   "cell_type": "markdown",
   "id": "d973fa05-91c2-4444-9342-10d549d290a7",
   "metadata": {},
   "source": [
    "The name of the parent function must be included in the Paraense when declaring the child class. The first __init__ function takes in info needed to make a car instance. Then the super() function allows u to call a method from the parent class.  By telling python to call the __init__ method from the car class, which gives an electric car instance all the attributes defined in the method"
   ]
  },
  {
   "cell_type": "raw",
   "id": "ce89e14f-aa68-44c1-a53e-70c92e705e00",
   "metadata": {},
   "source": [
    "You can add as many extra attributes and methods as u need for the new cihld class that the parent class will niot haave my decalring them like normal."
   ]
  },
  {
   "cell_type": "markdown",
   "id": "6d341224-39db-4645-8a5b-1c699e844c04",
   "metadata": {},
   "source": [
    "### overwriting methods from parent class"
   ]
  },
  {
   "cell_type": "raw",
   "id": "4d17c743-7c8c-4d3b-bed8-6c35ac3f8643",
   "metadata": {},
   "source": [
    "u can overrrite any method form parnet class that doesnt fit what ur trying to model w/ the child class. To do this u dinefine am wethid with the name name in the child class and  python will only pay attention to what u put in the child class not the parent. Ex: car having a fill gas method that needs to eb overwritten in the child eltrick car class:"
   ]
  },
  {
   "cell_type": "code",
   "execution_count": null,
   "id": "80263245-8f8b-4196-9485-4aee5c38135a",
   "metadata": {},
   "outputs": [],
   "source": [
    "class ElectricCar(Car):\n",
    "    --snip--\n",
    "\n",
    "    def fill_gas_tank(self):\n",
    "        print(\"this car dont have gas tank!\")"
   ]
  },
  {
   "cell_type": "markdown",
   "id": "af42520d-4f3e-4980-aad7-42e0bf47b48a",
   "metadata": {},
   "source": [
    "## Instances as attributes"
   ]
  },
  {
   "cell_type": "raw",
   "id": "27166316-48d6-4f7e-bdb2-c951172b1e32",
   "metadata": {},
   "source": [
    "When modeling something from the real world, you might find your self adding alot of attributes  and methods in your class, making it lengthy. U might recognize in this situation that part of one class can be written as another superclass. U can break your lager class into smaller classes that work to gather; this is called composition. Ex: adding more dietails in electric car, u might notice alot of stuff about the car's battery. SO u can move those attributes and methods into a classed called better. The we can use a mattery instance as an attribute in the electric car class."
   ]
  },
  {
   "cell_type": "code",
   "execution_count": null,
   "id": "ecdc0ef6-484c-492f-a7c5-4f6a9c263adc",
   "metadata": {},
   "outputs": [],
   "source": [
    "class Car:\n",
    "    --snip--\n",
    "\n",
    "class Battery:\n",
    "    def __init__(self, battery_size=40):\n",
    "        self.battery_size = battery_size\n",
    "    def describe_battery(self):\n",
    "        print(f\"this car has a {self.battery_size} sized battery\")\n",
    "        \n",
    "class EletickCar(Car):\n",
    "    def __init__(self,model,year,owned):\n",
    "        super().__init__(model,year,owned)\n",
    "        self.battery = Battery()"
   ]
  },
  {
   "cell_type": "markdown",
   "id": "f92f3955-32f8-4daa-b961-3b64ab8e27ce",
   "metadata": {},
   "source": [
    "In the electric car class we declared an attribute called self. Battery this lien tell python to make a new isntance of the battery class (w/ size 40 bc we didnt speicfy) and to assign it to the attribute self.battery. wHEN we want to descrobe tjhe batter we woudl call this:"
   ]
  },
  {
   "cell_type": "code",
   "execution_count": null,
   "id": "f645135f-d209-41c9-a4b5-7767254e4995",
   "metadata": {},
   "outputs": [],
   "source": [
    "new_carinstance.battery.describe_battery()"
   ]
  },
  {
   "cell_type": "markdown",
   "id": "6daf831d-4ec0-4ab7-9101-6eb273e0b0ce",
   "metadata": {},
   "source": [
    "## Importing classes"
   ]
  },
  {
   "cell_type": "markdown",
   "id": "10e357f7-8507-4611-ac0b-24b9efee4239",
   "metadata": {},
   "source": [
    "we can make a seperate file thatr holds one class, or manyt clasees that are all tied together somehow. To impoert one, many classes, or an entire module"
   ]
  },
  {
   "cell_type": "code",
   "execution_count": null,
   "id": "83642cce-b278-45fc-b64e-374e9775c143",
   "metadata": {},
   "outputs": [],
   "source": [
    "from car import EletricCar\n",
    "my_car.battery.describe_battery()"
   ]
  },
  {
   "cell_type": "code",
   "execution_count": null,
   "id": "509058f4-0c91-4593-aa39-c2bd3bae37ca",
   "metadata": {},
   "outputs": [],
   "source": [
    "from car import Car, EletricCar"
   ]
  },
  {
   "cell_type": "code",
   "execution_count": null,
   "id": "6514b702-978d-4771-8402-d551967331e9",
   "metadata": {},
   "outputs": [],
   "source": [
    "import car\n",
    "my_auidi = car.Car('audi', '2009', true)"
   ]
  },
  {
   "cell_type": "raw",
   "id": "a8f8b848-dfda-4f1e-901a-d37e180e0b06",
   "metadata": {},
   "source": [
    "when doing an entire model, u have to use the mondel_name.ClassName syntax"
   ]
  },
  {
   "cell_type": "raw",
   "id": "b47a95e2-ac78-48e4-9b3c-d15456566f34",
   "metadata": {},
   "source": [
    "We can import all callses from a module with \"from modle_name import *\" however this not reccomended bc  it is helpful to read import statment from the top of a file and udnerstand which classes a pogram uses, and to avoid c omooni names in a program "
   ]
  },
  {
   "cell_type": "markdown",
   "id": "d2296143-0ec7-4201-8782-77426c6c2ab8",
   "metadata": {},
   "source": [
    "### importing moduels into a module"
   ]
  },
  {
   "cell_type": "markdown",
   "id": "9ca6a071-1c82-47a7-a07a-f8764587ff79",
   "metadata": {},
   "source": [
    "Sometiems youll wnato tp spreado ut calsse to keep oen file form gorwing to large, when u store ur xlasses if serval mdoels, classes that rely on other ones liek hw elericCar relies on Car, for the file with eletick car and the battery class, Youll have to import the Car class from the mudpel that contains the Car class."
   ]
  },
  {
   "cell_type": "markdown",
   "id": "ced938f3-6eb8-4ad9-9d52-5e822070c9f8",
   "metadata": {},
   "source": [
    "U can also use aliases like how u can with functuon with the same syntax aswell"
   ]
  },
  {
   "cell_type": "markdown",
   "id": "0db82513-27ae-4b2d-b48b-f566876db396",
   "metadata": {},
   "source": [
    "## the python standard libary"
   ]
  },
  {
   "cell_type": "markdown",
   "id": "29952474-15a3-4516-9f2e-31af5bb1a82c",
   "metadata": {},
   "source": [
    "it is a set of moudles included with every python installation. U can use and fucnrtion or class in the libary by impoertign them."
   ]
  },
  {
   "cell_type": "markdown",
   "id": "bb041cb3-dba0-4fcb-820f-cb2c14f06e95",
   "metadata": {},
   "source": [
    "### Class vairables"
   ]
  },
  {
   "cell_type": "raw",
   "id": "a6f4c11a-87f3-4b60-bac2-f88f7f80b115",
   "metadata": {},
   "source": [
    "They are shared among all instances of class and is defined outside the constructor. You can access it from the main class, or any stances of said class"
   ]
  },
  {
   "cell_type": "code",
   "execution_count": 358,
   "id": "93eefdef-febc-46e8-adb0-78793fceddc5",
   "metadata": {},
   "outputs": [
    {
     "name": "stdout",
     "output_type": "stream",
     "text": [
      "4\n",
      "6\n",
      "6\n",
      "6\n",
      "6\n"
     ]
    }
   ],
   "source": [
    "class Car:\n",
    "    # Class variable shared among all instances\n",
    "    wheels = 4  \n",
    "\n",
    "    def __init__(self, brand):\n",
    "        self.brand = brand  # Instance variable\n",
    "        Car.wheels += 1\n",
    "print(Car.wheels)\n",
    "# Creating instances\n",
    "car1 = Car(\"Toyota\")\n",
    "car2 = Car(\"Honda\")\n",
    "print(car1.wheels)\n",
    "print(car2.wheels)  \n",
    "\n",
    "# Modifying the class variable\n",
    "Car.wheels = 6\n",
    "# Now all instances reflect this change\n",
    "print(car1.wheels)  # Output: 6\n",
    "print(car2.wheels)  # Output: 6"
   ]
  },
  {
   "cell_type": "markdown",
   "id": "69ffa5d5-9f64-4262-a352-9f2b3c415c4b",
   "metadata": {},
   "source": [
    "#### Sometimes if u need to a new class can inheart from 2 parent classes like so: class Fish(Animal, Prey)   so it gets both parent's methods"
   ]
  },
  {
   "cell_type": "markdown",
   "id": "efecaa2b-c67f-4b64-b321-4ffb66385853",
   "metadata": {},
   "source": [
    "## Polymorphism |"
   ]
  },
  {
   "cell_type": "raw",
   "id": "79349b1e-fe20-4214-bbd1-82359b9a54f6",
   "metadata": {},
   "source": [
    "Polymorphism allows different classes to have methods with the same name that can be called interchangeably. It promotes code reusability and flexibility."
   ]
  },
  {
   "cell_type": "code",
   "execution_count": 362,
   "id": "c1227d39-37c7-4589-bbc2-9f62bbacc876",
   "metadata": {},
   "outputs": [
    {
     "name": "stdout",
     "output_type": "stream",
     "text": [
      "Woof!\n",
      "Meow!\n",
      "Moo!\n"
     ]
    }
   ],
   "source": [
    "class Dog:\n",
    "    def speak(self):\n",
    "        return \"Woof!\"\n",
    "class Cat:\n",
    "    def speak(self):\n",
    "        return \"Meow!\"\n",
    "class Cow:\n",
    "    def speak(self):\n",
    "        return \"Moo!\"\n",
    "# Function using polymorphism\n",
    "def animal_speak(animal):\n",
    "    print(animal.speak())\n",
    "\n",
    "dog = Dog()\n",
    "cat = Cat()\n",
    "cow = Cow()\n",
    "\n",
    "# Each class has a `speak()` method, but their behaviors differ\n",
    "animal_speak(dog)  # Output: Woof!\n",
    "animal_speak(cat)  # Output: Meow!\n",
    "animal_speak(cow)  # Output: Moo!\n"
   ]
  },
  {
   "cell_type": "raw",
   "id": "d4cf8fca-f6c9-4832-aeec-9b2da8ea8432",
   "metadata": {},
   "source": [
    "Here, Dog, Cat, and Cow have a common method speak(), but they behave differently based on their implementation. The function animal_speak() can take any object with a speak() method, demonstrating polymorphism."
   ]
  },
  {
   "cell_type": "markdown",
   "id": "70a1ff4f-868a-479a-91ab-e0f34e3561e7",
   "metadata": {},
   "source": [
    "### Duck typing"
   ]
  },
  {
   "cell_type": "raw",
   "id": "0e7ecbc4-0a2a-42e1-8c33-02661e954440",
   "metadata": {},
   "source": [
    "Duck typing is a concept where the type of an object is determined by its behavior (methods and properties) rather than its explicit class.\n",
    "\n",
    "\"If it looks like a duck and quacks like a duck, it must be a duck.\""
   ]
  },
  {
   "cell_type": "raw",
   "id": "60f5dd7f-782d-4426-a499-0638ed1e900f",
   "metadata": {},
   "source": [
    "class Duck:\n",
    "    def quack(self):\n",
    "        return \"Quack!\"\n",
    "class Person:\n",
    "    def quack(self):\n",
    "        return \"I'm imitating a duck! Quack!\"\n",
    "# Function that expects an object with a `quack()` method\n",
    "def make_it_quack(entity):\n",
    "    print(entity.quack())\n",
    "    \n",
    "duck = Duck()\n",
    "person = Person()\n",
    "make_it_quack(duck)    # Output: Quack!\n",
    "make_it_quack(person)  # Output: I'm imitating a duck! Quack!\n"
   ]
  },
  {
   "cell_type": "raw",
   "id": "6020625f-333c-4448-a6e6-50edc4773d26",
   "metadata": {},
   "source": [
    "The function make_it_quack() doesn't check the type of the object. Instead, it only ensures that the object has a quack() method. Both Duck and Person have this method, so the function works regardless of the object's actual class."
   ]
  },
  {
   "cell_type": "markdown",
   "id": "a26bdb05-4bf7-4671-a4c7-62744549d3c7",
   "metadata": {},
   "source": [
    "### static methods:"
   ]
  },
  {
   "cell_type": "raw",
   "id": "b0d4a7a8-75c2-4e99-9f74-207b812b7cc5",
   "metadata": {},
   "source": [
    "A static method in Python is a method inside a class that does not access or modify class or instance attributes. It behaves like a normal function but is grouped inside a class for better organization."
   ]
  },
  {
   "cell_type": "code",
   "execution_count": 366,
   "id": "5a276d54-caaf-40f8-89ea-7c80390cd1c8",
   "metadata": {},
   "outputs": [
    {
     "name": "stdout",
     "output_type": "stream",
     "text": [
      "8\n"
     ]
    }
   ],
   "source": [
    "class MathUtils:\n",
    "    @staticmethod\n",
    "    def add(a, b):\n",
    "        return a + b\n",
    "\n",
    "# Call without creating an instance\n",
    "print(MathUtils.add(5, 3))  # Output: 8"
   ]
  },
  {
   "cell_type": "raw",
   "id": "cca2fec1-715e-4ebb-a833-64b1a80582c7",
   "metadata": {},
   "source": [
    "🔹 No self or cls → The method doesn’t rely on instance or class variables."
   ]
  },
  {
   "cell_type": "markdown",
   "id": "312e3fe9-20e3-4f73-b083-ea55987a1f58",
   "metadata": {},
   "source": [
    "### Class Methods"
   ]
  },
  {
   "cell_type": "markdown",
   "id": "5f33b53f-b009-40da-9114-87808da5b47a",
   "metadata": {},
   "source": [
    "A class method operates on the class itself rather than instances. It is defined using @classmethod and takes cls as its first parameter."
   ]
  },
  {
   "cell_type": "code",
   "execution_count": 370,
   "id": "fb7d04dd-8a1b-4fb3-991e-1493c9bc614d",
   "metadata": {},
   "outputs": [
    {
     "name": "stdout",
     "output_type": "stream",
     "text": [
      "Blue Ridge Academy\n"
     ]
    }
   ],
   "source": [
    "class School:\n",
    "    school_name = \"Greenwood High\"\n",
    "\n",
    "    @classmethod\n",
    "    def change_name(cls, new_name):\n",
    "        cls.school_name = new_name  # Modifies class attribute\n",
    "\n",
    "School.change_name(\"Blue Ridge Academy\")\n",
    "print(School.school_name)  # Output: Blue Ridge Academy"
   ]
  },
  {
   "cell_type": "markdown",
   "id": "328756a3-8764-4f2a-857d-06c6e219d975",
   "metadata": {},
   "source": [
    " Uses cls instead of self → Modifies or accesses class variables rather than instance variables."
   ]
  },
  {
   "cell_type": "markdown",
   "id": "b1d2b1cc-75cf-4d61-9dcf-56da6bd2ea85",
   "metadata": {},
   "source": [
    "### magic methods "
   ]
  },
  {
   "cell_type": "markdown",
   "id": "c12a1fdf-16b0-4bab-b51c-9885980f3063",
   "metadata": {},
   "source": [
    "Magic methods (also called dunder methods) are special methods in Python that begin and end with double underscores (__). They define how objects behave in built-in operations like addition, string conversion, and object comparison."
   ]
  },
  {
   "cell_type": "code",
   "execution_count": 375,
   "id": "895238fe-3f00-4d83-b10e-a8433f2d201c",
   "metadata": {},
   "outputs": [
    {
     "name": "stdout",
     "output_type": "stream",
     "text": [
      "Person: Alice\n",
      "50 years old\n"
     ]
    }
   ],
   "source": [
    "class Person:\n",
    "    def __init__(self, name, age):\n",
    "        self.name = name\n",
    "        self.age = age\n",
    "\n",
    "    def __str__(self):\n",
    "        return f\"Person: {self.name}\"  # Defines string representation\n",
    "\n",
    "    def __eq__(self, other):\n",
    "        return self.name == other.name and self.age == other.age\n",
    "\n",
    "    def __add__(self,other):\n",
    "        return f\"{self.age + other.age} years old\"\n",
    "p = Person(\"Alice\", 30)\n",
    "g = Person(\"bobby\", 20)\n",
    "print(p)  # Output: Person: Alice\n",
    "print( p + g)"
   ]
  },
  {
   "cell_type": "markdown",
   "id": "4accf70e-285d-4b78-b451-f17a28f58d68",
   "metadata": {},
   "source": [
    "__init__() → Constructor\n",
    "🔹 __str__() → String representation (used in print())\n",
    "\n",
    "Other useful magic methods:\n",
    "__add__(self, other) → Defines + operator, \n",
    "__len__(self) → Defines len(obj), \n",
    "__eq__(self, other) → Defines == comparison"
   ]
  },
  {
   "cell_type": "markdown",
   "id": "ebbffff1-9f61-4e94-95f4-2da4f8bb49ff",
   "metadata": {},
   "source": [
    "## The property decrator "
   ]
  },
  {
   "cell_type": "raw",
   "id": "fe4ce791-16c2-44bc-b8d6-dfc42f261a61",
   "metadata": {},
   "source": [
    "@property is a decorator used to defubne a method as a property (so it cxna be accessed like an attribute) and gives additional logic when reading(getter), write(setter) or delete(deleter) attributes\n"
   ]
  },
  {
   "cell_type": "code",
   "execution_count": 378,
   "id": "9b4c8852-c4f4-48d9-af62-df5339417b7b",
   "metadata": {},
   "outputs": [
    {
     "name": "stdout",
     "output_type": "stream",
     "text": [
      "10 cm\n",
      "12 cm\n"
     ]
    }
   ],
   "source": [
    "class Circle:\n",
    "    def __init__(self, radius):\n",
    "        self._radius = radius\n",
    "\n",
    "    @property # the getter to read an attribute\n",
    "    def radius(self):\n",
    "        return f\"{self._radius} cm\"\n",
    "\n",
    "    @radius.setter  # the setter to write a new arrtibute vlauye\n",
    "    def radius(self, new_radius):\n",
    "        if new_radius >= 0:\n",
    "            self._radius = new_radius\n",
    "        else:\n",
    "            raise ValueError(\"Radius cannot be negative\")\n",
    "\n",
    "    @radius.deleter # deleter to delete and attribute of an instance\n",
    "    def radius(self):\n",
    "        del self._radius\n",
    "\n",
    "c = Circle(5)\n",
    "c.radius = 10  # Valid\n",
    "print(c.radius)  # Output: 10 cm due to setter not just 10\n",
    "c.radius = 12\n",
    "print(c.radius) "
   ]
  },
  {
   "cell_type": "markdown",
   "id": "d8c286f8-2b2f-4f52-971f-b43eec4d23a0",
   "metadata": {},
   "source": [
    "the ._ after self means the attribute is a private proeprty is shouldbt be chamged direstly, only tohuigh setters"
   ]
  },
  {
   "cell_type": "markdown",
   "id": "d9402855-5643-4304-8b06-124de403aadd",
   "metadata": {},
   "source": [
    "## Decorators "
   ]
  },
  {
   "cell_type": "raw",
   "id": "0d17c3eb-3699-4b60-9122-64ba5d03e871",
   "metadata": {},
   "source": [
    "They are a function that extends the behavior of another function without modifying the base function.\n",
    "So u have to pass the base function as an argument to the decorator"
   ]
  },
  {
   "cell_type": "code",
   "execution_count": 381,
   "id": "1b42ea00-7e4f-4012-b6f8-ad9cca893919",
   "metadata": {},
   "outputs": [
    {
     "name": "stdout",
     "output_type": "stream",
     "text": [
      "Before function execution\n",
      "Hello!\n",
      "After function execution\n"
     ]
    }
   ],
   "source": [
    "def my_decorator(func):\n",
    "    def wrapper():\n",
    "        print(\"Before function execution\")\n",
    "        func()\n",
    "        print(\"After function execution\")\n",
    "    return wrapper\n",
    "\n",
    "@my_decorator\n",
    "def say_hello():\n",
    "    print(\"Hello!\")\n",
    "\n",
    "say_hello()"
   ]
  },
  {
   "cell_type": "raw",
   "id": "84e460f6-e9f6-49e0-ba0a-9af5c531d991",
   "metadata": {},
   "source": [
    "The decorator is applied using @my_decorator, so calling say_hello() is actually calling wrapper()."
   ]
  },
  {
   "cell_type": "code",
   "execution_count": null,
   "id": "0a5effd2-69c0-4721-8f5a-774a94a20758",
   "metadata": {},
   "outputs": [],
   "source": []
  },
  {
   "cell_type": "markdown",
   "id": "38f54bc0-c3aa-4856-8d0e-ac51e343b70b",
   "metadata": {},
   "source": [
    "# CHAPTER 10: Files and exceptionss"
   ]
  },
  {
   "cell_type": "markdown",
   "id": "e90fccf0-febe-4f54-8c11-5a4ec3a88140",
   "metadata": {},
   "source": [
    "## Reading from a file"
   ]
  },
  {
   "cell_type": "markdown",
   "id": "5bee1803-b98c-41f8-8523-c4ccdb3cb977",
   "metadata": {},
   "source": [
    "alot of data and be found in text files.  reading from a file has many uses and espaiucally in data analysis. When u workj with infgo in a text file, the rrist ting u want to do  to read the file into memory. U cna tgen woerk thru all of the files contents at once or line by line. Lewts preent we have a text file with 30 digits of pi:"
   ]
  },
  {
   "cell_type": "code",
   "execution_count": 386,
   "id": "9a97e2c1-32c4-4080-af23-af97d3704637",
   "metadata": {},
   "outputs": [
    {
     "ename": "FileNotFoundError",
     "evalue": "[Errno 2] No such file or directory: 'pi_digits.txt'",
     "output_type": "error",
     "traceback": [
      "\u001b[1;31m---------------------------------------------------------------------------\u001b[0m",
      "\u001b[1;31mFileNotFoundError\u001b[0m                         Traceback (most recent call last)",
      "Cell \u001b[1;32mIn[386], line 3\u001b[0m\n\u001b[0;32m      1\u001b[0m \u001b[38;5;28;01mfrom\u001b[39;00m \u001b[38;5;21;01mpathlib\u001b[39;00m \u001b[38;5;28;01mimport\u001b[39;00m Path\n\u001b[0;32m      2\u001b[0m path \u001b[38;5;241m=\u001b[39m Path(\u001b[38;5;124m'\u001b[39m\u001b[38;5;124mpi_digits.txt\u001b[39m\u001b[38;5;124m'\u001b[39m)\n\u001b[1;32m----> 3\u001b[0m contents \u001b[38;5;241m=\u001b[39m path\u001b[38;5;241m.\u001b[39mread_text()\n\u001b[0;32m      4\u001b[0m \u001b[38;5;28mprint\u001b[39m(contents)\n",
      "File \u001b[1;32m~\\anaconda3\\Lib\\pathlib.py:1027\u001b[0m, in \u001b[0;36mPath.read_text\u001b[1;34m(self, encoding, errors)\u001b[0m\n\u001b[0;32m   1023\u001b[0m \u001b[38;5;250m\u001b[39m\u001b[38;5;124;03m\"\"\"\u001b[39;00m\n\u001b[0;32m   1024\u001b[0m \u001b[38;5;124;03mOpen the file in text mode, read it, and close the file.\u001b[39;00m\n\u001b[0;32m   1025\u001b[0m \u001b[38;5;124;03m\"\"\"\u001b[39;00m\n\u001b[0;32m   1026\u001b[0m encoding \u001b[38;5;241m=\u001b[39m io\u001b[38;5;241m.\u001b[39mtext_encoding(encoding)\n\u001b[1;32m-> 1027\u001b[0m \u001b[38;5;28;01mwith\u001b[39;00m \u001b[38;5;28mself\u001b[39m\u001b[38;5;241m.\u001b[39mopen(mode\u001b[38;5;241m=\u001b[39m\u001b[38;5;124m'\u001b[39m\u001b[38;5;124mr\u001b[39m\u001b[38;5;124m'\u001b[39m, encoding\u001b[38;5;241m=\u001b[39mencoding, errors\u001b[38;5;241m=\u001b[39merrors) \u001b[38;5;28;01mas\u001b[39;00m f:\n\u001b[0;32m   1028\u001b[0m     \u001b[38;5;28;01mreturn\u001b[39;00m f\u001b[38;5;241m.\u001b[39mread()\n",
      "File \u001b[1;32m~\\anaconda3\\Lib\\pathlib.py:1013\u001b[0m, in \u001b[0;36mPath.open\u001b[1;34m(self, mode, buffering, encoding, errors, newline)\u001b[0m\n\u001b[0;32m   1011\u001b[0m \u001b[38;5;28;01mif\u001b[39;00m \u001b[38;5;124m\"\u001b[39m\u001b[38;5;124mb\u001b[39m\u001b[38;5;124m\"\u001b[39m \u001b[38;5;129;01mnot\u001b[39;00m \u001b[38;5;129;01min\u001b[39;00m mode:\n\u001b[0;32m   1012\u001b[0m     encoding \u001b[38;5;241m=\u001b[39m io\u001b[38;5;241m.\u001b[39mtext_encoding(encoding)\n\u001b[1;32m-> 1013\u001b[0m \u001b[38;5;28;01mreturn\u001b[39;00m io\u001b[38;5;241m.\u001b[39mopen(\u001b[38;5;28mself\u001b[39m, mode, buffering, encoding, errors, newline)\n",
      "\u001b[1;31mFileNotFoundError\u001b[0m: [Errno 2] No such file or directory: 'pi_digits.txt'"
     ]
    }
   ],
   "source": [
    "from pathlib import Path\n",
    "path = Path('pi_digits.txt')\n",
    "contents = path.read_text()\n",
    "print(contents)"
   ]
  },
  {
   "cell_type": "markdown",
   "id": "fcc39741-e74f-4062-bec2-3faacbdf1f0e",
   "metadata": {},
   "source": [
    "To work with the contents of a file, we need to tell python the path to the file. A path is the exact lcoation of a file or folder in a system. Python has a moduel called pathlib that makes it weasier to worjk with files and dorectperoes. A moduel that provides specific funcality like this is called a libary."
   ]
  },
  {
   "cell_type": "raw",
   "id": "36a08db6-540f-472f-9bcb-6a4bea29356e",
   "metadata": {},
   "source": [
    "There are 2 ways to pseicfy path in python. A realtive file apth ell python to look for a given loction relative to tje dorectory in which the current running program is stoed."
   ]
  },
  {
   "cell_type": "raw",
   "id": "ec1cd3ea-e59a-4f7f-8000-11fb36c9b2d4",
   "metadata": {},
   "source": [
    "Absoltue file apth starts at ir syste's root folder and are long so pythonlooks at fiels outsdie of whatever file ur program runs in. Which is liek tellign python where the file is on ur pc regasrdless of wjere tje prgram thatg is being excuted is sotred"
   ]
  },
  {
   "cell_type": "markdown",
   "id": "5911ab3d-5f08-4993-a3e1-3ed9de1de8c1",
   "metadata": {},
   "source": [
    "U use splilines() method to turbn a long string into a set of liens then u can use a for loop to examine each line from a file "
   ]
  },
  {
   "cell_type": "markdown",
   "id": "50c79790-f6c2-427e-a9a4-d2d32e5915bb",
   "metadata": {},
   "source": [
    "### wrting to a file"
   ]
  },
  {
   "cell_type": "raw",
   "id": "3f29de22-7ec5-45fb-81a8-d3dd88e333a8",
   "metadata": {},
   "source": [
    "One of the simpelt ways to dave data is to write it into a file. Jwen u write text to a file, the outp[tu will be still avliabld after u clsoe the termin containing ur program's output. U can then do whatevr u want with the data tht is wirtten on the seperate file, and even make prgram that reads text back into memory and work with it"
   ]
  },
  {
   "cell_type": "raw",
   "id": "0d40da7f-4e38-4d6e-a44a-26834741855b",
   "metadata": {},
   "source": [
    "When calling write_text() on a path object, if file alr exicts then it will overwritethe old content with rthe new one"
   ]
  },
  {
   "cell_type": "markdown",
   "id": "d8aa18ff-6808-4328-bda0-d74f861fa1c0",
   "metadata": {},
   "source": [
    "## Exceptions"
   ]
  },
  {
   "cell_type": "raw",
   "id": "6ac58292-ffd6-4963-8402-1b23a0d26b06",
   "metadata": {},
   "source": [
    "pytno uses specioal;  obejkcts called exceptions to mange errors that arise druing a programs excution. When eror occues, pytohn makes an exception object and if u make code that handles he execption the program will continue runninf. Execptinos are handeled with try-except blocks which u can make friendly error messages"
   ]
  },
  {
   "cell_type": "code",
   "execution_count": 393,
   "id": "c3741549-55b5-453e-b7e1-e0874169d942",
   "metadata": {},
   "outputs": [
    {
     "ename": "ZeroDivisionError",
     "evalue": "division by zero",
     "output_type": "error",
     "traceback": [
      "\u001b[1;31m---------------------------------------------------------------------------\u001b[0m",
      "\u001b[1;31mZeroDivisionError\u001b[0m                         Traceback (most recent call last)",
      "Cell \u001b[1;32mIn[393], line 1\u001b[0m\n\u001b[1;32m----> 1\u001b[0m \u001b[38;5;28mprint\u001b[39m(\u001b[38;5;241m5\u001b[39m\u001b[38;5;241m/\u001b[39m\u001b[38;5;241m0\u001b[39m)\n",
      "\u001b[1;31mZeroDivisionError\u001b[0m: division by zero"
     ]
    }
   ],
   "source": [
    "print(5/0)"
   ]
  },
  {
   "cell_type": "markdown",
   "id": "a2132015-30b7-4f02-b384-b8df7a96affe",
   "metadata": {},
   "source": [
    "The error reported in the treaceback ZeroDivisionError is an exception object. WE can use this info to mody our code. Well tell python what to do when this kind oif execpion occurs using tyr-except blocks:"
   ]
  },
  {
   "cell_type": "code",
   "execution_count": 395,
   "id": "cf9b3191-b795-406d-8e5f-797b3491fa55",
   "metadata": {},
   "outputs": [
    {
     "name": "stdout",
     "output_type": "stream",
     "text": [
      "u cant divide by 0!\n",
      "does this still run\n"
     ]
    }
   ],
   "source": [
    "try:\n",
    "    print(5/0)\n",
    "except ZeroDivisionError:\n",
    "    print(\"u cant divide by 0!\")\n",
    "\n",
    "print('does this still run')"
   ]
  },
  {
   "cell_type": "markdown",
   "id": "14ac5ec8-631e-4ab9-89ff-59eba921a461",
   "metadata": {},
   "source": [
    "If code in try bloc works python skips the except block but if tyer block has error python loosk for except bklco kwith the error that matcehs the oen that was raised. "
   ]
  },
  {
   "cell_type": "markdown",
   "id": "ee5a8ba8-f1c9-4d92-8f18-b05efaa48574",
   "metadata": {},
   "source": [
    "### Also usign the else block"
   ]
  },
  {
   "cell_type": "raw",
   "id": "e130a79e-a46d-42f5-9d9e-1c242add5ec0",
   "metadata": {},
   "source": [
    "we can make programs more error resist by makign the possbile error place in a try-execpt block. Any code hat is dependat on code in ty block working goes in an else block liek skown:"
   ]
  },
  {
   "cell_type": "code",
   "execution_count": 399,
   "id": "d658af20-358d-43d4-bd51-eacd841f86d4",
   "metadata": {},
   "outputs": [
    {
     "ename": "NameError",
     "evalue": "name 'num_one' is not defined",
     "output_type": "error",
     "traceback": [
      "\u001b[1;31m---------------------------------------------------------------------------\u001b[0m",
      "\u001b[1;31mNameError\u001b[0m                                 Traceback (most recent call last)",
      "Cell \u001b[1;32mIn[399], line 2\u001b[0m\n\u001b[0;32m      1\u001b[0m \u001b[38;5;28;01mtry\u001b[39;00m:\n\u001b[1;32m----> 2\u001b[0m     answer \u001b[38;5;241m=\u001b[39m \u001b[38;5;28mint\u001b[39m(num_one) \u001b[38;5;241m/\u001b[39m \u001b[38;5;28mint\u001b[39m(num_2)\n\u001b[0;32m      3\u001b[0m \u001b[38;5;28;01mexcept\u001b[39;00m \u001b[38;5;167;01mZeroDivisionError\u001b[39;00m:\n\u001b[0;32m      4\u001b[0m     \u001b[38;5;28mprint\u001b[39m(\u001b[38;5;124m\"\u001b[39m\u001b[38;5;124mcant / by 0!\u001b[39m\u001b[38;5;124m\"\u001b[39m)\n",
      "\u001b[1;31mNameError\u001b[0m: name 'num_one' is not defined"
     ]
    }
   ],
   "source": [
    "try:\n",
    "    answer = int(num_one) / int(num_2)\n",
    "except ZeroDivisionError:\n",
    "    print(\"cant / by 0!\")\n",
    "else:\n",
    "    print(answer)"
   ]
  },
  {
   "cell_type": "markdown",
   "id": "8604c8ba-38e4-4b56-b129-ec61629983f0",
   "metadata": {},
   "source": [
    "to sliety pass an error withput our uers seeing we cna just put the keepword pass in the execpt block and nothing else so the rest of the prgroam can still run"
   ]
  },
  {
   "cell_type": "markdown",
   "id": "f55c1469-d918-4288-9584-786c960baa20",
   "metadata": {},
   "source": [
    "## Storing data"
   ]
  },
  {
   "cell_type": "raw",
   "id": "364c532d-1e44-4fc2-aa87-499e2537b48e",
   "metadata": {},
   "source": [
    "No matter the focus of our code,  you'll store data that users provide in data structures. When users close the [program you'll almsot always want to save the info that the entered. A sim[le wau tp dp this inv;oces sotring ur data using the json module. It aLLOWS u to convert data strucutes intp JSON-formatted strings ."
   ]
  },
  {
   "cell_type": "markdown",
   "id": "0158c5ed-d283-4768-944c-7c511580080e",
   "metadata": {},
   "source": [
    "### using json.dumps() and json.loads"
   ]
  },
  {
   "cell_type": "markdown",
   "id": "e6225e62-c19f-41db-be6f-3b2489b7a453",
   "metadata": {},
   "source": [
    "The json.dumps frunction takes 1 argument which is ap iece of data that should be conveted into the json formet. The function retuns a string which we can then write to a data file."
   ]
  },
  {
   "cell_type": "code",
   "execution_count": 405,
   "id": "34ffff9e-e993-42e1-a01e-c014efed8f3a",
   "metadata": {},
   "outputs": [
    {
     "ename": "ModuleNotFoundError",
     "evalue": "No module named 'pathlibs'",
     "output_type": "error",
     "traceback": [
      "\u001b[1;31m---------------------------------------------------------------------------\u001b[0m",
      "\u001b[1;31mModuleNotFoundError\u001b[0m                       Traceback (most recent call last)",
      "Cell \u001b[1;32mIn[405], line 1\u001b[0m\n\u001b[1;32m----> 1\u001b[0m \u001b[38;5;28;01mfrom\u001b[39;00m \u001b[38;5;21;01mpathlibs\u001b[39;00m \u001b[38;5;28;01mimport\u001b[39;00m path\n\u001b[0;32m      2\u001b[0m \u001b[38;5;28;01mimport\u001b[39;00m \u001b[38;5;21;01mjson\u001b[39;00m\n\u001b[0;32m      3\u001b[0m numbers\u001b[38;5;241m=\u001b[39m [\u001b[38;5;241m1\u001b[39m,\u001b[38;5;241m2\u001b[39m,\u001b[38;5;241m3\u001b[39m,\u001b[38;5;241m4\u001b[39m,\u001b[38;5;241m5\u001b[39m]\n",
      "\u001b[1;31mModuleNotFoundError\u001b[0m: No module named 'pathlibs'"
     ]
    }
   ],
   "source": [
    "from pathlibs import path\n",
    "import json\n",
    "numbers= [1,2,3,4,5]\n",
    "path = Path('numbers.json')\n",
    "contents = json.dumps(numbers)\n",
    "path.write_text(contents)"
   ]
  },
  {
   "cell_type": "markdown",
   "id": "65ffccd1-f040-4f27-a8ad-46dcc43e1103",
   "metadata": {},
   "source": [
    "json.loads functino takes one paramter that is written in json foramt and converts it back into the orginal datastructre that paython had for it."
   ]
  },
  {
   "cell_type": "code",
   "execution_count": 407,
   "id": "34507ba2-2403-427d-9d07-d8d0f428b256",
   "metadata": {},
   "outputs": [
    {
     "ename": "ModuleNotFoundError",
     "evalue": "No module named 'pathlibs'",
     "output_type": "error",
     "traceback": [
      "\u001b[1;31m---------------------------------------------------------------------------\u001b[0m",
      "\u001b[1;31mModuleNotFoundError\u001b[0m                       Traceback (most recent call last)",
      "Cell \u001b[1;32mIn[407], line 1\u001b[0m\n\u001b[1;32m----> 1\u001b[0m \u001b[38;5;28;01mfrom\u001b[39;00m \u001b[38;5;21;01mpathlibs\u001b[39;00m \u001b[38;5;28;01mimport\u001b[39;00m path\n\u001b[0;32m      2\u001b[0m \u001b[38;5;28;01mimport\u001b[39;00m \u001b[38;5;21;01mjson\u001b[39;00m\n\u001b[0;32m      3\u001b[0m path \u001b[38;5;241m=\u001b[39m Path(\u001b[38;5;124m'\u001b[39m\u001b[38;5;124mnumbers.json\u001b[39m\u001b[38;5;124m'\u001b[39m)\n",
      "\u001b[1;31mModuleNotFoundError\u001b[0m: No module named 'pathlibs'"
     ]
    }
   ],
   "source": [
    "from pathlibs import path\n",
    "import json\n",
    "path = Path('numbers.json')\n",
    "contents = path.read_text()\n",
    "numbers = json.loads(content)"
   ]
  },
  {
   "cell_type": "code",
   "execution_count": 408,
   "id": "1ad8e85c-9da0-42c7-9523-1e1c39b65cb0",
   "metadata": {},
   "outputs": [
    {
     "ename": "ModuleNotFoundError",
     "evalue": "No module named 'pathlibs'",
     "output_type": "error",
     "traceback": [
      "\u001b[1;31m---------------------------------------------------------------------------\u001b[0m",
      "\u001b[1;31mModuleNotFoundError\u001b[0m                       Traceback (most recent call last)",
      "Cell \u001b[1;32mIn[408], line 1\u001b[0m\n\u001b[1;32m----> 1\u001b[0m \u001b[38;5;28;01mfrom\u001b[39;00m \u001b[38;5;21;01mpathlibs\u001b[39;00m \u001b[38;5;28;01mimport\u001b[39;00m path\n\u001b[0;32m      2\u001b[0m \u001b[38;5;28;01mimport\u001b[39;00m \u001b[38;5;21;01mjson\u001b[39;00m\n\u001b[0;32m      3\u001b[0m name \u001b[38;5;241m=\u001b[39m \u001b[38;5;28minput\u001b[39m(\u001b[38;5;124m\"\u001b[39m\u001b[38;5;124mwhat is ur name\u001b[39m\u001b[38;5;124m\"\u001b[39m)\n",
      "\u001b[1;31mModuleNotFoundError\u001b[0m: No module named 'pathlibs'"
     ]
    }
   ],
   "source": [
    "from pathlibs import path\n",
    "import json\n",
    "name = input(\"what is ur name\")\n",
    "path = Path(\"name.json\")\n",
    "contents = json.dumps(name)\n",
    "path.write_text(contents)"
   ]
  },
  {
   "cell_type": "code",
   "execution_count": 409,
   "id": "51db9438-d379-40b3-ab44-a4694189070c",
   "metadata": {},
   "outputs": [
    {
     "ename": "ModuleNotFoundError",
     "evalue": "No module named 'pathlibs'",
     "output_type": "error",
     "traceback": [
      "\u001b[1;31m---------------------------------------------------------------------------\u001b[0m",
      "\u001b[1;31mModuleNotFoundError\u001b[0m                       Traceback (most recent call last)",
      "Cell \u001b[1;32mIn[409], line 1\u001b[0m\n\u001b[1;32m----> 1\u001b[0m \u001b[38;5;28;01mfrom\u001b[39;00m \u001b[38;5;21;01mpathlibs\u001b[39;00m \u001b[38;5;28;01mimport\u001b[39;00m path\n\u001b[0;32m      2\u001b[0m \u001b[38;5;28;01mimport\u001b[39;00m \u001b[38;5;21;01mjson\u001b[39;00m\n\u001b[0;32m      3\u001b[0m path \u001b[38;5;241m=\u001b[39m Path(\u001b[38;5;124m'\u001b[39m\u001b[38;5;124mname.json\u001b[39m\u001b[38;5;124m'\u001b[39m)\n",
      "\u001b[1;31mModuleNotFoundError\u001b[0m: No module named 'pathlibs'"
     ]
    }
   ],
   "source": [
    "from pathlibs import path\n",
    "import json\n",
    "path = Path('name.json')\n",
    "contents = path.read_text()\n",
    "name = json.loads(contents)\n",
    "print(f\"welcome bacl{name}\")\n",
    "\n"
   ]
  },
  {
   "cell_type": "markdown",
   "id": "73b941c3-8baa-476f-9d84-6cded5a3273d",
   "metadata": {},
   "source": [
    "we can condence the 2 files into one like so:"
   ]
  },
  {
   "cell_type": "code",
   "execution_count": 412,
   "id": "aefd814c-8112-45d8-825a-843f8ccfc411",
   "metadata": {},
   "outputs": [
    {
     "ename": "ModuleNotFoundError",
     "evalue": "No module named 'pathlibs'",
     "output_type": "error",
     "traceback": [
      "\u001b[1;31m---------------------------------------------------------------------------\u001b[0m",
      "\u001b[1;31mModuleNotFoundError\u001b[0m                       Traceback (most recent call last)",
      "Cell \u001b[1;32mIn[412], line 1\u001b[0m\n\u001b[1;32m----> 1\u001b[0m \u001b[38;5;28;01mfrom\u001b[39;00m \u001b[38;5;21;01mpathlibs\u001b[39;00m \u001b[38;5;28;01mimport\u001b[39;00m path\n\u001b[0;32m      2\u001b[0m \u001b[38;5;28;01mimport\u001b[39;00m \u001b[38;5;21;01mjson\u001b[39;00m\n\u001b[0;32m      4\u001b[0m path \u001b[38;5;241m=\u001b[39m Path(\u001b[38;5;124m'\u001b[39m\u001b[38;5;124mname.json\u001b[39m\u001b[38;5;124m'\u001b[39m)\n",
      "\u001b[1;31mModuleNotFoundError\u001b[0m: No module named 'pathlibs'"
     ]
    }
   ],
   "source": [
    "from pathlibs import path\n",
    "import json\n",
    "\n",
    "path = Path('name.json')\n",
    "if path.exists():\n",
    "    contents = path.read_text()\n",
    "    name = json.loads(contents)\n",
    "    print(f\"welcome back {name}!\")\n",
    "else:\n",
    "    name = input(\"what is ur name\")\n",
    "    path = Path(\"name.json\")\n",
    "    contents = json.dumps(name)\n",
    "    path.write_text(contents)"
   ]
  },
  {
   "cell_type": "markdown",
   "id": "01e3f4d5-6255-4686-aedf-dfd87f1e3fbe",
   "metadata": {},
   "source": [
    "the .exists() retnrs true of a file or folder exisits."
   ]
  },
  {
   "cell_type": "markdown",
   "id": "de587e36-247b-4fdf-bcfb-5f898bbd13ee",
   "metadata": {},
   "source": [
    "## refactoring"
   ]
  },
  {
   "cell_type": "markdown",
   "id": "d6930ee2-d4fe-49ec-b60c-c73d88781e67",
   "metadata": {},
   "source": [
    "Youll often come to a poitn where ur code works but u can imporve i by braking it up into a srise of smaller functions with more specific jobs. This is called refactoring and makes code cleanr and easier to udnerstand and extend. Ex w/ previous code"
   ]
  },
  {
   "cell_type": "code",
   "execution_count": 418,
   "id": "6ccbee35-1448-454b-adad-14a6c3c65421",
   "metadata": {},
   "outputs": [
    {
     "name": "stdin",
     "output_type": "stream",
     "text": [
      "what is ur name q\n"
     ]
    }
   ],
   "source": [
    "from pathlib import Path\n",
    "import json\n",
    "\n",
    "def greet_user():\n",
    "    path = Path('name.json')\n",
    "    if path.exists():\n",
    "        contents = path.read_text()\n",
    "        name = json.loads(contents)\n",
    "        print(f\"welcome back {name}!\")\n",
    "    else:\n",
    "        name = input(\"what is ur name\")\n",
    "        path = Path(\"name.json\")\n",
    "        contents = json.dumps(name)\n",
    "        path.write_text(contents)\n",
    "greet_user()"
   ]
  },
  {
   "cell_type": "raw",
   "id": "31f6adda-fb42-4573-87de-1b126a11876f",
   "metadata": {},
   "source": [
    "we can see code works but the greet user fucntion is doing mucbh more then jsut greetign the user, it is getting a stored name or also gettign a new name we cna make 2 new fucntons that do exactly wjhat greet name shoukldnt be doing"
   ]
  },
  {
   "cell_type": "code",
   "execution_count": 421,
   "id": "3c02abab-3dd5-4bfc-be31-c34a348fe6b7",
   "metadata": {},
   "outputs": [
    {
     "ename": "SyntaxError",
     "evalue": "invalid syntax (4290367384.py, line 7)",
     "output_type": "error",
     "traceback": [
      "\u001b[1;36m  Cell \u001b[1;32mIn[421], line 7\u001b[1;36m\u001b[0m\n\u001b[1;33m    retuen username\u001b[0m\n\u001b[1;37m           ^\u001b[0m\n\u001b[1;31mSyntaxError\u001b[0m\u001b[1;31m:\u001b[0m invalid syntax\n"
     ]
    }
   ],
   "source": [
    "from partjlib import Path\n",
    "import json\n",
    "def get_stored_name(path):\n",
    "    if path.exists():\n",
    "        contents = path.read_text()\n",
    "        username = json.loads(contents)\n",
    "        retuen username\n",
    "    else:\n",
    "        return none\n",
    "def get_new_name(path):\n",
    "    username = input('what is thy name')\n",
    "    contents = json.dumps(username)\n",
    "    path.write(contents)\n",
    "def greet_user():\n",
    "    path = Path('name.json')\n",
    "    username = get_stored_name(path)\n",
    "    if username:\n",
    "        print(f\"welcome bacl{usernmae}\")\n",
    "    else:\n",
    "        username = get_new_name(path)\n",
    "        print(f'we\"ll rember u when u come back, {username}!')\n",
    "\n",
    "greet_user()\n",
    "    "
   ]
  },
  {
   "cell_type": "markdown",
   "id": "ca65ab2e-59fc-4ab6-ac8b-dc99e4a068f1",
   "metadata": {},
   "source": [
    "# CHAPTER 11: TESTING YOUR CODE"
   ]
  },
  {
   "cell_type": "raw",
   "id": "976f5ee5-a8af-4b44-bb48-53d1b511dea7",
   "metadata": {},
   "source": [
    "the pytest libary is a c\"olelction of tools that will help you write your frist testsa quikylly and isdmplly. A third party  packagecare libarys that are devlped outside the core python language. python has a tool called pip that is used to isntall theird partuyu packges."
   ]
  },
  {
   "cell_type": "raw",
   "id": "4734ac4c-e876-4c08-9b59-4ef5a5e3c9a8",
   "metadata": {},
   "source": [
    "A unit test verfies thart one spcefic aspect of a fucntionsd behairvor is corrct while a test case is a colelction of unit tests that toegtjher [prove that a fucmntions behaivor is as its soupposed to w/ tjhe full range of situatinos youd expect it to handel."
   ]
  },
  {
   "cell_type": "raw",
   "id": "143aaf62-1b73-4831-9c40-8803c922ad43",
   "metadata": {},
   "source": [
    "With pytest, u amke a signe test fucntion by namign it test_ and adding anyhting u want after the _. The test fucntion will call the fucnting u want to test abd well make an assertion about the value that's returened. If the assurention is correct, the test passes."
   ]
  },
  {
   "cell_type": "code",
   "execution_count": null,
   "id": "6675e63d-aa68-4121-8aae-5aec7aec1f3a",
   "metadata": {},
   "outputs": [],
   "source": [
    "def test_first_last_name():\n",
    "    formatted_name = get_formatted_name('jon', 'jones')\n",
    "    assert formatted_name == 'Jon Jones'"
   ]
  },
  {
   "cell_type": "raw",
   "id": "42aee47c-e38a-48c5-9da0-7f0c47426d76",
   "metadata": {},
   "source": [
    "in 2nd to last lien we assing the retuerbn value of functon to the var formatted_name. Then wem ake an assertion which is a claim abt a ocndtion. Here were claiomng thatthe value of formatted_name = 'Joh Jones'"
   ]
  },
  {
   "cell_type": "code",
   "execution_count": null,
   "id": "ea1cc398-5600-4279-81fe-cdde24296455",
   "metadata": {},
   "outputs": [],
   "source": []
  },
  {
   "cell_type": "code",
   "execution_count": null,
   "id": "9b66c82d-d2a5-43e6-a530-2d1e28191949",
   "metadata": {},
   "outputs": [],
   "source": []
  },
  {
   "cell_type": "markdown",
   "id": "a379b97c-63f6-49e6-bced-4e33139291f8",
   "metadata": {},
   "source": [
    "# NumPy notes"
   ]
  },
  {
   "cell_type": "markdown",
   "id": "c2a21e7e-382c-4675-917d-7b1f2b7e55b4",
   "metadata": {},
   "source": [
    "making numpy arrays from python lists"
   ]
  },
  {
   "cell_type": "code",
   "execution_count": 423,
   "id": "602d5307-8dd7-474e-bc30-ab29b3c7f5f7",
   "metadata": {},
   "outputs": [
    {
     "data": {
      "text/plain": [
       "array([1, 2, 3, 4])"
      ]
     },
     "execution_count": 423,
     "metadata": {},
     "output_type": "execute_result"
    }
   ],
   "source": [
    "import numpy as np\n",
    "\n",
    "np.array([1,2,3,4])"
   ]
  },
  {
   "cell_type": "code",
   "execution_count": null,
   "id": "f9e7b5ec-2ef5-4af9-93f4-412311f8eecb",
   "metadata": {},
   "outputs": [],
   "source": [
    "np.array([1,2,3.141,4])\n",
    "# np automatically updatesall items in the array to have to same datatype no matter what"
   ]
  },
  {
   "cell_type": "code",
   "execution_count": null,
   "id": "36831936-becb-4c14-b4c2-5a0a048262fd",
   "metadata": {},
   "outputs": [],
   "source": [
    "np.array([1,2,3,4], dtype=np.float32)\n",
    "#u can defien the datatype in the array w/ dtyp# "
   ]
  },
  {
   "cell_type": "markdown",
   "id": "dfb9b6ae-863f-42ad-8214-891877627d96",
   "metadata": {},
   "source": [
    "Making 2-dimensional lists in np"
   ]
  },
  {
   "cell_type": "code",
   "execution_count": null,
   "id": "834a0345-0ca2-4373-a3e6-08caf5008dfa",
   "metadata": {},
   "outputs": [],
   "source": [
    "np.array([range(i, i+3) for i in [2,4,6]])"
   ]
  },
  {
   "cell_type": "markdown",
   "id": "9b73e861-52a3-4761-905c-3abd1889fc76",
   "metadata": {},
   "source": [
    "### making arrays from scratch"
   ]
  },
  {
   "cell_type": "code",
   "execution_count": null,
   "id": "5ee85e92-e272-4692-bb4f-bf32ab205cf4",
   "metadata": {},
   "outputs": [],
   "source": [
    "# make a 10 len array wileld w/ 0's\n",
    "np.zeros(10, dtype=int)"
   ]
  },
  {
   "cell_type": "code",
   "execution_count": null,
   "id": "c476e74d-4df3-4697-a37b-89099a315feb",
   "metadata": {},
   "outputs": [],
   "source": [
    "# 3x5 flat int arry fileld w/ 1's\n",
    "np.ones((3,5), dtype=float)"
   ]
  },
  {
   "cell_type": "code",
   "execution_count": null,
   "id": "2020c436-d18d-43fc-9825-e368e1a00cf1",
   "metadata": {},
   "outputs": [],
   "source": [
    "#array w/ a linear sequence, stating 0 to 18, incrmenting by 2's\n",
    "np.arange(0,20,2)"
   ]
  },
  {
   "cell_type": "code",
   "execution_count": null,
   "id": "2799739c-2ad5-46c4-be0d-ff3821092c2e",
   "metadata": {},
   "outputs": [],
   "source": [
    "# array of 5 valuess equally spcaed between 0 and 1\n",
    "np.linspace(0,1,5)"
   ]
  },
  {
   "cell_type": "code",
   "execution_count": null,
   "id": "2c96166f-9bac-44aa-8a0d-02b742d1dd7f",
   "metadata": {},
   "outputs": [],
   "source": [
    "# 3x3 array of unifomally distiebuted random values between 0 and 1\n",
    "np.random.random((3,3))"
   ]
  },
  {
   "cell_type": "code",
   "execution_count": null,
   "id": "afb32ed8-3c5f-41a2-945b-52a79f6f426f",
   "metadata": {},
   "outputs": [],
   "source": [
    "#3x3 array of noramlly disrbured pseudorandom values with a mean of 0 and standard deviation of 1\n",
    "np.random.normal(0,1, (3,3))"
   ]
  },
  {
   "cell_type": "code",
   "execution_count": null,
   "id": "a7f54061-068d-416e-98f2-e2aed5cb4c2c",
   "metadata": {},
   "outputs": [],
   "source": [
    "# 3x3 array of pusedoranodm ints in [0,10)\n",
    "np.random.randint(0,10,(3,3))"
   ]
  },
  {
   "cell_type": "code",
   "execution_count": null,
   "id": "ef4da8f8-974d-4f02-81f6-a9bc4cdb0237",
   "metadata": {},
   "outputs": [],
   "source": [
    "# 3x3 indeity matrxi\n",
    "np.eye(3)"
   ]
  },
  {
   "cell_type": "markdown",
   "id": "d3c2b1fe-e320-417d-853b-69d69f7a82d3",
   "metadata": {},
   "source": [
    "## using np array mathods to acces data and subarrays, to splot,reshape, and join the arrays"
   ]
  },
  {
   "cell_type": "code",
   "execution_count": null,
   "id": "3de5d7ae-6b16-4e97-990c-2d90b2cef087",
   "metadata": {},
   "outputs": [],
   "source": [
    "## lets look at np array attributes \n",
    "rng = np.random.default_rng(seed=1701)\n",
    "x3 = rng.integers(10,size=(3,4,5))\n",
    "print(x3.ndim)\n",
    "print(x3.shape)\n",
    "print(x3.size)\n",
    "print(x3.dtype)\n",
    "print(x3)"
   ]
  },
  {
   "cell_type": "code",
   "execution_count": null,
   "id": "11e81558-1f96-4d63-b431-12166267f085",
   "metadata": {},
   "outputs": [],
   "source": [
    "rng = np.random.default_rng(seed=1701)\n",
    "x2 = rng.integers(10,size=(3,4))\n",
    "x2"
   ]
  },
  {
   "cell_type": "code",
   "execution_count": null,
   "id": "5ff90e05-59b2-4295-ae3c-88644742e1cf",
   "metadata": {},
   "outputs": [],
   "source": [
    "x2[2,2] #[row, collum]"
   ]
  },
  {
   "cell_type": "code",
   "execution_count": null,
   "id": "b5a0255d-e813-4add-8f17-ee7f49c27581",
   "metadata": {},
   "outputs": [],
   "source": [
    "# u can also reassign vlaues jsurt liek in a normal list in python\n",
    "x2[0,0] = 12\n",
    "x2"
   ]
  },
  {
   "cell_type": "markdown",
   "id": "8ba6eed7-c281-4d42-8b17-5dad19a8f5d4",
   "metadata": {},
   "source": [
    "#### array slciing"
   ]
  },
  {
   "cell_type": "code",
   "execution_count": null,
   "id": "f6990afe-9918-45f2-beac-bf8de3ad144d",
   "metadata": {},
   "outputs": [],
   "source": [
    "# the syntax for slicing is [start,stop,step] just liek python so msot of it is the same\n",
    "# one ohter thing to know is when using a negaytive number for the step,  the defaut;s ror  stop abnd stop and swtiched making  a convient way to reverse an array:\n",
    "x1 = rng.integers(10,size=(6))\n",
    "x1"
   ]
  },
  {
   "cell_type": "code",
   "execution_count": null,
   "id": "d3091e67-e0e0-427b-a4f7-713d2e16c2dc",
   "metadata": {},
   "outputs": [],
   "source": [
    "x1[::-1]"
   ]
  },
  {
   "cell_type": "code",
   "execution_count": null,
   "id": "11c262d9-1881-4a7b-b798-1ed9ecb20562",
   "metadata": {},
   "outputs": [],
   "source": [
    "x1[4::-2]\n",
    "#everu 2nd element from index 4, reversed"
   ]
  },
  {
   "cell_type": "code",
   "execution_count": null,
   "id": "033d20ec-4a91-4931-abb2-4682fa6d2ba4",
   "metadata": {},
   "outputs": [],
   "source": [
    "#multidiemtnson slices\n",
    "x2"
   ]
  },
  {
   "cell_type": "code",
   "execution_count": null,
   "id": "2e292e09-6d2d-4efd-9f64-553808a7def4",
   "metadata": {},
   "outputs": [],
   "source": [
    "x2[:2, :3]"
   ]
  },
  {
   "cell_type": "code",
   "execution_count": null,
   "id": "b6e59f66-3d06-42e6-bc3e-f37e963d06c2",
   "metadata": {},
   "outputs": [],
   "source": [
    "x2[::-1, ::-1]\n",
    "#rows and collusm reversed"
   ]
  },
  {
   "cell_type": "markdown",
   "id": "a6b80304-b391-4be3-a318-d2a9ed4a1bc5",
   "metadata": {},
   "source": [
    "One commoly needed routine is accessing sile rows or colums of an array which cna be done by cominign idexing a slicing  using an empy slcing mark(:)"
   ]
  },
  {
   "cell_type": "code",
   "execution_count": null,
   "id": "a2fcd9a3-c962-444e-adf7-67b6b605549b",
   "metadata": {},
   "outputs": [],
   "source": [
    "x2[:, 0] # frist collum of x2 untio an array"
   ]
  },
  {
   "cell_type": "markdown",
   "id": "9e8a6660-f5cf-4d3d-bccc-8c4fe29dc6b9",
   "metadata": {},
   "source": [
    "Unlike Python list clicking, NP list claims are return as views rather than copies of 5h4 array data, so chain a slice of an array while assigning to an operate value also changes the value of the original array"
   ]
  },
  {
   "cell_type": "code",
   "execution_count": null,
   "id": "3e26f44b-ff64-40ae-8279-dc3c30ee19e4",
   "metadata": {},
   "outputs": [],
   "source": [
    "x2_sub = x2[:2, :2]\n",
    "x2_sub"
   ]
  },
  {
   "cell_type": "code",
   "execution_count": null,
   "id": "f45e85db-61dd-420a-aa54-a17801e448ae",
   "metadata": {},
   "outputs": [],
   "source": [
    "x2_sub[0,0] = 99\n",
    "x2_sub"
   ]
  },
  {
   "cell_type": "code",
   "execution_count": null,
   "id": "496d8c83-9b4f-45eb-9df9-dc42047c45ea",
   "metadata": {},
   "outputs": [],
   "source": [
    "x2"
   ]
  },
  {
   "cell_type": "markdown",
   "id": "35499748-42c9-4714-a049-9b9e3aad1cd9",
   "metadata": {},
   "source": [
    "we can still copy an array with the copy method"
   ]
  },
  {
   "cell_type": "code",
   "execution_count": null,
   "id": "83c5556f-c787-4375-b9f4-c20327cb8a7c",
   "metadata": {},
   "outputs": [],
   "source": [
    "x2_sub_copy = x2[:2,:2].copy()\n",
    "x2_sub_copy"
   ]
  },
  {
   "cell_type": "markdown",
   "id": "d26b517f-4797-429d-97dc-a53750fe8a23",
   "metadata": {},
   "source": [
    "### reshaping arrays"
   ]
  },
  {
   "cell_type": "code",
   "execution_count": null,
   "id": "7830f5cc-241b-4bf5-b033-0b229657635c",
   "metadata": {},
   "outputs": [],
   "source": [
    "grid = np.arange(1,10).reshape(3,3)\n",
    "grid"
   ]
  },
  {
   "cell_type": "markdown",
   "id": "0a9a9bcc-4ab2-4814-8b3a-d70cebafa209",
   "metadata": {},
   "source": [
    "a common reha[ing operation is cover8ng a one-diemtnaol array into a 2-diementaol row or colim matrix"
   ]
  },
  {
   "cell_type": "code",
   "execution_count": null,
   "id": "125256e5-8eb4-4eb3-8e70-6f6877f8aee7",
   "metadata": {},
   "outputs": [],
   "source": [
    "x = np.array([1,2,32])\n",
    "x"
   ]
  },
  {
   "cell_type": "code",
   "execution_count": null,
   "id": "7fe2a1ea-9444-4df0-9171-8d28674ed8b8",
   "metadata": {},
   "outputs": [],
   "source": [
    "x.reshape(1,3)\n",
    "x #row vector via reshape"
   ]
  },
  {
   "cell_type": "code",
   "execution_count": null,
   "id": "d6a1b09d-1713-4887-9844-6f65ee3f2a6f",
   "metadata": {},
   "outputs": [],
   "source": [
    "x.reshape(3,1)\n",
    "#collum vector via reshape"
   ]
  },
  {
   "cell_type": "raw",
   "id": "a8d009dd-0747-400a-b7b0-ed9ffbfacef3",
   "metadata": {},
   "source": [
    "a convient shortcut for these 2 vector reshapes are the np.newaxis in the slicing syntax"
   ]
  },
  {
   "cell_type": "code",
   "execution_count": null,
   "id": "93a13084-56a6-4ef5-9460-599f01e32f25",
   "metadata": {},
   "outputs": [],
   "source": [
    "x[np.newaxis, :]"
   ]
  },
  {
   "cell_type": "code",
   "execution_count": null,
   "id": "ca4cbec2-2ff5-4d78-98eb-843c08862f6a",
   "metadata": {},
   "outputs": [],
   "source": [
    "x[:, np.newaxis]"
   ]
  },
  {
   "cell_type": "markdown",
   "id": "78a8637a-15cc-4d5a-aeec-4c91e6682643",
   "metadata": {},
   "source": [
    "### array concatenation and splitting"
   ]
  },
  {
   "cell_type": "markdown",
   "id": "3bc1222d-248f-4f85-8a22-de244eb2d40f",
   "metadata": {},
   "source": [
    "joining 2 arrays is most used with np.concatanate, np.vstack, and np.hstack. np.concatanate takes a tuple or list of arrays "
   ]
  },
  {
   "cell_type": "code",
   "execution_count": null,
   "id": "5d3606ad-a75c-4074-93f8-9a0141fdb95e",
   "metadata": {},
   "outputs": [],
   "source": [
    "y = np.array([3,2,1])\n",
    "np.concatenate([x,y])"
   ]
  },
  {
   "cell_type": "raw",
   "id": "44c5e2bf-b58f-4f71-9f02-afd37f971b6c",
   "metadata": {},
   "source": [
    "you can do this with more then 2 arrays"
   ]
  },
  {
   "cell_type": "code",
   "execution_count": null,
   "id": "0630878f-24e8-458e-87e5-943d4291dff5",
   "metadata": {},
   "outputs": [],
   "source": [
    "grid = np.array([[1,2,3],\n",
    "                [4,5,6]])\n",
    "np.concatenate([grid, grid])"
   ]
  },
  {
   "cell_type": "code",
   "execution_count": null,
   "id": "33471867-9a46-4adf-aef2-a4098c4963d9",
   "metadata": {},
   "outputs": [],
   "source": [
    "# concatante along the 2nd axis (zero-indexed)\n",
    "np.concatenate([grid, grid], axis = 1) # add the 23nd one to the side of each 1st one's row not at the end"
   ]
  },
  {
   "cell_type": "raw",
   "id": "569bbd0e-f768-4475-8b92-39630a86ef7e",
   "metadata": {},
   "source": [
    "# for arrays with mixed diemntnsions it can be clever to use the np.vstack(vert stack) and np.hstack(horzional) stack functions:"
   ]
  },
  {
   "cell_type": "code",
   "execution_count": null,
   "id": "cfce219e-007d-4123-b70a-8c4ccdd34186",
   "metadata": {},
   "outputs": [],
   "source": [
    "x= np.array([1,2,32])\n",
    "np.vstack([x,grid])"
   ]
  },
  {
   "cell_type": "code",
   "execution_count": null,
   "id": "b7639a34-16d8-4796-b287-f312a3dafb27",
   "metadata": {},
   "outputs": [],
   "source": [
    "y = np.array([[99],\n",
    "              [99]])\n",
    "np.hstack([grid,y])"
   ]
  },
  {
   "cell_type": "markdown",
   "id": "c8591c2d-dcf8-4b0a-9b61-7c39dc491ae4",
   "metadata": {},
   "source": [
    "### splitting of arrays"
   ]
  },
  {
   "cell_type": "markdown",
   "id": "93df8204-affa-40b4-81eb-d1e5b62fde90",
   "metadata": {},
   "source": [
    "you can use the fucntins np.split, np.hsplit, and np.vsplit and for each of them we cna pass indicies gving the split points"
   ]
  },
  {
   "cell_type": "code",
   "execution_count": null,
   "id": "982a4b82-e753-4dc5-8427-3ee16a0c4b17",
   "metadata": {},
   "outputs": [],
   "source": [
    "x=[1,2,3,4,5,6,7,8]\n",
    "x1 , x2, x3 = np.split(x, [3,5]) # indicies 3 and 5 is where u split\n",
    "print(x1,x2,x3)"
   ]
  },
  {
   "cell_type": "code",
   "execution_count": null,
   "id": "70173d02-a76f-4adc-a36c-e01b0eff0077",
   "metadata": {},
   "outputs": [],
   "source": [
    "grid = np.arange(16).reshape((4,4))\n",
    "grid"
   ]
  },
  {
   "cell_type": "code",
   "execution_count": null,
   "id": "8d3ebcac-aeb2-4ca0-a256-6119d5806fda",
   "metadata": {},
   "outputs": [],
   "source": [
    "upper, lower = np.vsplit(grid, [2])\n",
    "print(upper )\n",
    "print(lower)"
   ]
  },
  {
   "cell_type": "code",
   "execution_count": null,
   "id": "ab5a5405-6d8b-4a6d-b3c2-36067d9fd611",
   "metadata": {},
   "outputs": [],
   "source": [
    "left, right =  np.hsplit(grid, [2])\n",
    "print(left)\n",
    "print(right)"
   ]
  },
  {
   "cell_type": "markdown",
   "id": "0bd26aff-d379-43c7-8474-a60bd5d3b4f9",
   "metadata": {},
   "source": [
    "# computation of np arryas: universal functions"
   ]
  },
  {
   "cell_type": "raw",
   "id": "6acefa4c-13c0-42bd-adf0-7e236217bbdd",
   "metadata": {},
   "source": [
    "the key to making com[uation on np arryas fast is to use  vectorized operations which are impliemnted from the univeral functiopns (ufuncs). vectorized oeprations are thouse that np provides a convient interface into a statically typed compil;ed routned making it after to do operatons such as looping over an array.  there oeprations are implimented ythrougth ufuncs. Ex:"
   ]
  },
  {
   "cell_type": "code",
   "execution_count": null,
   "id": "0b60f9a6-7a77-4438-9f01-ee1507f26ef3",
   "metadata": {},
   "outputs": [],
   "source": [
    "np.arange(5) / np.arange(1,6)\n",
    "x = np.arange(9).reshape((3,3))\n",
    "2 ** x"
   ]
  },
  {
   "cell_type": "raw",
   "id": "d522e56e-ab94-44f8-b5d4-24b4d6f9bcc5",
   "metadata": {},
   "source": [
    "np ufuncs come in 2 flavors: unary funcs that operation of one singe input and binary ufuncs that oeprate on 2  inputs"
   ]
  },
  {
   "cell_type": "markdown",
   "id": "bcf64c72-3131-49e9-9899-ddd3a0fcc871",
   "metadata": {},
   "source": [
    "an example of a ufunc is addition subtaction mulipliactino and divison operatiors can all be used thamskl to their equlivant ufunc "
   ]
  },
  {
   "cell_type": "code",
   "execution_count": null,
   "id": "e71f7bc8-7504-43b4-ac8e-02b207dfe975",
   "metadata": {},
   "outputs": [],
   "source": [
    "x = np.arange(4)\n",
    "print(x)\n",
    "print(\"x + 2 =\", x +2)\n",
    "print(\"x - 2 =\", x -2)\n",
    "print(\"x * 2 =\", x *2)\n",
    "print(\"x / 2=\", x/2)\n",
    "print(\"x //2=\", x//2) # floor divisonb\n",
    "print(\"-x =\", -x)\n",
    "print(\"x **2 =\", x**2)\n",
    "print(\"x % 2 =\", x%2)"
   ]
  },
  {
   "cell_type": "code",
   "execution_count": null,
   "id": "aea156fd-79a4-4583-a91c-2baa0b34d1ef",
   "metadata": {},
   "outputs": [],
   "source": [
    "all thse oerpations are simplly comvient wrappers around specific u funcs  build into np ex + is the wrapper for the .add oepratior"
   ]
  },
  {
   "cell_type": "markdown",
   "id": "5866b87c-dbf2-4ae5-8c74-90ae45b34fe4",
   "metadata": {},
   "source": [
    "the abs ufunc cna be sued liek so, and with compelx ata it retuens the magnitue"
   ]
  },
  {
   "cell_type": "code",
   "execution_count": null,
   "id": "dad6303e-cc18-4168-bcc5-0cb6a92f3e36",
   "metadata": {},
   "outputs": [],
   "source": [
    "x = np.array([-2,-1,0,1,2])\n",
    "abs(x)"
   ]
  },
  {
   "cell_type": "code",
   "execution_count": null,
   "id": "419d9bb7-a997-44ba-9b67-0e9e5c7aaa78",
   "metadata": {},
   "outputs": [],
   "source": [
    "x = np.array([3-4j, 2+0j])\n",
    "abs(x)"
   ]
  },
  {
   "cell_type": "markdown",
   "id": "49b896c7-0dc7-4ae3-9191-dccb60976147",
   "metadata": {},
   "source": [
    "np also probides trig ufucns wehre we cna take an array of angles and use a ufunc on them to egt a cetin output"
   ]
  },
  {
   "cell_type": "code",
   "execution_count": null,
   "id": "2e32fa4c-8fff-48e5-bd0a-250282b819e4",
   "metadata": {},
   "outputs": [],
   "source": [
    "theta = np.linspace(0, np.pi, 3)\n",
    "theta"
   ]
  },
  {
   "cell_type": "code",
   "execution_count": null,
   "id": "3e270dc2-9afb-412d-b906-06071de29ca5",
   "metadata": {},
   "outputs": [],
   "source": [
    "print(np.sin(theta))\n",
    "print(np.arctan(theta))"
   ]
  },
  {
   "cell_type": "markdown",
   "id": "9e9e3581-9082-45f2-a027-a1d5c29c8d68",
   "metadata": {},
   "source": [
    "np also provisdes expoentals : e^x 2^x and also logs ln(x) log2(x) log10(x)"
   ]
  },
  {
   "cell_type": "raw",
   "id": "ce969f0e-259f-4aea-a3a7-7cf9c7f840db",
   "metadata": {},
   "source": [
    "there are many more ufucns out there and some more spcielized ones at scipy.special "
   ]
  },
  {
   "cell_type": "code",
   "execution_count": null,
   "id": "e868541d-e259-4057-8e44-7805bfca57e6",
   "metadata": {},
   "outputs": [],
   "source": [
    "For lrage caluations it is soemtimes useful to specify the arrya where the rest of the calcautions will be soted, for all ufuncs, this can be done using the out arguent of the fucmtiopn"
   ]
  },
  {
   "cell_type": "code",
   "execution_count": null,
   "id": "d32358f7-2352-4d26-9e59-3af74a6bbef3",
   "metadata": {},
   "outputs": [],
   "source": [
    "x = np.arange(5)\n",
    "y = np.empty(5)\n",
    "np.multiply(x,10,out=y)\n",
    "y"
   ]
  },
  {
   "cell_type": "markdown",
   "id": "77a01480-8a9c-4ac9-bbab-1ca9fe61a7d6",
   "metadata": {},
   "source": [
    "this can even be used with array views ex: wrting resuyts of compauton to evry other element of an array"
   ]
  },
  {
   "cell_type": "code",
   "execution_count": null,
   "id": "0947a8d7-c53e-4a15-af33-09f22acd2d65",
   "metadata": {},
   "outputs": [],
   "source": [
    "y= np.zeros(10)\n",
    "np.power(2,x,out=y[::2])\n",
    "y"
   ]
  },
  {
   "cell_type": "raw",
   "id": "83833de1-4426-48a1-a70d-7746fbe0fbea",
   "metadata": {},
   "source": [
    "Binary universal functions (ufuncs) in NumPy operate on two input arrays element-wise and return a single output array. When aggregating results, NumPy provides reductions that apply the operation across all elements to produce a single summary value."
   ]
  },
  {
   "cell_type": "code",
   "execution_count": null,
   "id": "677cf06c-8381-4ede-a99e-cec96f688acd",
   "metadata": {},
   "outputs": [],
   "source": [
    "# calling reduce of the add ufunc retuens the sum of all elemnts in the array\n",
    "x= np.arange(1,6)\n",
    "np.add.reduce(x)"
   ]
  },
  {
   "cell_type": "markdown",
   "id": "1dcbd876-31a0-4de1-822e-39681cd55246",
   "metadata": {},
   "source": [
    "if we would like to store all tghe intermediate reuls of comuation we can isntead use accumlate"
   ]
  },
  {
   "cell_type": "code",
   "execution_count": null,
   "id": "cc673735-6c88-47bf-9c36-69078fd08ed8",
   "metadata": {},
   "outputs": [],
   "source": [
    "np.multiply.accumulate(x)"
   ]
  },
  {
   "cell_type": "code",
   "execution_count": null,
   "id": "0872ec7e-9974-4065-b0a0-1fe15a8a066e",
   "metadata": {},
   "outputs": [],
   "source": [
    "also any unfuc can computwe the output of all pairs of 2 duffernet inputs using the out method, so u can in one line, do stuff like make a multiplication table"
   ]
  },
  {
   "cell_type": "code",
   "execution_count": null,
   "id": "1439a23c-7df6-45ed-90ba-6fc5c3b7af7c",
   "metadata": {},
   "outputs": [],
   "source": [
    "x= np.arange(1,6)\n",
    "np.multiply.outer(x,x)\n"
   ]
  },
  {
   "cell_type": "code",
   "execution_count": null,
   "id": "efbfba62-380f-480f-a952-12082191a736",
   "metadata": {},
   "outputs": [],
   "source": [
    "np?"
   ]
  },
  {
   "cell_type": "markdown",
   "id": "fbd221af-d097-4ea0-8ac4-04c2bda7631d",
   "metadata": {},
   "source": [
    "# aggregations: mix,max, and everything in between"
   ]
  },
  {
   "cell_type": "raw",
   "id": "549541aa-b460-4c41-856f-f33ae230ddae",
   "metadata": {},
   "source": [
    "a frist step in working w/ any dataset  is to often compute vairosu summary statistics such as the mean and standrard devatiopn of the set. byt other aggregations are also useful (median mode man min, sum, product)"
   ]
  },
  {
   "cell_type": "raw",
   "id": "ad46a953-4852-49ff-b445-66c1c123ff6d",
   "metadata": {},
   "source": [
    "rng = np.random.default_rng()\n",
    "L=rng.random(100)\n",
    "np.sum(L)"
   ]
  },
  {
   "cell_type": "raw",
   "id": "1079e0eb-78bf-427f-a5c7-d8488a54269a",
   "metadata": {},
   "source": [
    "one common type of aggregation oepration is an aggregate along a row or columnm, sayc u have dat stored in a 2 diemwsnal array:\n"
   ]
  },
  {
   "cell_type": "code",
   "execution_count": null,
   "id": "707e2ddc-a98f-436c-82dd-bcd29483b460",
   "metadata": {},
   "outputs": [],
   "source": [
    "M = rng.integers(0,10,(3,4))\n",
    "M"
   ]
  },
  {
   "cell_type": "markdown",
   "id": "4f68dafc-2cc6-452e-98a1-207c485e9b0b",
   "metadata": {},
   "source": [
    "NP aggregations will apply across all elements of a multidimensional array, and aggregation funds also take an additional are, specifying the axis along which the aggregate is computed "
   ]
  },
  {
   "cell_type": "code",
   "execution_count": null,
   "id": "cc335b1f-dccf-4a22-983e-8818bcc806d8",
   "metadata": {},
   "outputs": [],
   "source": [
    "print(M.sum())\n",
    "print(M.min(axis=0))"
   ]
  },
  {
   "cell_type": "markdown",
   "id": "dae25288-c8a7-4089-88ad-31fd0532309d",
   "metadata": {},
   "source": [
    "| Aggregation       | NaN-Safe Version  | Description                                      |\n",
    "|------------------|-----------------|--------------------------------------------------|\n",
    "| `np.sum()`       | `np.nansum()`    | Computes the sum of array elements.             |\n",
    "| `np.prod()`      | `np.nanprod()`   | Computes the product of array elements.         |\n",
    "| `np.mean()`      | `np.nanmean()`   | Computes the arithmetic mean.                   |\n",
    "| `np.median()`    | `np.nanmedian()` | Computes the median (middle value).             |\n",
    "| `np.var()`       | `np.nanvar()`    | Computes the variance (spread of data).         |\n",
    "| `np.std()`       | `np.nanstd()`    | Computes the standard deviation.                |\n",
    "| `np.min()`       | `np.nanmin()`    | Finds the minimum value.                        |\n",
    "| `np.max()`       | `np.nanmax()`    | Finds the maximum value.                        |\n",
    "| `np.argmin()`    | `np.nanargmin()` | Returns the index of the minimum value.        |\n",
    "| `np.argmax()`    | `np.nanargmax()` | Returns the index of the maximum value.        |\n",
    "| `np.percentile()` | `np.nanpercentile()` | Computes the nth percentile.               |\n",
    "| `np.quantile()`  | `np.nanquantile()`  | Computes the nth quantile.                  |\n",
    "| `np.cumsum()`    | `np.nancumsum()` | Computes the cumulative sum of elements.        |\n",
    "| `np.cumprod()`   | `np.nancumprod()`| Computes the cumulative product of elements.    |\n",
    "| `np.all()`       | **N/A**          | Checks if **all** elements are `True`.          |\n",
    "| `np.any()`       | **N/A**          | Checks if **any** element is `True`.            |\n"
   ]
  },
  {
   "cell_type": "markdown",
   "id": "53695512-59b9-4f17-baa3-ff253cd62f1c",
   "metadata": {},
   "source": [
    "# computation on arrays: broadcasting"
   ]
  },
  {
   "cell_type": "markdown",
   "id": "ae7efebb-c92d-4698-b2aa-ecab48c86d8e",
   "metadata": {},
   "source": [
    "we saw how np's ufus can be used to vectoeize oeprations abnd thereby remove slow pyton loops this chaopter discuesses broadcasting whicvh ios a set of rules by which np allows u to appyl binary oepratinos liek +-/ vetween arrays of differnt sizxes and shapes"
   ]
  },
  {
   "cell_type": "markdown",
   "id": "b0c50e76-f994-4c9f-a111-c50ce08e5245",
   "metadata": {},
   "source": [
    " Remember when we did binary operations of same sized arrays, they preform on an event by element basis, however for a scar such array + a where an is one single element, the is started to have elements a to match the dients of the array."
   ]
  },
  {
   "cell_type": "raw",
   "id": "47541401-a1de-47fe-8e9c-abfef2916e99",
   "metadata": {},
   "source": [
    "There are the rules of broadcasting: 1. if 2 arrays differ in number of dimensions, the of the one with fewer diesis is padded with ones on its left side. 2: if shape of the 2 arrays don't match in any dimension the array IHT shape = to 1 in that dimension is started to match the other shape. 3: if in any division the sizes disagree and neither is = to 1, and error is raised"
   ]
  },
  {
   "cell_type": "code",
   "execution_count": null,
   "id": "547e289c-a6b7-4c38-a1b8-035f341258aa",
   "metadata": {},
   "outputs": [],
   "source": [
    "import numpy as np\n",
    "\n",
    "A = np.array([1, 2, 3])       # Shape (3,) → treated as (1,3)\n",
    "B = np.array([[10],\n",
    "              [20]])    # Shape (2,1)\n",
    "\n",
    "# A's shape becomes (1,3), B's stays (2,1)\n",
    "# Final shapes: (1,3) and (2,1) → Broadcasts to (2,3)\n",
    "print(A + B)"
   ]
  },
  {
   "cell_type": "markdown",
   "id": "7dd2c2db-b810-4cdf-a0f0-7d8e32cc1c84",
   "metadata": {},
   "source": [
    "A originally had shape (3,), meaning one dimension.\n",
    "NumPy pads it to (1,3) to match the 2D shape of B."
   ]
  },
  {
   "cell_type": "code",
   "execution_count": null,
   "id": "6c4d3fa8-02c5-4c11-b7a8-efdd30b01402",
   "metadata": {},
   "outputs": [],
   "source": [
    "A = np.array([[1, 2, 3],\n",
    "              [4, 5, 6]])  # Shape (2,3)\n",
    "\n",
    "B = np.array([[10],\n",
    "              [20]])            # Shape (2,1)\n",
    "\n",
    "print(A + B)\n"
   ]
  },
  {
   "cell_type": "markdown",
   "id": "9d8c2b2c-873e-443a-b96e-56a8d8891677",
   "metadata": {},
   "source": [
    "B has a (2,1) shape, meaning each row has only one column.\n",
    "NumPy stretches B from (2,1) → (2,3), so each row is added across all columns."
   ]
  },
  {
   "cell_type": "code",
   "execution_count": null,
   "id": "df08ab48-701c-43ef-ac38-45fd6056f316",
   "metadata": {},
   "outputs": [],
   "source": [
    "A = np.array([[1, 2, 3],\n",
    "              [4, 5, 6]])  # Shape (2,3)\n",
    "\n",
    "B = np.array([10, 20])                # Shape (2,) → Treated as (1,2), which **won't match**\n",
    "\n",
    "print(A + B) \n"
   ]
  },
  {
   "cell_type": "raw",
   "id": "99b2cd5a-d0f6-4203-ab8e-07d2280098ff",
   "metadata": {},
   "source": [
    "A has shape (2,3), but B is interpreted as (1,2).\n",
    "The second dimension doesn’t match (3 ≠ 2), and neither is 1, so NumPy throws an error."
   ]
  },
  {
   "cell_type": "code",
   "execution_count": null,
   "id": "90946fe3-1777-4c50-a42a-641afba4be0d",
   "metadata": {},
   "outputs": [],
   "source": []
  },
  {
   "cell_type": "markdown",
   "id": "06ec3762-53a9-476d-bf37-300cf3fcdda1",
   "metadata": {},
   "source": [
    "centering an array, which is used to rubtact thwe row wirse mean from an array of data. ex a 10x3 array of 10 oberavtions each with 3 values"
   ]
  },
  {
   "cell_type": "code",
   "execution_count": null,
   "id": "9b1350d4-2551-4d81-97ab-15fbc7f17ba9",
   "metadata": {},
   "outputs": [],
   "source": [
    "X = rng.random((10,3))\n",
    "Xmean = X.mean(0)\n",
    "Xmean"
   ]
  },
  {
   "cell_type": "code",
   "execution_count": null,
   "id": "6de5241c-632c-4ae8-9853-8c2f4d7a655d",
   "metadata": {},
   "outputs": [],
   "source": [
    "X_centered = X - Xmean # this is a broadcasting fucntion \n",
    "X_centered.mean()"
   ]
  },
  {
   "cell_type": "markdown",
   "id": "d0033004-d832-47d3-8950-8b8a69778e62",
   "metadata": {},
   "source": [
    "# Comparisons Marks and Boolean Logic"
   ]
  },
  {
   "cell_type": "raw",
   "id": "3acea089-cda3-4a2d-961c-30987c15955b",
   "metadata": {},
   "source": [
    "this covers the use of boolean masking to exmine and manipualre vlaues within np arryas. Making comes up when u want to extract modiy count or otherwise manipualte values in an array based on some crierion. Ex: u might wnat to xcount all values greater then a certin value"
   ]
  },
  {
   "cell_type": "raw",
   "id": "0621c566-cbd6-4643-b1a4-3b61af17a64a",
   "metadata": {},
   "source": [
    "np implements comaprison operators such as >< as element-wise functions, the result of these comparion opeortors are an array w/ a booleran data  type. The standard comarsion oeprastors are  < > <= >= == !="
   ]
  },
  {
   "cell_type": "code",
   "execution_count": null,
   "id": "1c9e22c6-48fa-470d-885f-b47a4723d967",
   "metadata": {},
   "outputs": [],
   "source": [
    "x = np.array([1,2,3,4,5]) # also works for multi diemosnal arrays\n",
    "x < 3"
   ]
  },
  {
   "cell_type": "markdown",
   "id": "0e7a0741-d4f7-474f-b683-fa286926c5ae",
   "metadata": {},
   "source": [
    "there are many straigthforward paths to workign witgh boolean arrya.  to coutn the # of true entres in a boolean array, np.count_nonzero is useful\n"
   ]
  },
  {
   "cell_type": "code",
   "execution_count": null,
   "id": "6a002184-e289-4d02-892e-ce0224f15dc1",
   "metadata": {},
   "outputs": [],
   "source": [
    "x = rng.integers(10, size=(3,4))\n",
    "print(x)\n",
    "np.count_nonzero(x < 6)"
   ]
  },
  {
   "cell_type": "raw",
   "id": "51ddbf45-373d-472b-abbb-a77ee7e51dc4",
   "metadata": {},
   "source": [
    " but we can also do np.sum to see as false would be interpertied as 0 and true as 1, so the sum iss the # of entres that are true. the befint for np.sum is liek w/ any other aggregation fucntions, this summation can be done along colums or rows as well:"
   ]
  },
  {
   "cell_type": "code",
   "execution_count": null,
   "id": "18811785-363e-45e9-8eec-126659202704",
   "metadata": {},
   "outputs": [],
   "source": [
    "# how many vlaues less then 6 in each row\n",
    "np.sum(x<6, axis =1)"
   ]
  },
  {
   "cell_type": "markdown",
   "id": "8bdb9009-ed8e-4ebe-8626-8be3e913ab2f",
   "metadata": {},
   "source": [
    "if u want to qucily check werher and or all values are true, we cna use the np.any or np.all stufdf"
   ]
  },
  {
   "cell_type": "code",
   "execution_count": null,
   "id": "bbc3eb02-9b35-40f8-b5ca-4d75fad62d82",
   "metadata": {},
   "outputs": [],
   "source": [
    "np.any(x<4)"
   ]
  },
  {
   "cell_type": "code",
   "execution_count": null,
   "id": "06150fb7-d730-460a-8267-43eb1d94e741",
   "metadata": {},
   "outputs": [],
   "source": [
    "np.all(x<10)"
   ]
  },
  {
   "cell_type": "code",
   "execution_count": null,
   "id": "f28c9e31-9fd0-4f9e-95a9-2eec26318472",
   "metadata": {},
   "outputs": [],
   "source": [
    "np.any(x<6, axis=0)"
   ]
  },
  {
   "cell_type": "markdown",
   "id": "c5d14a19-29c0-4827-8786-50c529d329d9",
   "metadata": {},
   "source": [
    "bitsiwse logic  oepratoes in pytoyhn such as or \\ and , not ~ can be used to make answers to compund questions"
   ]
  },
  {
   "cell_type": "code",
   "execution_count": null,
   "id": "2fcf0675-3423-41dc-84f0-9c5a9eab3dd4",
   "metadata": {},
   "outputs": [],
   "source": [
    "np.sum((rainfall_mm > 10) & (rainfall_mm < 20))"
   ]
  },
  {
   "cell_type": "raw",
   "id": "f8a9932c-8e6f-4c4e-b73e-5cbd48499ba3",
   "metadata": {},
   "source": [
    "to make boolean arryas as makrs so we cna get the values of the elents thart  match a statment into an arry, do so:"
   ]
  },
  {
   "cell_type": "code",
   "execution_count": null,
   "id": "d491b005-f031-4bbd-bbb4-2253f20e44e0",
   "metadata": {},
   "outputs": [],
   "source": [
    "x < 7"
   ]
  },
  {
   "cell_type": "code",
   "execution_count": null,
   "id": "b13c699c-44d4-4229-874b-0885dd831353",
   "metadata": {},
   "outputs": [],
   "source": [
    "x[x<7]"
   ]
  },
  {
   "cell_type": "markdown",
   "id": "bb92c7bd-7774-4a04-95ff-8e4edee4c47b",
   "metadata": {},
   "source": [
    "so to select these true values from the array, we simply idnesx on this boolean array; know as a masking operation, which retunsd a 1diemoanl array w/ all valuesm eeting a requirement . then we cna opoerate on this array however we want liek fimdignthe mean of rain on days that it rianed over 10 cm"
   ]
  },
  {
   "cell_type": "code",
   "execution_count": null,
   "id": "6aa491ac-bf07-4930-86f6-9047ea49ddfc",
   "metadata": {},
   "outputs": [],
   "source": []
  },
  {
   "cell_type": "raw",
   "id": "a3cb9aa6-851f-4871-a8fe-7f5cc4b968c9",
   "metadata": {},
   "source": [
    "the difference betwwen using the keywords and/or and the operators &/| is that the keuyword are used to comapre objects as a whole ehile the ooperats oeprate on elemetns winin an object"
   ]
  },
  {
   "cell_type": "code",
   "execution_count": null,
   "id": "29a87ba6-53a7-41fc-b4dc-e45edd7c0535",
   "metadata": {},
   "outputs": [],
   "source": [
    "bool(42), bool(0)"
   ]
  },
  {
   "cell_type": "code",
   "execution_count": null,
   "id": "1b45c4ad-a2c2-4baf-b15d-c6b156d7127d",
   "metadata": {},
   "outputs": [],
   "source": [
    "bool(42) or bool(0)"
   ]
  },
  {
   "cell_type": "code",
   "execution_count": null,
   "id": "0083eba6-8fc7-4dd5-b12f-00e4e605efbd",
   "metadata": {},
   "outputs": [],
   "source": [
    "bool(42) and bool(0)"
   ]
  },
  {
   "cell_type": "code",
   "execution_count": null,
   "id": "2ab0d380-ef9e-42ee-ad65-57a82e2c2c00",
   "metadata": {},
   "outputs": [],
   "source": [
    "bin(42), bin(59)"
   ]
  },
  {
   "cell_type": "code",
   "execution_count": null,
   "id": "559599c5-08c7-4ea0-bb55-972be19ec274",
   "metadata": {},
   "outputs": [],
   "source": [
    "bin(42 & 59)"
   ]
  },
  {
   "cell_type": "raw",
   "id": "3dd1dfd5-67dc-4e6b-b0e9-af3ec891bd23",
   "metadata": {},
   "source": [
    "when u have an arry iof ool vlaues in np this cna be thought of a sting of bits where 1=true and 0=false, so oepratosd & and | will oeprate simialy in the preceing example"
   ]
  },
  {
   "cell_type": "code",
   "execution_count": null,
   "id": "6a9f1cbd-1051-4f71-ab05-848f7fbfbc86",
   "metadata": {},
   "outputs": [],
   "source": [
    "A = np.array([1,0,1,0,1,0], dtype=bool)\n",
    "B = np.array([1,1,1,0,1,1], dtype=bool)\n",
    "A | B"
   ]
  },
  {
   "cell_type": "code",
   "execution_count": null,
   "id": "65c8599b-5832-42d8-a4ee-b50aea0b970c",
   "metadata": {},
   "outputs": [],
   "source": [
    "A or B"
   ]
  },
  {
   "cell_type": "markdown",
   "id": "f6f2a1de-d2de-4517-8de1-8ee25e09295c",
   "metadata": {},
   "source": [
    "# Fancy Indexing"
   ]
  },
  {
   "cell_type": "raw",
   "id": "14e8c609-3045-4d43-936e-5aa632f28af1",
   "metadata": {},
   "source": [
    "In this chapter we look at another style of indexing known as vectorized indexing in which we pass arrays of indices in place of single scalars which allows us to quickly access am modify complicated subsets of an array's values"
   ]
  },
  {
   "cell_type": "raw",
   "id": "29f9aeeb-5dc1-42fe-a594-3f8d3ecc29ad",
   "metadata": {},
   "source": [
    "if we want to access 3 values qwe can do this:"
   ]
  },
  {
   "cell_type": "code",
   "execution_count": null,
   "id": "7b02eb94-e0e2-4767-bda7-521d668ae3f5",
   "metadata": {},
   "outputs": [],
   "source": [
    "x = np.array([90,40,9,30,80,67,39,15,33,37])\n",
    "[x[3],x[7],x[2]]"
   ]
  },
  {
   "cell_type": "raw",
   "id": "e60f90ae-4647-465e-8a8e-572f032a95cd",
   "metadata": {},
   "source": [
    "but we can pass in a signe list/arry of indices to ontain the same result:"
   ]
  },
  {
   "cell_type": "code",
   "execution_count": null,
   "id": "a15fd3ca-97a4-4867-be6f-3997bbda8eca",
   "metadata": {},
   "outputs": [],
   "source": [
    "ind =[3,7,4]\n",
    "x[ind]"
   ]
  },
  {
   "cell_type": "raw",
   "id": "2c82405d-b754-46e0-bf40-70ae262d22bf",
   "metadata": {},
   "source": [
    "wehne usnign an arry of indices the shape of the result matches the index arrays not the array being indexed:"
   ]
  },
  {
   "cell_type": "code",
   "execution_count": null,
   "id": "240bf472-7465-48fa-9d48-c10e6e2f987e",
   "metadata": {},
   "outputs": [],
   "source": [
    "ind = np.array([[3,7],\n",
    "              [4,5]])\n",
    "x[ind]"
   ]
  },
  {
   "cell_type": "code",
   "execution_count": null,
   "id": "2d2146a2-52bd-4a84-95bb-4aaa1380e7f1",
   "metadata": {},
   "outputs": [],
   "source": [
    "this also workigns in mukltibpe dimensions"
   ]
  },
  {
   "cell_type": "code",
   "execution_count": null,
   "id": "e0e92fc9-ebf9-4be8-9a63-a49c27815c1b",
   "metadata": {},
   "outputs": [],
   "source": [
    "X = np.arange(12).reshape(3,4)\n",
    "X"
   ]
  },
  {
   "cell_type": "code",
   "execution_count": null,
   "id": "52ac6ecf-fb8b-4826-857f-89f55c930e33",
   "metadata": {},
   "outputs": [],
   "source": [
    "row = np.array([0,1,2])\n",
    "col = np.array([2,1,3])\n",
    "X[row,col]"
   ]
  },
  {
   "cell_type": "raw",
   "id": "8dd836af-e9e5-4025-b4be-8c46dc47364c",
   "metadata": {},
   "source": [
    "IF we comebine a colum vector adn a row vectoe witin the indices we get a 2 diemnal result"
   ]
  },
  {
   "cell_type": "code",
   "execution_count": null,
   "id": "6113957e-5af8-48ec-af77-13be9f3123eb",
   "metadata": {},
   "outputs": [],
   "source": [
    "X[row[:, np.newaxis], col]"
   ]
  },
  {
   "cell_type": "code",
   "execution_count": null,
   "id": "59e1f7fd-edf8-4123-9224-b9e72c92b8f0",
   "metadata": {},
   "outputs": [],
   "source": [
    "for even =more powerful operations we cna combine special idexing with other indexing schemes weve seen:"
   ]
  },
  {
   "cell_type": "code",
   "execution_count": null,
   "id": "54534059-6c10-4fcb-977c-23f811703f86",
   "metadata": {},
   "outputs": [],
   "source": [
    "X"
   ]
  },
  {
   "cell_type": "code",
   "execution_count": null,
   "id": "5a755f4f-a49d-4f3b-bb99-fdf59ac02e92",
   "metadata": {},
   "outputs": [],
   "source": [
    "X[2, [2,0,1]]"
   ]
  },
  {
   "cell_type": "raw",
   "id": "ccf6a50a-a759-454b-8794-753beb203ff2",
   "metadata": {},
   "source": [
    "X[1:, [2,0,1]]"
   ]
  },
  {
   "cell_type": "code",
   "execution_count": null,
   "id": "685d35be-75d5-45c7-867a-d5249de858f1",
   "metadata": {},
   "outputs": [],
   "source": [
    "mask = np.array([True, False, True, False])\n",
    "X[row[:, np.newaxis], mask]\n"
   ]
  },
  {
   "cell_type": "code",
   "execution_count": null,
   "id": "2e3a4d94-dbce-438a-a0e7-8b3cf4c68105",
   "metadata": {},
   "outputs": [],
   "source": [
    "you can also modfity sdata with fancy indexing sicne it is used to access an elemnt in an array. ex getting indices from an arry  and their correspding vlaues to aomw value"
   ]
  },
  {
   "cell_type": "code",
   "execution_count": null,
   "id": "6c5814fd-d5b8-4714-8432-f9074fab73da",
   "metadata": {},
   "outputs": [],
   "source": [
    "x = np.arange(10)\n",
    "i = np.array([2,1,8,4])\n",
    "x[i] = 99\n",
    "x"
   ]
  },
  {
   "cell_type": "raw",
   "id": "5541df48-66c6-48b5-a9bf-0fd512d64bc0",
   "metadata": {},
   "source": [
    "we cna use ant assign,ent type operator for this:"
   ]
  },
  {
   "cell_type": "code",
   "execution_count": null,
   "id": "f4dee9e4-9059-4686-84e4-501393d69ed8",
   "metadata": {},
   "outputs": [],
   "source": [
    "x[i] -= 1\n",
    "x"
   ]
  },
  {
   "cell_type": "raw",
   "id": "75503c4d-62eb-454f-be47-2f87be06262f",
   "metadata": {},
   "source": [
    "however repeated indicies with these oeprations cna cause some unexpected results"
   ]
  },
  {
   "cell_type": "code",
   "execution_count": null,
   "id": "9c34c4d4-cad5-4a04-a139-45bbae966446",
   "metadata": {},
   "outputs": [],
   "source": [
    "x = np.zeros(10)\n",
    "x[[0,0]] = [4,6]\n",
    "x"
   ]
  },
  {
   "cell_type": "raw",
   "id": "582056a1-5a3e-41db-8b92-db91d8134c37",
   "metadata": {},
   "source": [
    "the frisr oepration lets x[0] = 4 follwoed by x[0] = 6 so x[6] wpi;d be 6"
   ]
  },
  {
   "cell_type": "code",
   "execution_count": null,
   "id": "9a08926c-9788-4d29-84bc-6a97c64373c5",
   "metadata": {},
   "outputs": [],
   "source": [
    "i = [2,3,3,4,4,4]\n",
    "x[i] += 1\n",
    "x"
   ]
  },
  {
   "cell_type": "raw",
   "id": "30e44aad-e87c-4062-8dc1-fe8f7f50f6f6",
   "metadata": {},
   "source": [
    "x[3] is not 2 and x[4] is not 3 because x[i] is a short hand of x[i] = x[i] + 1. When x[i] +1 is evled and the result is assigned to the indces in x, bot x[i] itself"
   ]
  },
  {
   "cell_type": "raw",
   "id": "73ed5479-7d6b-4a48-b204-1cd1c309515a",
   "metadata": {},
   "source": [
    "But if u want the behavir for the oepraion is actually repated  then u can use the at method of ufuncs and do the followingL"
   ]
  },
  {
   "cell_type": "code",
   "execution_count": null,
   "id": "43a8a48a-b83d-43f0-a537-8eaceca73199",
   "metadata": {},
   "outputs": [],
   "source": [
    "x = np.zeros(10)\n",
    "np.add.at(x,i,1)\n",
    "print(x)"
   ]
  },
  {
   "cell_type": "raw",
   "id": "f9372d15-2a9f-4615-86c8-869448df0491",
   "metadata": {},
   "source": [
    "The at method does an in-place application of the given operator at the specified indicie(here its i) with the specifced value (1 here) "
   ]
  },
  {
   "cell_type": "markdown",
   "id": "2817b252-c86c-4e21-9b6e-8c7d6db58266",
   "metadata": {},
   "source": [
    "# Sorting arrays"
   ]
  },
  {
   "cell_type": "markdown",
   "id": "b90b5224-b2bb-4549-99b7-437e38d457eb",
   "metadata": {},
   "source": [
    "the np.sort is analogus to pythons sorted fucntion and will efficenlly retuen a sorted copy of an array"
   ]
  },
  {
   "cell_type": "code",
   "execution_count": null,
   "id": "bd53f939-2215-4f1a-87bb-756aa2731a50",
   "metadata": {},
   "outputs": [],
   "source": [
    "x = np.array([2,1,4,3,5])\n",
    "np.sort(x)"
   ]
  },
  {
   "cell_type": "raw",
   "id": "36b572a3-372e-432b-903e-2be83af13282",
   "metadata": {},
   "source": [
    "a realted func is arg sort, which instead retuens the indicies of the sorted elements:"
   ]
  },
  {
   "cell_type": "code",
   "execution_count": null,
   "id": "321f6ee7-1eaa-4f01-87a7-d64d04120cf3",
   "metadata": {},
   "outputs": [],
   "source": [
    "i = np.argsort(x)\n",
    "i"
   ]
  },
  {
   "cell_type": "code",
   "execution_count": null,
   "id": "d74a1eda-35ef-4923-8e35-79c1d226ca69",
   "metadata": {},
   "outputs": [],
   "source": [
    "x[i]"
   ]
  },
  {
   "cell_type": "raw",
   "id": "28cf2568-1112-4291-9838-e8fc2c55ec0a",
   "metadata": {},
   "source": [
    "the frist elemnt of argsort rertuens the index of the smllest index and the 2nd ives the index for 2nd smallest and so on"
   ]
  },
  {
   "cell_type": "code",
   "execution_count": null,
   "id": "e32ba07e-eed7-4bff-ad79-62a803b5b855",
   "metadata": {},
   "outputs": [],
   "source": []
  },
  {
   "cell_type": "raw",
   "id": "6d8cdff7-c783-4094-9b52-38bc637424b9",
   "metadata": {},
   "source": [
    "a usful feature of np's sorting algorithms is the ability to sort along specific rows or cols of a multidimensional array using the axis argument, ex:"
   ]
  },
  {
   "cell_type": "code",
   "execution_count": null,
   "id": "dded3589-3558-4dd4-9769-465865992bbc",
   "metadata": {},
   "outputs": [],
   "source": [
    "X=rng.integers(0,10,(4,6))\n",
    "X"
   ]
  },
  {
   "cell_type": "code",
   "execution_count": null,
   "id": "97d7e6f8-30ee-4707-8bd2-38b76fb39180",
   "metadata": {},
   "outputs": [],
   "source": [
    "np.sort(X, axis =0)"
   ]
  },
  {
   "cell_type": "raw",
   "id": "2eafb9a2-95fb-4cdb-9121-365ef0e321e5",
   "metadata": {},
   "source": [
    "sometimes were not isntea in sorting the whole arry but we just wnat to find the k smallest values in the array. np allows for us to do this  with the np.partition function. wich takesand array and a # k; the result is a new array with the smallest k vlaues to the left of the pariton and remaing vlaues to the right"
   ]
  },
  {
   "cell_type": "code",
   "execution_count": null,
   "id": "da3c5199-c79f-4c4f-ac7a-75e692064ef8",
   "metadata": {},
   "outputs": [],
   "source": [
    "x = np.array([7,2,3,1,6,5,4])\n",
    "np.partition(x,3)"
   ]
  },
  {
   "cell_type": "raw",
   "id": "924ee599-eb07-4c80-ad66-f77c016c8f89",
   "metadata": {},
   "source": [
    "note that thbe within the 2 partrionns, elemtns are in an arbitary order"
   ]
  },
  {
   "cell_type": "raw",
   "id": "261340c7-4a0b-4f08-bdc8-798e6fe2a695",
   "metadata": {},
   "source": [
    "Simialr to sorting, we cna parititpng laong an arbitary exis of a multidimensinal array:"
   ]
  },
  {
   "cell_type": "code",
   "execution_count": null,
   "id": "c0bcfcfc-ed60-4776-88a0-e26c54524fd8",
   "metadata": {},
   "outputs": [],
   "source": [
    "np.partition(X, 2, axis=1)"
   ]
  },
  {
   "cell_type": "raw",
   "id": "83f04cc5-f36f-4a49-9c28-d2d7f45eb044",
   "metadata": {},
   "source": [
    "resultign an arry wihch the first 2 vlaues in ech row are trhe rows min  with rem9ing vlaues filling in the rest o the sports"
   ]
  },
  {
   "cell_type": "markdown",
   "id": "60b47f39-8198-4ff0-aaee-e45c792a46eb",
   "metadata": {},
   "source": [
    "# Structured Data: Numpy's structured Arrays"
   ]
  },
  {
   "cell_type": "code",
   "execution_count": 429,
   "id": "40240c78-1399-496b-a49f-eec5a9767863",
   "metadata": {},
   "outputs": [
    {
     "name": "stdout",
     "output_type": "stream",
     "text": [
      "[('name', '<U10'), ('age', '<i4'), ('weight', '<f8')]\n"
     ]
    }
   ],
   "source": [
    "data = np.zeros(3, dtype={'names':('name', 'age', 'weight'),\n",
    "                          'formats':('U10', 'i4', 'f8')})\n",
    "print(data.dtype)"
   ]
  },
  {
   "cell_type": "code",
   "execution_count": 449,
   "id": "64f718de-a84e-4e16-b0ff-e9402a30248b",
   "metadata": {},
   "outputs": [],
   "source": [
    "name = ['a','b','c']\n",
    "age = [12,1344,24]\n",
    "weight=[22.0,85.5,20.12]\n",
    "data['name'] = name\n",
    "data['age'] = age\n",
    "data['weight'] = weight"
   ]
  },
  {
   "cell_type": "code",
   "execution_count": 451,
   "id": "e00f6640-75e2-4d70-829b-7eb2c666fa98",
   "metadata": {},
   "outputs": [
    {
     "name": "stdout",
     "output_type": "stream",
     "text": [
      "[('a',   12, 22.  ) ('b', 1344, 85.5 ) ('c',   24, 20.12)]\n",
      "['a' 'b' 'c']\n",
      "('a', 12, 22.)\n",
      "('b', 1344, 85.5)\n"
     ]
    }
   ],
   "source": [
    "print(data)\n",
    "print(data['name'])\n",
    "print(data[0])\n",
    "print(data[1])"
   ]
  },
  {
   "cell_type": "code",
   "execution_count": 455,
   "id": "e6e64840-2347-4f4e-a05c-f1813ecb21de",
   "metadata": {},
   "outputs": [
    {
     "data": {
      "text/plain": [
       "array(['b', 'c'], dtype='<U10')"
      ]
     },
     "execution_count": 455,
     "metadata": {},
     "output_type": "execute_result"
    }
   ],
   "source": [
    "data[data['age'] > 14]['name']"
   ]
  },
  {
   "cell_type": "code",
   "execution_count": null,
   "id": "fd812a79-9ab8-4ca6-b8a1-9b1953c99983",
   "metadata": {},
   "outputs": [],
   "source": []
  },
  {
   "cell_type": "code",
   "execution_count": 469,
   "id": "53008a26-daa8-4cce-a5a7-3604edd9ae00",
   "metadata": {},
   "outputs": [
    {
     "name": "stdout",
     "output_type": "stream",
     "text": [
      "[(0, [[0., 0., 0.], [0., 0., 0.], [0., 0., 0.]])]\n"
     ]
    }
   ],
   "source": [
    "tp = np.dtype([('id', 'i8'), ('mat', 'f8', (3,3))])\n",
    "x = np.zeros(1,dtype=tp)\n",
    "print(x)"
   ]
  },
  {
   "cell_type": "code",
   "execution_count": 475,
   "id": "98abfb22-613b-4fa1-9c29-d03bc4b163e5",
   "metadata": {},
   "outputs": [
    {
     "name": "stdout",
     "output_type": "stream",
     "text": [
      "[[[0. 0. 0.]\n",
      "  [0. 0. 0.]\n",
      "  [0. 0. 0.]]]\n"
     ]
    }
   ],
   "source": [
    "print(x['mat'])"
   ]
  },
  {
   "cell_type": "markdown",
   "id": "f14e9f36-59d1-4340-9a7c-31e43771ddb2",
   "metadata": {},
   "source": [
    "You're creating a custom structured NumPy data type with two fields: \"[('id', 'i8'), ('mat', 'f8', (3,3))]\"\n",
    "'id': a scalar 64-bit signed integer ('i8').\n",
    "'mat': a 3×3 matrix of 64-bit floats ('f8' is float64, and (3,3) is the shape of the sub-array).\n",
    "tp now defines one \"record\" with:An integer field called id, A 3×3 array field called mat"
   ]
  },
  {
   "cell_type": "markdown",
   "id": "6599d957-a814-43ac-b430-491ffa8b4db8",
   "metadata": {},
   "source": [
    "This creates:\n",
    "A structured array with 1 record.\n",
    "Each record has:\n",
    "'id': an integer\n",
    "'mat': a 3×3 array of float64, initialized to all zeros"
   ]
  },
  {
   "cell_type": "markdown",
   "id": "4d50ee08-8310-4acb-8e2c-0544146d8607",
   "metadata": {},
   "source": [
    "# PANDAS section"
   ]
  },
  {
   "cell_type": "code",
   "execution_count": 484,
   "id": "9c884143-0948-42a8-aade-1f12da2028b8",
   "metadata": {},
   "outputs": [
    {
     "data": {
      "text/plain": [
       "'2.2.2'"
      ]
     },
     "execution_count": 484,
     "metadata": {},
     "output_type": "execute_result"
    }
   ],
   "source": [
    "import pandas as pd\n",
    "pandas.__version__"
   ]
  },
  {
   "cell_type": "code",
   "execution_count": null,
   "id": "7a751d79-4779-409b-8301-5f711be09b7a",
   "metadata": {},
   "outputs": [],
   "source": []
  },
  {
   "cell_type": "code",
   "execution_count": null,
   "id": "5944a472-f695-41da-981e-b9d76879ad2b",
   "metadata": {},
   "outputs": [],
   "source": []
  },
  {
   "cell_type": "code",
   "execution_count": null,
   "id": "df671a3c-6673-4f50-ac14-3100a97ab1a2",
   "metadata": {},
   "outputs": [],
   "source": []
  },
  {
   "cell_type": "code",
   "execution_count": null,
   "id": "1fdf9b6d-6257-4b28-814b-882fef05ca27",
   "metadata": {},
   "outputs": [],
   "source": []
  },
  {
   "cell_type": "code",
   "execution_count": null,
   "id": "fdf73c60-d94b-4ed1-b7d3-a3a9e9f04176",
   "metadata": {},
   "outputs": [],
   "source": []
  },
  {
   "cell_type": "code",
   "execution_count": null,
   "id": "7a282d6e-6550-4b4e-bce8-c97901bfaa40",
   "metadata": {},
   "outputs": [],
   "source": []
  },
  {
   "cell_type": "code",
   "execution_count": null,
   "id": "87de14b3-535c-4a63-bc8b-2edffc9e6e05",
   "metadata": {},
   "outputs": [],
   "source": []
  },
  {
   "cell_type": "code",
   "execution_count": null,
   "id": "3641a2dd-8d40-4449-be3e-990d698a9c0e",
   "metadata": {},
   "outputs": [],
   "source": []
  },
  {
   "cell_type": "code",
   "execution_count": null,
   "id": "dff0abf9-d73e-4152-92d7-47d05e6e2d44",
   "metadata": {},
   "outputs": [],
   "source": []
  },
  {
   "cell_type": "code",
   "execution_count": null,
   "id": "9861c52f-07e5-45d2-b5df-3a0060a23102",
   "metadata": {},
   "outputs": [],
   "source": []
  },
  {
   "cell_type": "code",
   "execution_count": null,
   "id": "44aba0f5-edd9-40ef-913e-e3933977889e",
   "metadata": {},
   "outputs": [],
   "source": []
  },
  {
   "cell_type": "code",
   "execution_count": null,
   "id": "fabe5bb2-3f81-41ee-9bf4-53956d865bd7",
   "metadata": {},
   "outputs": [],
   "source": []
  },
  {
   "cell_type": "code",
   "execution_count": null,
   "id": "f92e10ac-33e6-4764-94fb-73bf77bff0e9",
   "metadata": {},
   "outputs": [],
   "source": []
  },
  {
   "cell_type": "code",
   "execution_count": null,
   "id": "ce041f02-cc1a-4142-95d7-b2ba55c297a3",
   "metadata": {},
   "outputs": [],
   "source": []
  },
  {
   "cell_type": "code",
   "execution_count": null,
   "id": "1192dc44-9b72-423d-9d20-42704835b0c7",
   "metadata": {},
   "outputs": [],
   "source": []
  },
  {
   "cell_type": "code",
   "execution_count": null,
   "id": "ca96233a-26b5-47d0-ab10-01b69a505e5a",
   "metadata": {},
   "outputs": [],
   "source": []
  },
  {
   "cell_type": "code",
   "execution_count": null,
   "id": "8861ca7e-b8da-4be9-b51d-7b1230fde020",
   "metadata": {},
   "outputs": [],
   "source": []
  },
  {
   "cell_type": "code",
   "execution_count": null,
   "id": "51a693d5-17b1-404d-ba8b-850f6e12b3c3",
   "metadata": {},
   "outputs": [],
   "source": []
  },
  {
   "cell_type": "code",
   "execution_count": null,
   "id": "9d3d84f4-f793-409d-bdd7-4adbe0650a5c",
   "metadata": {},
   "outputs": [],
   "source": []
  },
  {
   "cell_type": "code",
   "execution_count": null,
   "id": "1dce3742-d50d-4d42-8f29-569d68039193",
   "metadata": {},
   "outputs": [],
   "source": []
  },
  {
   "cell_type": "code",
   "execution_count": null,
   "id": "f5132d74-d665-4bd3-9822-336d7639b369",
   "metadata": {},
   "outputs": [],
   "source": []
  }
 ],
 "metadata": {
  "kernelspec": {
   "display_name": "Python [conda env:base] *",
   "language": "python",
   "name": "conda-base-py"
  },
  "language_info": {
   "codemirror_mode": {
    "name": "ipython",
    "version": 3
   },
   "file_extension": ".py",
   "mimetype": "text/x-python",
   "name": "python",
   "nbconvert_exporter": "python",
   "pygments_lexer": "ipython3",
   "version": "3.12.7"
  }
 },
 "nbformat": 4,
 "nbformat_minor": 5
}
